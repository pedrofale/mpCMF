{
 "cells": [
  {
   "cell_type": "code",
   "execution_count": 1,
   "metadata": {},
   "outputs": [],
   "source": [
    "import pandas as pd\n",
    "import numpy as np\n",
    "\n",
    "from sklearn.model_selection import train_test_split\n",
    "import scipy.sparse\n",
    "import scipy.io\n",
    "import matplotlib.pyplot as plt\n",
    "%matplotlib inline\n",
    "from sklearn.metrics import silhouette_score\n",
    "\n",
    "\n",
    "from sklearn.decomposition import PCA\n",
    "from sklearn.preprocessing import OneHotEncoder"
   ]
  },
  {
   "cell_type": "code",
   "execution_count": null,
   "metadata": {},
   "outputs": [],
   "source": [
    "data_path = '../data/RETINA/'"
   ]
  },
  {
   "cell_type": "code",
   "execution_count": null,
   "metadata": {},
   "outputs": [],
   "source": [
    "# load clusters from author\n",
    "clusters = pd.read_csv(data_path + \"ClustAssignFile.txt\", index_col=0, sep=\"\\t\")[[\"CLUSTER\"]]\n",
    "clusters = clusters[clusters.CLUSTER <= 15]\n",
    "\n",
    "# load batch info from online\n",
    "batch_id = pd.read_csv(data_path + \"batch_id.csv\", index_col=0)\n",
    "encoder = OneHotEncoder()\n",
    "batch = encoder.fit_transform(batch_id)\n",
    "batch_id = batch_id.values[:, 0]\n",
    "\n",
    "# load barcodes, combat and expression data from online\n",
    "barcodes = [x[0] for x in pd.read_csv(data_path + \"barcodes.csv\", index_col=0).values.astype(np.str)]\n",
    "expression = scipy.io.mmread(data_path + \"count.mtx\").T.A\n",
    "pca_combat = pd.read_csv(data_path + \"pca_combat.csv\", index_col=0)\n",
    "\n",
    "# slice to only cells from identified cell_types\n",
    "expression = pd.DataFrame(data = expression, index=barcodes).loc[clusters.index]\n",
    "batch_id = pd.DataFrame(data = batch_id, index=barcodes).loc[clusters.index]\n",
    "pca_combat = pd.DataFrame(data = pca_combat, index=barcodes).loc[clusters.index]\n",
    "clusters = np.array([x[0] for x in clusters.values])\n",
    "print(expression.shape , pca_combat.shape, batch.shape, clusters.shape)"
   ]
  },
  {
   "cell_type": "code",
   "execution_count": null,
   "metadata": {},
   "outputs": [],
   "source": [
    "np.unique(clusters)"
   ]
  },
  {
   "cell_type": "code",
   "execution_count": null,
   "metadata": {},
   "outputs": [],
   "source": [
    "expression_train, expression_test, combat_train, combat_test, b_train, b_test, c_train, c_test = \\\n",
    "                train_test_split(expression.as_matrix(), pca_combat.as_matrix(), batch_id.as_matrix(), \\\n",
    "                                 clusters, random_state=0)"
   ]
  },
  {
   "cell_type": "code",
   "execution_count": null,
   "metadata": {},
   "outputs": [],
   "source": [
    "scipy.sparse.save_npz(data_path + \"data_train.npz\", scipy.sparse.coo_matrix(expression_train))\n",
    "scipy.sparse.save_npz(data_path + \"data_test.npz\", scipy.sparse.coo_matrix(expression_test))\n",
    "\n",
    "np.savetxt(data_path + \"batch_train\", b_train)\n",
    "np.savetxt(data_path + \"batch_test\", b_test)\n",
    "\n",
    "np.savetxt(data_path + \"combat_train\", combat_train)\n",
    "np.savetxt(data_path + \"combat_test\", combat_test)\n",
    "\n",
    "np.savetxt(data_path + \"c_train\", c_train)\n",
    "np.savetxt(data_path + \"c_test\", c_test)"
   ]
  }
 ],
 "metadata": {
  "kernelspec": {
   "display_name": "Python 3",
   "language": "python",
   "name": "python3"
  },
  "language_info": {
   "codemirror_mode": {
    "name": "ipython",
    "version": 3
   },
   "file_extension": ".py",
   "mimetype": "text/x-python",
   "name": "python",
   "nbconvert_exporter": "python",
   "pygments_lexer": "ipython3",
   "version": "3.6.3"
  }
 },
 "nbformat": 4,
 "nbformat_minor": 2
}
