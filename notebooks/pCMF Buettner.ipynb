{
 "cells": [
  {
   "cell_type": "markdown",
   "metadata": {},
   "source": [
    "# Testing Zero-Inflated Count Matrix Factorization in Buettner data "
   ]
  },
  {
   "cell_type": "code",
   "execution_count": 21,
   "metadata": {},
   "outputs": [],
   "source": [
    "from pCMF.misc import utils, plot_utils, print_utils\n",
    "from pCMF.misc.model_wrapper import ModelWrapper\n",
    "from pCMF.models.pcmf import pcmf\n",
    "\n",
    "import matplotlib.pyplot as plt\n",
    "from matplotlib.pyplot import cm\n",
    "import numpy as np\n",
    "from sklearn.decomposition import PCA\n",
    "from sklearn.manifold import TSNE\n",
    "from sklearn.model_selection import train_test_split\n",
    "\n",
    "import pandas as pd\n",
    "from scipy.stats import gamma\n",
    "\n",
    "import operator\n",
    "import seaborn as sns\n",
    "sns.set_style('whitegrid')\n",
    "\n",
    "%matplotlib inline"
   ]
  },
  {
   "cell_type": "code",
   "execution_count": 22,
   "metadata": {},
   "outputs": [],
   "source": [
    "expression_path = '../data/Buettner/expression.csv'\n",
    "labels_path = '../data/Buettner/labels.csv'"
   ]
  },
  {
   "cell_type": "code",
   "execution_count": 23,
   "metadata": {},
   "outputs": [],
   "source": [
    "X_log, y = pd.read_csv(expression_path), pd.read_csv(labels_path)"
   ]
  },
  {
   "cell_type": "code",
   "execution_count": 24,
   "metadata": {},
   "outputs": [
    {
     "data": {
      "text/plain": [
       "(8989, 183)"
      ]
     },
     "execution_count": 24,
     "metadata": {},
     "output_type": "execute_result"
    }
   ],
   "source": [
    "X_log.shape"
   ]
  },
  {
   "cell_type": "code",
   "execution_count": 25,
   "metadata": {},
   "outputs": [
    {
     "data": {
      "text/html": [
       "<div>\n",
       "<style scoped>\n",
       "    .dataframe tbody tr th:only-of-type {\n",
       "        vertical-align: middle;\n",
       "    }\n",
       "\n",
       "    .dataframe tbody tr th {\n",
       "        vertical-align: top;\n",
       "    }\n",
       "\n",
       "    .dataframe thead th {\n",
       "        text-align: right;\n",
       "    }\n",
       "</style>\n",
       "<table border=\"1\" class=\"dataframe\">\n",
       "  <thead>\n",
       "    <tr style=\"text-align: right;\">\n",
       "      <th></th>\n",
       "      <th>Unnamed: 0</th>\n",
       "      <th>1</th>\n",
       "      <th>2</th>\n",
       "      <th>3</th>\n",
       "      <th>4</th>\n",
       "      <th>5</th>\n",
       "      <th>6</th>\n",
       "      <th>7</th>\n",
       "      <th>8</th>\n",
       "      <th>9</th>\n",
       "      <th>...</th>\n",
       "      <th>173</th>\n",
       "      <th>174</th>\n",
       "      <th>175</th>\n",
       "      <th>176</th>\n",
       "      <th>177</th>\n",
       "      <th>178</th>\n",
       "      <th>179</th>\n",
       "      <th>180</th>\n",
       "      <th>181</th>\n",
       "      <th>182</th>\n",
       "    </tr>\n",
       "  </thead>\n",
       "  <tbody>\n",
       "    <tr>\n",
       "      <th>0</th>\n",
       "      <td>1</td>\n",
       "      <td>1.7363</td>\n",
       "      <td>0.73528</td>\n",
       "      <td>2.1394</td>\n",
       "      <td>1.50450</td>\n",
       "      <td>2.80570</td>\n",
       "      <td>2.5329</td>\n",
       "      <td>2.71240</td>\n",
       "      <td>0.23202</td>\n",
       "      <td>3.02960</td>\n",
       "      <td>...</td>\n",
       "      <td>2.9572</td>\n",
       "      <td>3.3816</td>\n",
       "      <td>1.52370</td>\n",
       "      <td>2.7699</td>\n",
       "      <td>3.41440</td>\n",
       "      <td>2.33600</td>\n",
       "      <td>2.37460</td>\n",
       "      <td>3.2444</td>\n",
       "      <td>0.54045</td>\n",
       "      <td>0.0000</td>\n",
       "    </tr>\n",
       "    <tr>\n",
       "      <th>1</th>\n",
       "      <td>2</td>\n",
       "      <td>2.5923</td>\n",
       "      <td>0.99441</td>\n",
       "      <td>1.7607</td>\n",
       "      <td>1.66730</td>\n",
       "      <td>0.73876</td>\n",
       "      <td>2.9683</td>\n",
       "      <td>2.74050</td>\n",
       "      <td>2.69670</td>\n",
       "      <td>2.73080</td>\n",
       "      <td>...</td>\n",
       "      <td>2.8194</td>\n",
       "      <td>2.8160</td>\n",
       "      <td>2.82040</td>\n",
       "      <td>2.9004</td>\n",
       "      <td>2.84250</td>\n",
       "      <td>2.62380</td>\n",
       "      <td>0.00000</td>\n",
       "      <td>2.9396</td>\n",
       "      <td>2.69260</td>\n",
       "      <td>0.0000</td>\n",
       "    </tr>\n",
       "    <tr>\n",
       "      <th>2</th>\n",
       "      <td>3</td>\n",
       "      <td>0.0000</td>\n",
       "      <td>0.00000</td>\n",
       "      <td>0.0000</td>\n",
       "      <td>0.00000</td>\n",
       "      <td>0.00000</td>\n",
       "      <td>0.0000</td>\n",
       "      <td>0.00000</td>\n",
       "      <td>0.00000</td>\n",
       "      <td>0.00000</td>\n",
       "      <td>...</td>\n",
       "      <td>0.0000</td>\n",
       "      <td>0.0000</td>\n",
       "      <td>0.00000</td>\n",
       "      <td>0.0000</td>\n",
       "      <td>0.00000</td>\n",
       "      <td>0.00000</td>\n",
       "      <td>0.00000</td>\n",
       "      <td>0.0000</td>\n",
       "      <td>0.00000</td>\n",
       "      <td>0.0000</td>\n",
       "    </tr>\n",
       "    <tr>\n",
       "      <th>3</th>\n",
       "      <td>4</td>\n",
       "      <td>0.0000</td>\n",
       "      <td>0.00000</td>\n",
       "      <td>2.7896</td>\n",
       "      <td>0.46165</td>\n",
       "      <td>0.00000</td>\n",
       "      <td>0.0000</td>\n",
       "      <td>1.37060</td>\n",
       "      <td>0.23202</td>\n",
       "      <td>0.39723</td>\n",
       "      <td>...</td>\n",
       "      <td>2.6859</td>\n",
       "      <td>2.8768</td>\n",
       "      <td>0.35140</td>\n",
       "      <td>1.8513</td>\n",
       "      <td>2.98300</td>\n",
       "      <td>0.89488</td>\n",
       "      <td>2.02000</td>\n",
       "      <td>2.3495</td>\n",
       "      <td>0.00000</td>\n",
       "      <td>0.0000</td>\n",
       "    </tr>\n",
       "    <tr>\n",
       "      <th>4</th>\n",
       "      <td>5</td>\n",
       "      <td>1.1269</td>\n",
       "      <td>0.00000</td>\n",
       "      <td>1.2235</td>\n",
       "      <td>0.61892</td>\n",
       "      <td>0.60059</td>\n",
       "      <td>1.2013</td>\n",
       "      <td>0.38103</td>\n",
       "      <td>0.00000</td>\n",
       "      <td>0.84408</td>\n",
       "      <td>...</td>\n",
       "      <td>2.1448</td>\n",
       "      <td>1.3591</td>\n",
       "      <td>0.98774</td>\n",
       "      <td>2.0100</td>\n",
       "      <td>0.96259</td>\n",
       "      <td>0.00000</td>\n",
       "      <td>0.96068</td>\n",
       "      <td>0.0000</td>\n",
       "      <td>2.53400</td>\n",
       "      <td>2.9595</td>\n",
       "    </tr>\n",
       "  </tbody>\n",
       "</table>\n",
       "<p>5 rows × 183 columns</p>\n",
       "</div>"
      ],
      "text/plain": [
       "   Unnamed: 0       1        2       3        4        5       6        7  \\\n",
       "0           1  1.7363  0.73528  2.1394  1.50450  2.80570  2.5329  2.71240   \n",
       "1           2  2.5923  0.99441  1.7607  1.66730  0.73876  2.9683  2.74050   \n",
       "2           3  0.0000  0.00000  0.0000  0.00000  0.00000  0.0000  0.00000   \n",
       "3           4  0.0000  0.00000  2.7896  0.46165  0.00000  0.0000  1.37060   \n",
       "4           5  1.1269  0.00000  1.2235  0.61892  0.60059  1.2013  0.38103   \n",
       "\n",
       "         8        9   ...       173     174      175     176      177  \\\n",
       "0  0.23202  3.02960   ...    2.9572  3.3816  1.52370  2.7699  3.41440   \n",
       "1  2.69670  2.73080   ...    2.8194  2.8160  2.82040  2.9004  2.84250   \n",
       "2  0.00000  0.00000   ...    0.0000  0.0000  0.00000  0.0000  0.00000   \n",
       "3  0.23202  0.39723   ...    2.6859  2.8768  0.35140  1.8513  2.98300   \n",
       "4  0.00000  0.84408   ...    2.1448  1.3591  0.98774  2.0100  0.96259   \n",
       "\n",
       "       178      179     180      181     182  \n",
       "0  2.33600  2.37460  3.2444  0.54045  0.0000  \n",
       "1  2.62380  0.00000  2.9396  2.69260  0.0000  \n",
       "2  0.00000  0.00000  0.0000  0.00000  0.0000  \n",
       "3  0.89488  2.02000  2.3495  0.00000  0.0000  \n",
       "4  0.00000  0.96068  0.0000  2.53400  2.9595  \n",
       "\n",
       "[5 rows x 183 columns]"
      ]
     },
     "execution_count": 25,
     "metadata": {},
     "output_type": "execute_result"
    }
   ],
   "source": [
    "X_log.head()"
   ]
  },
  {
   "cell_type": "code",
   "execution_count": 26,
   "metadata": {},
   "outputs": [],
   "source": [
    "X_log = X_log.drop(X_log.columns[0], axis=1)"
   ]
  },
  {
   "cell_type": "code",
   "execution_count": 27,
   "metadata": {},
   "outputs": [
    {
     "data": {
      "text/plain": [
       "(8989, 182)"
      ]
     },
     "execution_count": 27,
     "metadata": {},
     "output_type": "execute_result"
    }
   ],
   "source": [
    "X_log.shape"
   ]
  },
  {
   "cell_type": "code",
   "execution_count": 28,
   "metadata": {},
   "outputs": [],
   "source": [
    "X_log = np.array(X_log.T)"
   ]
  },
  {
   "cell_type": "code",
   "execution_count": 29,
   "metadata": {},
   "outputs": [],
   "source": [
    "y = y.drop(y.columns[0], axis=1)"
   ]
  },
  {
   "cell_type": "code",
   "execution_count": 30,
   "metadata": {},
   "outputs": [],
   "source": [
    "y = np.array(y).ravel()"
   ]
  },
  {
   "cell_type": "markdown",
   "metadata": {},
   "source": [
    "## Look at the normalized log-counts distribution"
   ]
  },
  {
   "cell_type": "code",
   "execution_count": 58,
   "metadata": {},
   "outputs": [
    {
     "data": {
      "image/png": "[encoded data removed]",
      "text/plain": [
       "<Figure size 432x288 with 1 Axes>"
      ]
     },
     "metadata": {},
     "output_type": "display_data"
    }
   ],
   "source": [
    "sortedex = np.sort(X_log.flatten())[:int(0.9*X_log.size)]\n",
    "\n",
    "bins = np.linspace(0, sortedex.max(), num=50)\n",
    "\n",
    "plt.hist(sortedex, bins)\n",
    "plt.title('Normalized log-counts')\n",
    "plt.show()"
   ]
  },
  {
   "cell_type": "code",
   "execution_count": 48,
   "metadata": {},
   "outputs": [],
   "source": [
    "X = np.exp(X_log) - 1"
   ]
  },
  {
   "cell_type": "code",
   "execution_count": 49,
   "metadata": {},
   "outputs": [],
   "source": [
    "X = np.round(X)"
   ]
  },
  {
   "cell_type": "code",
   "execution_count": 57,
   "metadata": {},
   "outputs": [
    {
     "data": {
      "image/png": "[encoded data removed]",
      "text/plain": [
       "<Figure size 432x288 with 1 Axes>"
      ]
     },
     "metadata": {},
     "output_type": "display_data"
    }
   ],
   "source": [
    "sortedex = np.sort(X.flatten())[:int(0.9*X.size)]\n",
    "\n",
    "bins = np.linspace(0, sortedex.max(), num=50)\n",
    "\n",
    "plt.hist(sortedex, bins)\n",
    "plt.title('Normalized (rounded) counts')\n",
    "plt.show()"
   ]
  },
  {
   "cell_type": "code",
   "execution_count": 59,
   "metadata": {},
   "outputs": [
    {
     "name": "stdout",
     "output_type": "stream",
     "text": [
      "Running PCA...\n",
      "Done.\n",
      "\n"
     ]
    }
   ],
   "source": [
    "# Run PCA\n",
    "print('Running PCA...')\n",
    "obj = PCA(n_components=10)\n",
    "pca = ModelWrapper(X_log, y, name='PCA')\n",
    "pca.run(obj.fit_transform)\n",
    "print('Done.\\n')"
   ]
  },
  {
   "cell_type": "code",
   "execution_count": 61,
   "metadata": {},
   "outputs": [
    {
     "data": {
      "image/png": "[encoded data removed]",
      "text/plain": [
       "<Figure size 432x288 with 1 Axes>"
      ]
     },
     "metadata": {},
     "output_type": "display_data"
    }
   ],
   "source": [
    "plot_utils.plot_tsne(pca.proj_2d, pca.c_train)"
   ]
  },
  {
   "cell_type": "code",
   "execution_count": 79,
   "metadata": {},
   "outputs": [],
   "source": [
    "T = 60 * 20\n",
    "S = 1\n",
    "max_iter = 1000"
   ]
  },
  {
   "cell_type": "code",
   "execution_count": 80,
   "metadata": {},
   "outputs": [
    {
     "name": "stdout",
     "output_type": "stream",
     "text": [
      "Running PCMF...\n",
      "CAVI-EB:\n",
      "Considering zero-inflated counts.\n",
      "Considering loading sparsity.\n",
      "Running CAVI-EB...\n",
      "Iteration 13/1000. Log-likelihood: -57.831. Elapsed: 0h20m23s\n",
      "Done.\n",
      "\n"
     ]
    }
   ],
   "source": [
    "print('Running PCMF...')\n",
    "cavi = pcmf.PCMF(X, y)\n",
    "cavi.run(max_iter=max_iter, max_time=T, sampling_rate=S, do_imp=False, do_holl=False, do_dll=False, verbose=True)\n",
    "print('Done.\\n')"
   ]
  },
  {
   "cell_type": "code",
   "execution_count": 81,
   "metadata": {},
   "outputs": [
    {
     "data": {
      "image/png": "[encoded data removed]",
      "text/plain": [
       "<Figure size 432x288 with 1 Axes>"
      ]
     },
     "metadata": {},
     "output_type": "display_data"
    }
   ],
   "source": [
    "plot_utils.plot_model_convergence([cavi], 'll_it')"
   ]
  },
  {
   "cell_type": "code",
   "execution_count": 82,
   "metadata": {},
   "outputs": [
    {
     "name": "stdout",
     "output_type": "stream",
     "text": [
      "Silhouette scores:\n",
      "\u001b[1m- PCA: 0.158295\u001b[0m\n",
      "- CAVI-EB: -0.158704\n"
     ]
    }
   ],
   "source": [
    "print_utils.print_model_silhouettes([cavi, pca])"
   ]
  },
  {
   "cell_type": "code",
   "execution_count": 83,
   "metadata": {},
   "outputs": [
    {
     "data": {
      "image/png": "[encoded data removed]",
      "text/plain": [
       "<Figure size 1008x288 with 2 Axes>"
      ]
     },
     "metadata": {},
     "output_type": "display_data"
    }
   ],
   "source": [
    "fig = plt.figure(figsize=(14, 4))\n",
    "ax = plt.axes()\n",
    "plot_utils.plot_sorted_tsnes([pca, cavi], y, ax=ax)\n",
    "plt.show()"
   ]
  }
 ],
 "metadata": {
  "kernelspec": {
   "display_name": "Python 3",
   "language": "python",
   "name": "python3"
  },
  "language_info": {
   "codemirror_mode": {
    "name": "ipython",
    "version": 3
   },
   "file_extension": ".py",
   "mimetype": "text/x-python",
   "name": "python",
   "nbconvert_exporter": "python",
   "pygments_lexer": "ipython3",
   "version": "3.6.3"
  }
 },
 "nbformat": 4,
 "nbformat_minor": 2
}
