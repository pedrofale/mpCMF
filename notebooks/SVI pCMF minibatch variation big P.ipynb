{
 "cells": [
  {
   "cell_type": "markdown",
   "metadata": {},
   "source": [
    "# SVI minibatch variation for big P"
   ]
  },
  {
   "cell_type": "code",
   "execution_count": 1,
   "metadata": {},
   "outputs": [],
   "source": [
    "from pCMF.misc import utils\n",
    "from pCMF.models.pcmf.inferences import cavi_new, svi_new\n",
    "\n",
    "import matplotlib.pyplot as plt\n",
    "from matplotlib.pyplot import cm\n",
    "import numpy as np\n",
    "from sklearn.decomposition import PCA\n",
    "from sklearn.manifold import TSNE\n",
    "from sklearn.metrics import silhouette_score\n",
    "from sklearn.model_selection import train_test_split\n",
    "\n",
    "from scipy.stats import gamma\n",
    "\n",
    "import operator\n",
    "import seaborn as sns\n",
    "sns.set_style('whitegrid')"
   ]
  },
  {
   "cell_type": "code",
   "execution_count": 2,
   "metadata": {},
   "outputs": [],
   "source": [
    "# Experiment parameters\n",
    "N = 1000 # number of observations\n",
    "P = 500 # observation space dimensionality\n",
    "K = 10 # latent space dimensionality\n",
    "C = 2 # number of clusters\n",
    "\n",
    "# Generate data set\n",
    "z_p = 0.5\n",
    "eps = 5.\n",
    "Y, D, X, R, V, U, clusters = utils.generate_data(N, P, K, C=C, zero_prob=z_p,\n",
    "                                                 eps=eps, return_all=True)\n",
    "\n",
    "Y_train, Y_test, U_train, U_test, c_train, c_test = train_test_split(Y, U.T, clusters, test_size=0.2, random_state=42)"
   ]
  },
  {
   "cell_type": "code",
   "execution_count": 3,
   "metadata": {},
   "outputs": [],
   "source": [
    "T = 60. * 10\n",
    "S = 15."
   ]
  },
  {
   "cell_type": "code",
   "execution_count": 4,
   "metadata": {},
   "outputs": [],
   "source": [
    "# Run PCA\n",
    "pca_U = PCA(n_components=K).fit_transform(np.log(Y_train + 1.))\n",
    "pca_tsne = TSNE(n_components=2).fit_transform(pca_U)"
   ]
  },
  {
   "cell_type": "code",
   "execution_count": 5,
   "metadata": {},
   "outputs": [
    {
     "name": "stdout",
     "output_type": "stream",
     "text": [
      "CAVI:\n",
      "Iteration 9/4000. Log-likelihood: -1.884. Elapsed: 650 seconds\n"
     ]
    }
   ],
   "source": [
    "# Run CAVI and get estimates (pCMF)\n",
    "alpha = np.ones((2, K))\n",
    "alpha[0, :] = 3.\n",
    "alpha[1, :] = 0.5\n",
    "beta = np.ones((2, P, K))\n",
    "pi_D = np.ones((P,)) * 0.5\n",
    "print('CAVI:')\n",
    "infcavi = cavi_new.CoordinateAscentVI(Y_train, alpha, beta, pi_D=pi_D, empirical_bayes=False)\n",
    "infcavi.run(n_iterations=4000, calc_ll=True, calc_silh=True, clusters=c_train, sampling_rate=S, max_time=T)\n",
    "cavi_U = infcavi.a[0] / infcavi.a[1] # VI estimate is the mean of the variational approximation\n",
    "cavi_V = infcavi.b[0] / infcavi.b[1]\n",
    "cavi_tsne = TSNE(n_components=2).fit_transform(cavi_U)"
   ]
  },
  {
   "cell_type": "code",
   "execution_count": 6,
   "metadata": {},
   "outputs": [
    {
     "name": "stdout",
     "output_type": "stream",
     "text": [
      "SVI-1:\n",
      "Iteration 2335/4000000. Log-likelihood: -5.306. Elapsed: 600 secondss\n"
     ]
    }
   ],
   "source": [
    "# Run SVI and get estimates (pCMF)\n",
    "alpha = np.ones((2, K))\n",
    "alpha[0, :] = 3.\n",
    "alpha[1, :] = 0.5\n",
    "beta = np.ones((2, P, K))\n",
    "pi_D = np.ones((P,)) * 0.5\n",
    "print('SVI-1:')\n",
    "infsvi1 = svi_new.StochasticVI(Y_train, alpha, beta, pi_D=pi_D, minibatch_size=1, empirical_bayes=False)\n",
    "infsvi1.run(n_iterations=4000000, calc_ll=True, calc_silh=True, clusters=c_train, sampling_rate=S, max_time=T)\n",
    "svi1_U = infsvi1.a[0] / infsvi1.a[1] # VI estimate is the mean of the variational approximation\n",
    "svi1_V = infsvi1.b[0] / infsvi1.b[1]\n",
    "svi1_tsne = TSNE(n_components=2).fit_transform(svi1_U)"
   ]
  },
  {
   "cell_type": "code",
   "execution_count": 7,
   "metadata": {},
   "outputs": [
    {
     "name": "stdout",
     "output_type": "stream",
     "text": [
      "SVI-50:\n",
      "Iteration 109/4000000. Log-likelihood: -1.976. Elapsed: 605 seconds\n"
     ]
    }
   ],
   "source": [
    "# Run SVI and get estimates (pCMF)\n",
    "alpha = np.ones((2, K))\n",
    "alpha[0, :] = 3.\n",
    "alpha[1, :] = 0.5\n",
    "beta = np.ones((2, P, K))\n",
    "pi_D = np.ones((P,)) * 0.5\n",
    "print('SVI-50:')\n",
    "infsvi50 = svi_new.StochasticVI(Y_train, alpha, beta, pi_D=pi_D, minibatch_size=50, empirical_bayes=False)\n",
    "infsvi50.run(n_iterations=4000000, calc_ll=True, calc_silh=True, clusters=c_train, sampling_rate=S, max_time=T)\n",
    "svi50_U = infsvi50.a[0] / infsvi50.a[1] # VI estimate is the mean of the variational approximation\n",
    "svi50_V = infsvi50.b[0] / infsvi50.b[1]\n",
    "svi50_tsne = TSNE(n_components=2).fit_transform(svi50_U)"
   ]
  },
  {
   "cell_type": "code",
   "execution_count": 8,
   "metadata": {},
   "outputs": [
    {
     "name": "stdout",
     "output_type": "stream",
     "text": [
      "SVI-100:\n",
      "Iteration 55/4000000. Log-likelihood: -1.905. Elapsed: 604 seconds\n"
     ]
    }
   ],
   "source": [
    "# Run SVI and get estimates (pCMF)\n",
    "alpha = np.ones((2, K))\n",
    "alpha[0, :] = 3.\n",
    "alpha[1, :] = 0.5\n",
    "beta = np.ones((2, P, K))\n",
    "pi_D = np.ones((P,)) * 0.5\n",
    "print('SVI-100:')\n",
    "infsvi100 = svi_new.StochasticVI(Y_train, alpha, beta, pi_D=pi_D, minibatch_size=100, empirical_bayes=False)\n",
    "infsvi100.run(n_iterations=4000000, calc_ll=True, calc_silh=True, clusters=c_train, sampling_rate=S, max_time=T)\n",
    "svi100_U = infsvi100.a[0] / infsvi100.a[1] # VI estimate is the mean of the variational approximation\n",
    "svi100_V = infsvi100.b[0] / infsvi100.b[1]\n",
    "svi100_tsne = TSNE(n_components=2).fit_transform(svi100_U)"
   ]
  },
  {
   "cell_type": "code",
   "execution_count": 9,
   "metadata": {},
   "outputs": [
    {
     "name": "stdout",
     "output_type": "stream",
     "text": [
      "SVI-500:\n",
      "Iteration 11/4000000. Log-likelihood: -1.909. Elapsed: 645 seconds\n"
     ]
    }
   ],
   "source": [
    "# Run SVI and get estimates (pCMF)\n",
    "alpha = np.ones((2, K))\n",
    "alpha[0, :] = 3.\n",
    "alpha[1, :] = 0.5\n",
    "beta = np.ones((2, P, K))\n",
    "pi_D = np.ones((P,)) * 0.5\n",
    "print('SVI-500:')\n",
    "infsvi500 = svi_new.StochasticVI(Y_train, alpha, beta, pi_D=pi_D, minibatch_size=500, empirical_bayes=False)\n",
    "infsvi500.run(n_iterations=4000000, calc_ll=True, calc_silh=True, clusters=c_train, sampling_rate=S, max_time=T)\n",
    "svi500_U = infsvi500.a[0] / infsvi500.a[1] # VI estimate is the mean of the variational approximation\n",
    "svi500_V = infsvi500.b[0] / infsvi500.b[1]\n",
    "svi500_tsne = TSNE(n_components=2).fit_transform(svi500_U)"
   ]
  },
  {
   "cell_type": "code",
   "execution_count": null,
   "metadata": {},
   "outputs": [
    {
     "name": "stdout",
     "output_type": "stream",
     "text": [
      "SVI-1000:\n",
      "Iteration 5/4000000. Log-likelihood: -1.902. Elapsed: 562 seconds\r"
     ]
    }
   ],
   "source": [
    "# Run SVI and get estimates (pCMF)\n",
    "alpha = np.ones((2, K))\n",
    "alpha[0, :] = 3.\n",
    "alpha[1, :] = 0.5\n",
    "beta = np.ones((2, P, K))\n",
    "pi_D = np.ones((P,)) * 0.5\n",
    "print('SVI-1000:')\n",
    "infsvi1000 = svi_new.StochasticVI(Y_train, alpha, beta, pi_D=pi_D, minibatch_size=800, empirical_bayes=False)\n",
    "infsvi1000.run(n_iterations=4000000, calc_ll=True, calc_silh=True, clusters=c_train, sampling_rate=S, max_time=T)\n",
    "svi1000_U = infsvi1000.a[0] / infsvi1000.a[1] # VI estimate is the mean of the variational approximation\n",
    "svi1000_V = infsvi1000.b[0] / infsvi1000.b[1]\n",
    "svi1000_tsne = TSNE(n_components=2).fit_transform(svi1000_U)"
   ]
  },
  {
   "cell_type": "code",
   "execution_count": null,
   "metadata": {},
   "outputs": [],
   "source": [
    "fig = plt.figure(figsize=(12, 4))\n",
    "\n",
    "ax = plt.subplot(1, 2, 1)\n",
    "ax.plot(infcavi.ll_time, label='CAVI')\n",
    "ax.plot(infsvi1.ll_time, label='SVI-1')\n",
    "ax.plot(infsvi50.ll_time, label='SVI-50')\n",
    "ax.plot(infsvi100.ll_time, label='SVI-100')\n",
    "ax.plot(infsvi500.ll_time, label='SVI-500')\n",
    "ax.plot(infsvi1000.ll_time, label='SVI-1000')\n",
    "plt.ylabel('Average log-likelihood')\n",
    "plt.xlabel('Seconds(*{0})'.format(S))\n",
    "\n",
    "ax = plt.subplot(1, 2, 2)\n",
    "ax.plot(infcavi.silh_time, label='CAVI')\n",
    "ax.plot(infsvi1.silh_time, label='SVI-1')\n",
    "ax.plot(infsvi50.silh_time, label='SVI-50')\n",
    "ax.plot(infsvi100.silh_time, label='SVI-100')\n",
    "ax.plot(infsvi500.silh_time, label='SVI-500')\n",
    "ax.plot(infsvi1000.silh_time, label='SVI-1000')\n",
    "plt.ylabel('Silhouette of latent space')\n",
    "plt.xlabel('Seconds(*{0})'.format(S))\n",
    "\n",
    "plt.legend(loc='upper left', bbox_to_anchor=[1., 1.], frameon=True)\n",
    "plt.suptitle('Data set with N={} and P={}'.format(N, P), fontsize=14)\n",
    "plt.subplots_adjust(top=0.85)\n",
    "plt.show()"
   ]
  },
  {
   "cell_type": "code",
   "execution_count": null,
   "metadata": {},
   "outputs": [],
   "source": [
    "cavi_dll = utils.log_likelihood(Y_train, cavi_U, cavi_V, infcavi.p)\n",
    "svi1_dll = utils.log_likelihood(Y_train, svi1_U, svi1_V, infsvi1.p)\n",
    "svi50_dll = utils.log_likelihood(Y_train, svi50_U, svi50_V, infsvi50.p)\n",
    "svi100_dll = utils.log_likelihood(Y_train, svi100_U, svi100_V, infsvi100.p)\n",
    "svi500_dll = utils.log_likelihood(Y_train, svi500_U, svi500_V, infsvi500.p)\n",
    "svi1000_dll = utils.log_likelihood(Y_train, svi1000_U, svi1000_V, infsvi1000.p)\n",
    "\n",
    "scores = {'CAVI': cavi_dll, 'SVI-1': svi1_dll, 'SVI-50': svi50_dll, 'SVI-100': svi100_dll, 'SVI-500': svi500_dll, 'SVI-1000': svi1000_dll}\n",
    "\n",
    "sorted_scores = sorted(scores.items(), key=operator.itemgetter(1), reverse=True)\n",
    "\n",
    "print('Full data log-likelihood:')\n",
    "print('\\033[1m- {0}: {1:.3}\\033[0m'.format(sorted_scores[0][0], sorted_scores[0][1]))\n",
    "for score_tp in sorted_scores[1:]:\n",
    "    print('- {0}: {1:.3}'.format(score_tp[0], score_tp[1]))"
   ]
  },
  {
   "cell_type": "code",
   "execution_count": null,
   "metadata": {},
   "outputs": [],
   "source": [
    "cavi_holl = infcavi.predictive_ll(Y_test)\n",
    "svi1_holl = infsvi1.predictive_ll(Y_test)\n",
    "svi50_holl = infsvi50.predictive_ll(Y_test)\n",
    "svi100_holl = infsvi100.predictive_ll(Y_test)\n",
    "svi500_holl = infsvi500.predictive_ll(Y_test)\n",
    "svi1000_holl = infsvi1000.predictive_ll(Y_test)\n",
    "\n",
    "scores = {'CAVI': cavi_holl, 'SVI-1': svi1_holl, 'SVI-50': svi50_holl, 'SVI-100': svi100_holl, 'SVI-500': svi500_holl, 'SVI-1000': svi1000_holl}\n",
    "\n",
    "sorted_scores = sorted(scores.items(), key=operator.itemgetter(1), reverse=True)\n",
    "\n",
    "print('Held-out log-likelihood:')\n",
    "print('\\033[1m- {0}: {1:.3}\\033[0m'.format(sorted_scores[0][0], sorted_scores[0][1]))\n",
    "for score_tp in sorted_scores[1:]:\n",
    "    print('- {0}: {1:.3}'.format(score_tp[0], score_tp[1]))"
   ]
  },
  {
   "cell_type": "code",
   "execution_count": null,
   "metadata": {
    "scrolled": true
   },
   "outputs": [],
   "source": [
    "true_silh = silhouette_score(U_train, c_train)\n",
    "cavi_silh = silhouette_score(cavi_U, c_train)\n",
    "svi1_silh = silhouette_score(svi1_U, c_train)\n",
    "svi50_silh = silhouette_score(svi50_U, c_train)\n",
    "svi100_silh = silhouette_score(svi100_U, c_train)\n",
    "svi500_silh = silhouette_score(svi500_U, c_train)\n",
    "svi1000_silh = silhouette_score(svi1000_U, c_train)\n",
    "pca_silh = silhouette_score(pca_U, c_train)\n",
    "\n",
    "scores = {'CAVI': cavi_silh, 'SVI-1': svi1_silh, 'SVI-50': svi50_silh, 'SVI-100': svi100_silh, \n",
    "          'SVI-500': svi500_silh, 'SVI-1000': svi1000_silh, 'PCA': pca_silh}\n",
    "\n",
    "sorted_scores = sorted(scores.items(), key=operator.itemgetter(1), reverse=True)\n",
    "\n",
    "print('Silhouette scores (higher is better):')\n",
    "print('\\033[1m- {0}: {1:.3}\\033[0m'.format(sorted_scores[0][0], sorted_scores[0][1]))\n",
    "for score_tp in sorted_scores[1:]:\n",
    "    print('- {0}: {1:.3}'.format(score_tp[0], score_tp[1]))\n",
    "    \n",
    "print('\\nSilhouette of true U:')\n",
    "print('%0.3f' % true_silh)"
   ]
  },
  {
   "cell_type": "code",
   "execution_count": null,
   "metadata": {},
   "outputs": [],
   "source": [
    "U_list = [cavi_tsne, svi1_tsne, svi50_tsne, svi100_tsne, svi500_tsne, svi1000_tsne, pca_tsne]\n",
    "title_list = ['CAVI', 'SVI-1', 'SVI-50', 'SVI-100', 'SVI-500', 'SVI-1000', 'PCA']\n",
    "\n",
    "n_results = len(U_list)\n",
    "\n",
    "assert len(U_list) == len(title_list)\n",
    "\n",
    "fig = plt.figure(figsize=(16, 8))\n",
    "\n",
    "s = 30\n",
    "alpha = 0.7\n",
    "labels=None\n",
    "for i in range(len(U_list)):\n",
    "    ax = plt.subplot(2, 4, i+1)\n",
    "    handlers = []\n",
    "    for c in range(C):\n",
    "        h = ax.scatter(U_list[title_list.index(sorted_scores[i][0])][c_train==c, 0], U_list[title_list.index(sorted_scores[i][0])][c_train==c, 1], s=s, alpha=alpha)\n",
    "        handlers.append(h)\n",
    "    if labels is not None:\n",
    "        ax.legend(handlers, labels, scatterpoints=1)\n",
    "    plt.title(sorted_scores[i][0])\n",
    "plt.show()"
   ]
  }
 ],
 "metadata": {
  "kernelspec": {
   "display_name": "Python 3",
   "language": "python",
   "name": "python3"
  },
  "language_info": {
   "codemirror_mode": {
    "name": "ipython",
    "version": 3
   },
   "file_extension": ".py",
   "mimetype": "text/x-python",
   "name": "python",
   "nbconvert_exporter": "python",
   "pygments_lexer": "ipython3",
   "version": "3.6.3"
  }
 },
 "nbformat": 4,
 "nbformat_minor": 2
}
