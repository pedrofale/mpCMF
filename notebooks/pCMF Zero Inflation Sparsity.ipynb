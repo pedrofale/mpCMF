{
 "cells": [
  {
   "cell_type": "markdown",
   "metadata": {},
   "source": [
    "# Testing Sparse Zero-Inflated Count Matrix Factorization in simulated data "
   ]
  },
  {
   "cell_type": "code",
   "execution_count": 1,
   "metadata": {},
   "outputs": [],
   "source": [
    "from pCMF.misc import utils, plot_utils\n",
    "from pCMF.models.pcmf.inferences import cavi_new, svi_new\n",
    "\n",
    "%matplotlib inline\n",
    "import matplotlib.pyplot as plt\n",
    "from matplotlib.pyplot import cm\n",
    "import numpy as np\n",
    "from sklearn.decomposition import PCA\n",
    "from sklearn.manifold import TSNE\n",
    "from sklearn.metrics import silhouette_score, classification_report, accuracy_score\n",
    "from sklearn.model_selection import train_test_split\n",
    "import pandas as pd\n",
    "\n",
    "from scipy.stats import gamma\n",
    "\n",
    "import operator\n",
    "import seaborn as sns\n",
    "sns.set_style('whitegrid')"
   ]
  },
  {
   "cell_type": "code",
   "execution_count": 2,
   "metadata": {},
   "outputs": [],
   "source": [
    "# Experiment parameters\n",
    "N = 100 # number of observations\n",
    "P = 1000 # observation space dimensionality\n",
    "K = 10 # latent space dimensionality\n",
    "C = 3 # number of clusters\n",
    "\n",
    "# Generate data set\n",
    "z_p = 0.2\n",
    "eps = 5.\n",
    "Y, D, X, R, V, U, clusters = utils.generate_sparse_data(N, P, K, C=C, zero_prob=z_p, noisy_prop=0.5,\n",
    "                                                 eps_U=eps, return_all=True)\n",
    "\n",
    "Y_train, Y_test, X_train, X_test, D_train, D_test, U_train, U_test, c_train, c_test = train_test_split(Y, X, D, U.T, clusters, test_size=0.2, random_state=42)"
   ]
  },
  {
   "cell_type": "code",
   "execution_count": 3,
   "metadata": {},
   "outputs": [
    {
     "data": {
      "image/png": "[encoded data removed]",
      "text/plain": [
       "<Figure size 432x288 with 1 Axes>"
      ]
     },
     "metadata": {},
     "output_type": "display_data"
    }
   ],
   "source": [
    "bins = np.linspace(0, X_train.max(), num=50)\n",
    "\n",
    "plt.hist(X_train.flatten(), bins, alpha=0.7, label='true counts', color='blue')\n",
    "plt.hist(Y_train.flatten(), bins, alpha=0.7, label='zero-inflated counts', color='red')\n",
    "plt.xlabel('observed counts')\n",
    "plt.ylabel('frequency')\n",
    "plt.legend(frameon=True)\n",
    "plt.show()"
   ]
  },
  {
   "cell_type": "code",
   "execution_count": 4,
   "metadata": {},
   "outputs": [
    {
     "name": "stdout",
     "output_type": "stream",
     "text": [
      "Training data:\n",
      "Number of true zero-counts: 43\n",
      "Number of dropouts: 15930\n"
     ]
    }
   ],
   "source": [
    "print(\"Training data:\")\n",
    "print(\"Number of true zero-counts: {0}\".format(np.count_nonzero(X_train==0)))\n",
    "print(\"Number of dropouts: {0}\".format(np.count_nonzero(D_train==0)))"
   ]
  },
  {
   "cell_type": "code",
   "execution_count": 5,
   "metadata": {},
   "outputs": [
    {
     "data": {
      "text/plain": [
       "0.03937077294233232"
      ]
     },
     "execution_count": 5,
     "metadata": {},
     "output_type": "execute_result"
    }
   ],
   "source": [
    "silhouette_score(Y_train, c_train)"
   ]
  },
  {
   "cell_type": "code",
   "execution_count": 6,
   "metadata": {},
   "outputs": [
    {
     "data": {
      "text/plain": [
       "0.496950991943093"
      ]
     },
     "execution_count": 6,
     "metadata": {},
     "output_type": "execute_result"
    }
   ],
   "source": [
    "silhouette_score(U_train, c_train)"
   ]
  },
  {
   "cell_type": "code",
   "execution_count": 7,
   "metadata": {},
   "outputs": [],
   "source": [
    "T = 60. * 10.\n",
    "S = 10.\n",
    "max_iter = 1000000"
   ]
  },
  {
   "cell_type": "code",
   "execution_count": 8,
   "metadata": {},
   "outputs": [],
   "source": [
    "# Run PCA\n",
    "pca_U = PCA(n_components=K).fit_transform(np.log(Y_train + 1.))\n",
    "pca_tsne = TSNE(n_components=2).fit_transform(pca_U)"
   ]
  },
  {
   "cell_type": "code",
   "execution_count": 9,
   "metadata": {},
   "outputs": [
    {
     "data": {
      "text/plain": [
       "0.06893410123377892"
      ]
     },
     "execution_count": 9,
     "metadata": {},
     "output_type": "execute_result"
    }
   ],
   "source": [
    "silhouette_score(pca_U, c_train)"
   ]
  },
  {
   "cell_type": "code",
   "execution_count": 10,
   "metadata": {},
   "outputs": [
    {
     "data": {
      "image/png": "[encoded data removed]",
      "text/plain": [
       "<Figure size 432x288 with 1 Axes>"
      ]
     },
     "metadata": {},
     "output_type": "display_data"
    }
   ],
   "source": [
    "for c in range(C):\n",
    "    plt.scatter(pca_tsne[c_train==c, 0], pca_tsne[c_train==c, 1])\n",
    "plt.show()"
   ]
  },
  {
   "cell_type": "code",
   "execution_count": 11,
   "metadata": {},
   "outputs": [],
   "source": [
    "# Prior parameters\n",
    "alpha = np.abs(np.ones((2, K)) + np.random.rand(2, K))\n",
    "beta = np.abs(np.ones((2, P, K)) + np.random.rand(2, P, K))\n",
    "logit_pi_D = np.random.rand(P)\n",
    "pi_D = np.exp(logit_pi_D) / (1. + np.exp(logit_pi_D))\n",
    "logit_pi_S = np.random.rand(P)\n",
    "pi_S = np.exp(logit_pi_S) / (1. + np.exp(logit_pi_S))"
   ]
  },
  {
   "cell_type": "code",
   "execution_count": 12,
   "metadata": {},
   "outputs": [
    {
     "name": "stdout",
     "output_type": "stream",
     "text": [
      "Simple GaP-EB:\n",
      "Iteration 97/1000000. Log-likelihood: 208.798. Elapsed: 0h10m2s\n"
     ]
    }
   ],
   "source": [
    "print('Simple GaP-EB:')\n",
    "infgapeb = cavi_new.CoordinateAscentVI(Y_train, alpha, beta, empirical_bayes=True)\n",
    "infgapeb.run(n_iterations=max_iter, calc_ll=True, calc_silh=True, clusters=c_train, sampling_rate=S, max_time=T)\n",
    "gapeb_U = infgapeb.a[0] / infgapeb.a[1] # VI estimate is the mean of the variational approximation\n",
    "gapeb_V = infgapeb.b[0] / infgapeb.b[1]\n",
    "gapeb_D = infgapeb.estimate_D(infgapeb.p_D)\n",
    "gapeb_S = infgapeb.estimate_S(infgapeb.p_S)\n",
    "gapeb_tsne = TSNE(n_components=2).fit_transform(gapeb_U)"
   ]
  },
  {
   "cell_type": "code",
   "execution_count": 13,
   "metadata": {},
   "outputs": [
    {
     "name": "stdout",
     "output_type": "stream",
     "text": [
      "Zero-Inflated GaP-EB:\n",
      "Considering zero-inflated counts.\n",
      "Iteration 81/1000000. Log-likelihood: 202.931. Elapsed: 0h10m6s\n"
     ]
    }
   ],
   "source": [
    "print('Zero-Inflated GaP-EB:')\n",
    "infzigapeb = cavi_new.CoordinateAscentVI(Y_train, alpha, beta, pi_D=pi_D, empirical_bayes=True)\n",
    "infzigapeb.run(n_iterations=max_iter, calc_ll=True, calc_silh=True, clusters=c_train, sampling_rate=S, max_time=T)\n",
    "zigapeb_U = infzigapeb.a[0] / infzigapeb.a[1] # VI estimate is the mean of the variational approximation\n",
    "zigapeb_V = infzigapeb.b[0] / infzigapeb.b[1]\n",
    "zigapeb_D = infzigapeb.estimate_D(infzigapeb.p_D)\n",
    "zigapeb_S = infzigapeb.estimate_S(infzigapeb.p_S)\n",
    "zigapeb_tsne = TSNE(n_components=2).fit_transform(zigapeb_U)"
   ]
  },
  {
   "cell_type": "code",
   "execution_count": null,
   "metadata": {
    "scrolled": true
   },
   "outputs": [
    {
     "name": "stdout",
     "output_type": "stream",
     "text": [
      "Sparse Zero-Inflated GaP-EB:\n",
      "Considering zero-inflated counts.\n",
      "Considering loading sparsity.\n",
      "Iteration 52/1000000. Log-likelihood: 228.000. Elapsed: 0h6m60s\r"
     ]
    }
   ],
   "source": [
    "print('Sparse Zero-Inflated GaP-EB:')\n",
    "infszigapeb = cavi_new.CoordinateAscentVI(Y_train, alpha, beta, pi_D=pi_D, pi_S=pi_S, empirical_bayes=True)\n",
    "infszigapeb.run(n_iterations=max_iter, calc_ll=True, calc_silh=True, clusters=c_train, sampling_rate=S, max_time=T)\n",
    "szigapeb_U = infszigapeb.a[0] / infszigapeb.a[1] # VI estimate is the mean of the variational approximation\n",
    "szigapeb_V = infszigapeb.b[0] / infszigapeb.b[1]\n",
    "szigapeb_D = infszigapeb.estimate_D(infszigapeb.p_D)\n",
    "szigapeb_S = infszigapeb.estimate_S(infszigapeb.p_S)\n",
    "szigapeb_tsne = TSNE(n_components=2).fit_transform(szigapeb_U)"
   ]
  },
  {
   "cell_type": "code",
   "execution_count": null,
   "metadata": {},
   "outputs": [],
   "source": [
    "fig = plt.figure(figsize=(12, 4))\n",
    "\n",
    "ax = plt.subplot(1, 2, 1)\n",
    "ax.plot(infgapeb.ll_time, label='GaP-EB')\n",
    "ax.plot(infzigapeb.ll_time, label='ZIGaP-EB')\n",
    "ax.plot(infszigapeb.ll_time, label='SZIGaP-EB')\n",
    "plt.ylabel('Average log-likelihood')\n",
    "plt.xlabel('Seconds(*{0})'.format(S))\n",
    "\n",
    "ax = plt.subplot(1, 2, 2)\n",
    "ax.plot(infgapeb.silh_time, label='GaP-EB')\n",
    "ax.plot(infzigapeb.silh_time, label='ZIGaP-EB')\n",
    "ax.plot(infszigapeb.silh_time, label='SZIGaP-EB')\n",
    "plt.ylabel('Silhouette of latent space')\n",
    "plt.xlabel('Seconds(*{0})'.format(S))\n",
    "\n",
    "plt.legend(loc='upper left', bbox_to_anchor=[1., 1.], frameon=True)\n",
    "plt.suptitle('Data set with N={} and P={}'.format(N, P), fontsize=14)\n",
    "plt.subplots_adjust(top=0.85)\n",
    "plt.show()"
   ]
  },
  {
   "cell_type": "code",
   "execution_count": null,
   "metadata": {},
   "outputs": [],
   "source": [
    "gapeb_dll = utils.log_likelihood(Y_train, gapeb_U, gapeb_V, infgapeb.p_D, gapeb_S, clip=infgapeb.clip_ll)\n",
    "zigapeb_dll = utils.log_likelihood(Y_train, zigapeb_U, zigapeb_V, infzigapeb.p_D, zigapeb_S, clip=infgapeb.clip_ll)\n",
    "szigapeb_dll = utils.log_likelihood(Y_train, szigapeb_U, szigapeb_V, infszigapeb.p_D, szigapeb_S, clip=infgapeb.clip_ll)\n",
    "\n",
    "scores = {'GaP-EB': gapeb_dll, 'ZIGaP-EB': zigapeb_dll, 'SZIGaP-EB': szigapeb_dll}\n",
    "\n",
    "sorted_scores = sorted(scores.items(), key=operator.itemgetter(1), reverse=True)\n",
    "\n",
    "print('Full data log-likelihood:')\n",
    "print('\\033[1m- {0}: {1:.3}\\033[0m'.format(sorted_scores[0][0], sorted_scores[0][1]))\n",
    "for score_tp in sorted_scores[1:]:\n",
    "    print('- {0}: {1:.3}'.format(score_tp[0], score_tp[1]))"
   ]
  },
  {
   "cell_type": "code",
   "execution_count": null,
   "metadata": {},
   "outputs": [],
   "source": [
    "gapeb_holl = infgapeb.predictive_ll(Y_test)\n",
    "zigapeb_holl = infzigapeb.predictive_ll(Y_test)\n",
    "szigapeb_holl = infszigapeb.predictive_ll(Y_test)\n",
    "\n",
    "scores = {'GaP-EB': gapeb_holl, 'ZIGaP-EB': zigapeb_holl, 'SZIGaP-EB': szigapeb_holl}\n",
    "\n",
    "sorted_scores = sorted(scores.items(), key=operator.itemgetter(1), reverse=True)\n",
    "\n",
    "print('Held-out log-likelihood:')\n",
    "print('\\033[1m- {0}: {1:.3}\\033[0m'.format(sorted_scores[0][0], sorted_scores[0][1]))\n",
    "for score_tp in sorted_scores[1:]:\n",
    "    print('- {0}: {1:.3}'.format(score_tp[0], score_tp[1]))"
   ]
  },
  {
   "cell_type": "code",
   "execution_count": null,
   "metadata": {
    "scrolled": true
   },
   "outputs": [],
   "source": [
    "true_silh = silhouette_score(U_train, c_train)\n",
    "gapeb_silh = silhouette_score(gapeb_U, c_train)\n",
    "zigapeb_silh = silhouette_score(zigapeb_U, c_train)\n",
    "szigapeb_silh = silhouette_score(szigapeb_U, c_train)\n",
    "pca_silh = silhouette_score(pca_U, c_train)\n",
    "\n",
    "scores = {'GaP-EB': gapeb_silh, 'ZIGaP-EB': zigapeb_silh, 'SZIGaP-EB': szigapeb_silh, 'PCA': pca_silh}\n",
    "\n",
    "sorted_scores = sorted(scores.items(), key=operator.itemgetter(1), reverse=True)\n",
    "\n",
    "print('Silhouette scores (higher is better):')\n",
    "print('\\033[1m- {0}: {1:.3}\\033[0m'.format(sorted_scores[0][0], sorted_scores[0][1]))\n",
    "for score_tp in sorted_scores[1:]:\n",
    "    print('- {0}: {1:.3}'.format(score_tp[0], score_tp[1]))\n",
    "    \n",
    "print('\\nSilhouette of true U:')\n",
    "print('%0.3f' % true_silh)"
   ]
  },
  {
   "cell_type": "code",
   "execution_count": null,
   "metadata": {
    "scrolled": true
   },
   "outputs": [],
   "source": [
    "# Plot in decreasing silhouette order\n",
    "U_list = [gapeb_tsne, zigapeb_tsne, szigapeb_tsne, pca_tsne]\n",
    "title_list = ['GaP-EB', 'ZIGaP-EB', 'SZIGaP-EB', 'PCA']\n",
    "\n",
    "assert len(U_list) == len(title_list)\n",
    "\n",
    "n_results = len(U_list)\n",
    "\n",
    "fig = plt.figure(figsize=(16, 4))\n",
    "\n",
    "s = 30\n",
    "alpha = 0.7\n",
    "labels=None\n",
    "for i in range(len(U_list)):\n",
    "    ax = plt.subplot(1, n_results, i+1)\n",
    "    handlers = []\n",
    "    for c in range(C):\n",
    "        h = ax.scatter(U_list[title_list.index(sorted_scores[i][0])][c_train==c, 0], U_list[title_list.index(sorted_scores[i][0])][c_train==c, 1], s=s, alpha=alpha)\n",
    "        handlers.append(h)\n",
    "    if labels is not None:\n",
    "        ax.legend(handlers, labels, scatterpoints=1)\n",
    "    plt.title(sorted_scores[i][0])\n",
    "plt.show()"
   ]
  },
  {
   "cell_type": "markdown",
   "metadata": {},
   "source": [
    "# Dropout identification and imputation\n",
    "The held-out likelihood is only useful for data which isn't dominated by zeros. When it is, higher likelihoods will be obtained by models which place more mass at zero, which is not the comparison we want to make. In this case then, we evaluate the ability of the model to impute dropped out values.\n",
    "\n",
    "We know what entries are dropouts because we have simulated them, and we also know the true value behind it.\n",
    "\n",
    "First, we check if the model has identified dropouts well.\n",
    "\n",
    "Then, we replace each dropout with the value the model finds to be most likely and compare it with the true value. For pCMF, imputing the entry $Y_{ij}$ corresponds to setting it to $U_iV_j $."
   ]
  },
  {
   "cell_type": "code",
   "execution_count": null,
   "metadata": {},
   "outputs": [],
   "source": [
    "dropout_idx = np.where(D_train == 0)"
   ]
  },
  {
   "cell_type": "markdown",
   "metadata": {},
   "source": [
    "## Dropout identification"
   ]
  },
  {
   "cell_type": "code",
   "execution_count": null,
   "metadata": {},
   "outputs": [],
   "source": [
    "gapeb_acc = accuracy_score(gapeb_D.flatten(), D_train.flatten())\n",
    "zigapeb_acc = accuracy_score(zigapeb_D.flatten(), D_train.flatten())\n",
    "szigapeb_acc = accuracy_score(szigapeb_D.flatten(), D_train.flatten())\n",
    "\n",
    "scores = {'GaP-EB': gapeb_acc, 'ZIGaP-EB': zigapeb_acc, 'SZIGaP-EB': szigapeb_acc}\n",
    "\n",
    "sorted_scores = sorted(scores.items(), key=operator.itemgetter(1), reverse=True)\n",
    "\n",
    "print('Dropout identification accuracy (higher is better):')\n",
    "print('\\033[1m- {0}: {1:.3}\\033[0m'.format(sorted_scores[0][0], sorted_scores[0][1]))\n",
    "for score_tp in sorted_scores[1:]:\n",
    "    print('- {0}: {1:.3}'.format(score_tp[0], score_tp[1]))"
   ]
  },
  {
   "cell_type": "markdown",
   "metadata": {},
   "source": [
    "## Dropout imputation "
   ]
  },
  {
   "cell_type": "code",
   "execution_count": null,
   "metadata": {},
   "outputs": [],
   "source": [
    "# Use the posterior Poisson mean\n",
    "gapeb_R = np.dot(gapeb_U, gapeb_V.T)\n",
    "zigapeb_R = np.dot(zigapeb_U, zigapeb_V.T)\n",
    "szigapeb_R = np.dot(szigapeb_U, szigapeb_V.T)"
   ]
  },
  {
   "cell_type": "code",
   "execution_count": null,
   "metadata": {},
   "outputs": [],
   "source": [
    "# Compute the imputation error on the data entries we know to be dropouts\n",
    "gapeb_err = utils.imputation_error(X_train, gapeb_R, dropout_idx)\n",
    "zigapeb_err = utils.imputation_error(X_train, zigapeb_R, dropout_idx)\n",
    "szigapeb_err = utils.imputation_error(X_train, szigapeb_R, dropout_idx)\n",
    "\n",
    "scores = {'GaP-EB': gapeb_err, 'ZIGaP-EB': zigapeb_err, 'SZIGaP-EB': szigapeb_err}\n",
    "\n",
    "sorted_scores = sorted(scores.items(), key=operator.itemgetter(1), reverse=False)\n",
    "\n",
    "print('Dropout imputation error (lower is better):')\n",
    "print('\\033[1m- {0}: {1:.3}\\033[0m'.format(sorted_scores[0][0], sorted_scores[0][1]))\n",
    "for score_tp in sorted_scores[1:]:\n",
    "    print('- {0}: {1:.3}'.format(score_tp[0], score_tp[1]))"
   ]
  },
  {
   "cell_type": "code",
   "execution_count": null,
   "metadata": {},
   "outputs": [],
   "source": [
    "R_list = [gapeb_R, zigapeb_R, szigapeb_R]\n",
    "title_list = ['GaP-EB', 'ZIGaP-EB', 'SZIGaP-EB']\n",
    "\n",
    "fig = plt.figure(figsize=(20, 4))\n",
    "\n",
    "s = 30\n",
    "alpha = 0.7\n",
    "labels=None\n",
    "for i in range(len(R_list)):\n",
    "    ax = plt.subplot(1, n_results, i+1)\n",
    "    plot_utils.plot_imputation_density(\n",
    "        R_list[title_list.index(sorted_scores[i][0])], X_train, dropout_idx, ymax=50, \n",
    "        ax=ax, title=sorted_scores[i][0])\n",
    "plt.show()"
   ]
  }
 ],
 "metadata": {
  "kernelspec": {
   "display_name": "Python 3",
   "language": "python",
   "name": "python3"
  },
  "language_info": {
   "codemirror_mode": {
    "name": "ipython",
    "version": 3
   },
   "file_extension": ".py",
   "mimetype": "text/x-python",
   "name": "python",
   "nbconvert_exporter": "python",
   "pygments_lexer": "ipython3",
   "version": "3.6.3"
  }
 },
 "nbformat": 4,
 "nbformat_minor": 2
}
