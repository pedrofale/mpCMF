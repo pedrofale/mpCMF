{
 "cells": [
  {
   "cell_type": "markdown",
   "metadata": {},
   "source": [
    "# SVI minibatch variation on the Sparse ZI pCMF"
   ]
  },
  {
   "cell_type": "code",
   "execution_count": 1,
   "metadata": {},
   "outputs": [],
   "source": [
    "from pCMF.misc import utils\n",
    "from pCMF.models.pcmf.inferences import cavi_new, svi_new\n",
    "\n",
    "import matplotlib.pyplot as plt\n",
    "from matplotlib.pyplot import cm\n",
    "import numpy as np\n",
    "from sklearn.decomposition import PCA\n",
    "from sklearn.manifold import TSNE\n",
    "from sklearn.metrics import silhouette_score\n",
    "from sklearn.model_selection import train_test_split\n",
    "\n",
    "from scipy.stats import gamma\n",
    "\n",
    "import operator\n",
    "import seaborn as sns\n",
    "sns.set_style('whitegrid')\n",
    "\n",
    "%matplotlib inline"
   ]
  },
  {
   "cell_type": "code",
   "execution_count": 2,
   "metadata": {},
   "outputs": [],
   "source": [
    "# Experiment parameters\n",
    "N = 1000 # number of observations\n",
    "P = 20 # observation space dimensionality\n",
    "K = 10 # latent space dimensionality\n",
    "C = 2 # number of clusters\n",
    "\n",
    "# Generate data set\n",
    "z_p = 0.5\n",
    "eps = 5.\n",
    "Y, D, X, R, V, U, clusters = utils.generate_sparse_data(N, P, K, C=C, zero_prob=z_p, noisy_prop=0.5,\n",
    "                                                 eps_U=eps, return_all=True)\n",
    "\n",
    "Y_train, Y_test, U_train, U_test, c_train, c_test = train_test_split(Y, U.T, clusters, test_size=0.2, random_state=42)"
   ]
  },
  {
   "cell_type": "code",
   "execution_count": 3,
   "metadata": {},
   "outputs": [],
   "source": [
    "T = 60. * 60. * 1.\n",
    "S = 30.\n",
    "max_iter = 1000000"
   ]
  },
  {
   "cell_type": "code",
   "execution_count": 4,
   "metadata": {},
   "outputs": [
    {
     "ename": "KeyboardInterrupt",
     "evalue": "",
     "output_type": "error",
     "traceback": [
      "\u001b[0;31m---------------------------------------------------------------------------\u001b[0m",
      "\u001b[0;31mKeyboardInterrupt\u001b[0m                         Traceback (most recent call last)",
      "\u001b[0;32m<ipython-input-4-e8c523d2fc55>\u001b[0m in \u001b[0;36m<module>\u001b[0;34m()\u001b[0m\n\u001b[1;32m      1\u001b[0m \u001b[0;31m# Run PCA\u001b[0m\u001b[0;34m\u001b[0m\u001b[0;34m\u001b[0m\u001b[0m\n\u001b[1;32m      2\u001b[0m \u001b[0mpca_U\u001b[0m \u001b[0;34m=\u001b[0m \u001b[0mPCA\u001b[0m\u001b[0;34m(\u001b[0m\u001b[0mn_components\u001b[0m\u001b[0;34m=\u001b[0m\u001b[0mK\u001b[0m\u001b[0;34m)\u001b[0m\u001b[0;34m.\u001b[0m\u001b[0mfit_transform\u001b[0m\u001b[0;34m(\u001b[0m\u001b[0mnp\u001b[0m\u001b[0;34m.\u001b[0m\u001b[0mlog\u001b[0m\u001b[0;34m(\u001b[0m\u001b[0mY_train\u001b[0m \u001b[0;34m+\u001b[0m \u001b[0;36m1.\u001b[0m\u001b[0;34m)\u001b[0m\u001b[0;34m)\u001b[0m\u001b[0;34m\u001b[0m\u001b[0m\n\u001b[0;32m----> 3\u001b[0;31m \u001b[0mpca_tsne\u001b[0m \u001b[0;34m=\u001b[0m \u001b[0mTSNE\u001b[0m\u001b[0;34m(\u001b[0m\u001b[0mn_components\u001b[0m\u001b[0;34m=\u001b[0m\u001b[0;36m2\u001b[0m\u001b[0;34m)\u001b[0m\u001b[0;34m.\u001b[0m\u001b[0mfit_transform\u001b[0m\u001b[0;34m(\u001b[0m\u001b[0mpca_U\u001b[0m\u001b[0;34m)\u001b[0m\u001b[0;34m\u001b[0m\u001b[0m\n\u001b[0m",
      "\u001b[0;32m~/pCMF/venv/lib/python3.6/site-packages/sklearn/manifold/t_sne.py\u001b[0m in \u001b[0;36mfit_transform\u001b[0;34m(self, X, y)\u001b[0m\n\u001b[1;32m    856\u001b[0m             \u001b[0mEmbedding\u001b[0m \u001b[0mof\u001b[0m \u001b[0mthe\u001b[0m \u001b[0mtraining\u001b[0m \u001b[0mdata\u001b[0m \u001b[0;32min\u001b[0m \u001b[0mlow\u001b[0m\u001b[0;34m-\u001b[0m\u001b[0mdimensional\u001b[0m \u001b[0mspace\u001b[0m\u001b[0;34m.\u001b[0m\u001b[0;34m\u001b[0m\u001b[0m\n\u001b[1;32m    857\u001b[0m         \"\"\"\n\u001b[0;32m--> 858\u001b[0;31m         \u001b[0membedding\u001b[0m \u001b[0;34m=\u001b[0m \u001b[0mself\u001b[0m\u001b[0;34m.\u001b[0m\u001b[0m_fit\u001b[0m\u001b[0;34m(\u001b[0m\u001b[0mX\u001b[0m\u001b[0;34m)\u001b[0m\u001b[0;34m\u001b[0m\u001b[0m\n\u001b[0m\u001b[1;32m    859\u001b[0m         \u001b[0mself\u001b[0m\u001b[0;34m.\u001b[0m\u001b[0membedding_\u001b[0m \u001b[0;34m=\u001b[0m \u001b[0membedding\u001b[0m\u001b[0;34m\u001b[0m\u001b[0m\n\u001b[1;32m    860\u001b[0m         \u001b[0;32mreturn\u001b[0m \u001b[0mself\u001b[0m\u001b[0;34m.\u001b[0m\u001b[0membedding_\u001b[0m\u001b[0;34m\u001b[0m\u001b[0m\n",
      "\u001b[0;32m~/pCMF/venv/lib/python3.6/site-packages/sklearn/manifold/t_sne.py\u001b[0m in \u001b[0;36m_fit\u001b[0;34m(self, X, skip_num_points)\u001b[0m\n\u001b[1;32m    768\u001b[0m                           \u001b[0mX_embedded\u001b[0m\u001b[0;34m=\u001b[0m\u001b[0mX_embedded\u001b[0m\u001b[0;34m,\u001b[0m\u001b[0;34m\u001b[0m\u001b[0m\n\u001b[1;32m    769\u001b[0m                           \u001b[0mneighbors\u001b[0m\u001b[0;34m=\u001b[0m\u001b[0mneighbors_nn\u001b[0m\u001b[0;34m,\u001b[0m\u001b[0;34m\u001b[0m\u001b[0m\n\u001b[0;32m--> 770\u001b[0;31m                           skip_num_points=skip_num_points)\n\u001b[0m\u001b[1;32m    771\u001b[0m \u001b[0;34m\u001b[0m\u001b[0m\n\u001b[1;32m    772\u001b[0m     \u001b[0;34m@\u001b[0m\u001b[0mproperty\u001b[0m\u001b[0;34m\u001b[0m\u001b[0m\n",
      "\u001b[0;32m~/pCMF/venv/lib/python3.6/site-packages/sklearn/manifold/t_sne.py\u001b[0m in \u001b[0;36m_tsne\u001b[0;34m(self, P, degrees_of_freedom, n_samples, X_embedded, neighbors, skip_num_points)\u001b[0m\n\u001b[1;32m    825\u001b[0m             \u001b[0mopt_args\u001b[0m\u001b[0;34m[\u001b[0m\u001b[0;34m'n_iter_without_progress'\u001b[0m\u001b[0;34m]\u001b[0m \u001b[0;34m=\u001b[0m \u001b[0mself\u001b[0m\u001b[0;34m.\u001b[0m\u001b[0mn_iter_without_progress\u001b[0m\u001b[0;34m\u001b[0m\u001b[0m\n\u001b[1;32m    826\u001b[0m             params, kl_divergence, it = _gradient_descent(obj_func, params,\n\u001b[0;32m--> 827\u001b[0;31m                                                           **opt_args)\n\u001b[0m\u001b[1;32m    828\u001b[0m \u001b[0;34m\u001b[0m\u001b[0m\n\u001b[1;32m    829\u001b[0m         \u001b[0;31m# Save the final number of iterations\u001b[0m\u001b[0;34m\u001b[0m\u001b[0;34m\u001b[0m\u001b[0m\n",
      "\u001b[0;32m~/pCMF/venv/lib/python3.6/site-packages/sklearn/manifold/t_sne.py\u001b[0m in \u001b[0;36m_gradient_descent\u001b[0;34m(objective, p0, it, n_iter, n_iter_check, n_iter_without_progress, momentum, learning_rate, min_gain, min_grad_norm, verbose, args, kwargs)\u001b[0m\n\u001b[1;32m    337\u001b[0m     \u001b[0mtic\u001b[0m \u001b[0;34m=\u001b[0m \u001b[0mtime\u001b[0m\u001b[0;34m(\u001b[0m\u001b[0;34m)\u001b[0m\u001b[0;34m\u001b[0m\u001b[0m\n\u001b[1;32m    338\u001b[0m     \u001b[0;32mfor\u001b[0m \u001b[0mi\u001b[0m \u001b[0;32min\u001b[0m \u001b[0mrange\u001b[0m\u001b[0;34m(\u001b[0m\u001b[0mit\u001b[0m\u001b[0;34m,\u001b[0m \u001b[0mn_iter\u001b[0m\u001b[0;34m)\u001b[0m\u001b[0;34m:\u001b[0m\u001b[0;34m\u001b[0m\u001b[0m\n\u001b[0;32m--> 339\u001b[0;31m         \u001b[0merror\u001b[0m\u001b[0;34m,\u001b[0m \u001b[0mgrad\u001b[0m \u001b[0;34m=\u001b[0m \u001b[0mobjective\u001b[0m\u001b[0;34m(\u001b[0m\u001b[0mp\u001b[0m\u001b[0;34m,\u001b[0m \u001b[0;34m*\u001b[0m\u001b[0margs\u001b[0m\u001b[0;34m,\u001b[0m \u001b[0;34m**\u001b[0m\u001b[0mkwargs\u001b[0m\u001b[0;34m)\u001b[0m\u001b[0;34m\u001b[0m\u001b[0m\n\u001b[0m\u001b[1;32m    340\u001b[0m         \u001b[0mgrad_norm\u001b[0m \u001b[0;34m=\u001b[0m \u001b[0mlinalg\u001b[0m\u001b[0;34m.\u001b[0m\u001b[0mnorm\u001b[0m\u001b[0;34m(\u001b[0m\u001b[0mgrad\u001b[0m\u001b[0;34m)\u001b[0m\u001b[0;34m\u001b[0m\u001b[0m\n\u001b[1;32m    341\u001b[0m \u001b[0;34m\u001b[0m\u001b[0m\n",
      "\u001b[0;32m~/pCMF/venv/lib/python3.6/site-packages/sklearn/manifold/t_sne.py\u001b[0m in \u001b[0;36m_kl_divergence_bh\u001b[0;34m(params, P, degrees_of_freedom, n_samples, n_components, angle, skip_num_points, verbose)\u001b[0m\n\u001b[1;32m    245\u001b[0m     error = _barnes_hut_tsne.gradient(val_P, X_embedded, neighbors, indptr,\n\u001b[1;32m    246\u001b[0m                                       \u001b[0mgrad\u001b[0m\u001b[0;34m,\u001b[0m \u001b[0mangle\u001b[0m\u001b[0;34m,\u001b[0m \u001b[0mn_components\u001b[0m\u001b[0;34m,\u001b[0m \u001b[0mverbose\u001b[0m\u001b[0;34m,\u001b[0m\u001b[0;34m\u001b[0m\u001b[0m\n\u001b[0;32m--> 247\u001b[0;31m                                       dof=degrees_of_freedom)\n\u001b[0m\u001b[1;32m    248\u001b[0m     \u001b[0mc\u001b[0m \u001b[0;34m=\u001b[0m \u001b[0;36m2.0\u001b[0m \u001b[0;34m*\u001b[0m \u001b[0;34m(\u001b[0m\u001b[0mdegrees_of_freedom\u001b[0m \u001b[0;34m+\u001b[0m \u001b[0;36m1.0\u001b[0m\u001b[0;34m)\u001b[0m \u001b[0;34m/\u001b[0m \u001b[0mdegrees_of_freedom\u001b[0m\u001b[0;34m\u001b[0m\u001b[0m\n\u001b[1;32m    249\u001b[0m     \u001b[0mgrad\u001b[0m \u001b[0;34m=\u001b[0m \u001b[0mgrad\u001b[0m\u001b[0;34m.\u001b[0m\u001b[0mravel\u001b[0m\u001b[0;34m(\u001b[0m\u001b[0;34m)\u001b[0m\u001b[0;34m\u001b[0m\u001b[0m\n",
      "\u001b[0;31mKeyboardInterrupt\u001b[0m: "
     ]
    }
   ],
   "source": [
    "# Run PCA\n",
    "pca_U = PCA(n_components=K).fit_transform(np.log(Y_train + 1.))\n",
    "pca_tsne = TSNE(n_components=2).fit_transform(pca_U)"
   ]
  },
  {
   "cell_type": "code",
   "execution_count": null,
   "metadata": {},
   "outputs": [],
   "source": [
    "# Prior parameters\n",
    "alpha = np.abs(np.ones((2, K)) + np.random.rand(2, K))\n",
    "beta = np.abs(np.ones((2, P, K)) + np.random.rand(2, P, K))\n",
    "logit_pi_D = np.random.rand(P)\n",
    "pi_D = np.exp(logit_pi_D) / (1. + np.exp(logit_pi_D))\n",
    "logit_pi_S = np.random.rand(P)\n",
    "pi_S = np.exp(logit_pi_S) / (1. + np.exp(logit_pi_S))"
   ]
  },
  {
   "cell_type": "code",
   "execution_count": null,
   "metadata": {},
   "outputs": [],
   "source": [
    "# Run CAVI and get estimates (pCMF)\n",
    "print('CAVI:')\n",
    "infcavi = cavi_new.CoordinateAscentVI(Y_train, alpha, beta, pi_D=pi_D, pi_S=pi_S, empirical_bayes=True)\n",
    "infcavi.run(n_iterations=max_iter, calc_ll=True, calc_silh=True, clusters=c_train, sampling_rate=S, max_time=T)\n",
    "cavi_U = infcavi.a[0] / infcavi.a[1] # VI estimate is the mean of the variational approximation\n",
    "cavi_V = infcavi.b[0] / infcavi.b[1]\n",
    "cavi_D = infcavi.estimate_D(infcavi.p_D)\n",
    "cavi_S = infcavi.estimate_S(infcavi.p_S)\n",
    "cavi_tsne = TSNE(n_components=2).fit_transform(cavi_U)"
   ]
  },
  {
   "cell_type": "code",
   "execution_count": null,
   "metadata": {},
   "outputs": [],
   "source": [
    "# Run SVI and get estimates (pCMF)\n",
    "print('SVI-1:')\n",
    "infsvi1 = svi_new.StochasticVI(Y_train, alpha, beta, pi_D=pi_D, pi_S=pi_S, minibatch_size=1, empirical_bayes=True)\n",
    "infsvi1.run(n_iterations=max_iter, calc_ll=True, calc_silh=True, clusters=c_train, sampling_rate=S, max_time=T)\n",
    "svi1_U = infsvi1.a[0] / infsvi1.a[1] # VI estimate is the mean of the variational approximation\n",
    "svi1_V = infsvi1.b[0] / infsvi1.b[1]\n",
    "svi1_D = infsvi1.estimate_D(infsvi1.p_D)\n",
    "svi1_S = infsvi1.estimate_S(infsvi1.p_S)\n",
    "svi1_tsne = TSNE(n_components=2).fit_transform(svi1_U)"
   ]
  },
  {
   "cell_type": "code",
   "execution_count": null,
   "metadata": {},
   "outputs": [],
   "source": [
    "# Run SVI and get estimates (pCMF)\n",
    "print('SVI-50:')\n",
    "infsvi50 = svi_new.StochasticVI(Y_train, alpha, beta, pi_D=pi_D, pi_S=pi_S, minibatch_size=50, empirical_bayes=True)\n",
    "infsvi50.run(n_iterations=max_iter, calc_ll=True, calc_silh=True, clusters=c_train, sampling_rate=S, max_time=T)\n",
    "svi50_U = infsvi50.a[0] / infsvi50.a[1] # VI estimate is the mean of the variational approximation\n",
    "svi50_V = infsvi50.b[0] / infsvi50.b[1]\n",
    "svi50_D = infsvi50.estimate_D(infsvi50.p_D)\n",
    "svi50_S = infsvi50.estimate_S(infsvi50.p_S)\n",
    "svi50_tsne = TSNE(n_components=2).fit_transform(svi50_U)"
   ]
  },
  {
   "cell_type": "code",
   "execution_count": null,
   "metadata": {},
   "outputs": [],
   "source": [
    "# Run SVI and get estimates (pCMF)\n",
    "print('SVI-100:')\n",
    "infsvi100 = svi_new.StochasticVI(Y_train, alpha, beta, pi_D=pi_D, pi_S=pi_S, minibatch_size=100, empirical_bayes=True)\n",
    "infsvi100.run(n_iterations=max_iter, calc_ll=True, calc_silh=True, clusters=c_train, sampling_rate=S, max_time=T)\n",
    "svi100_U = infsvi100.a[0] / infsvi100.a[1] # VI estimate is the mean of the variational approximation\n",
    "svi100_V = infsvi100.b[0] / infsvi100.b[1]\n",
    "svi100_D = infsvi100.estimate_D(infsvi100.p_D)\n",
    "svi100_S = infsvi100.estimate_S(infsvi100.p_S)\n",
    "svi100_tsne = TSNE(n_components=2).fit_transform(svi100_U)"
   ]
  },
  {
   "cell_type": "code",
   "execution_count": null,
   "metadata": {},
   "outputs": [],
   "source": [
    "# Run SVI and get estimates (pCMF)\n",
    "print('SVI-500:')\n",
    "infsvi500 = svi_new.StochasticVI(Y_train, alpha, beta, pi_D=pi_D, pi_S=pi_S, minibatch_size=500, empirical_bayes=True)\n",
    "infsvi500.run(n_iterations=max_iter, calc_ll=True, calc_silh=True, clusters=c_train, sampling_rate=S, max_time=T)\n",
    "svi500_U = infsvi500.a[0] / infsvi500.a[1] # VI estimate is the mean of the variational approximation\n",
    "svi500_V = infsvi500.b[0] / infsvi500.b[1]\n",
    "svi500_D = infsvi500.estimate_D(infsvi500.p_D)\n",
    "svi500_S = infsvi500.estimate_S(infsvi500.p_S)\n",
    "svi500_tsne = TSNE(n_components=2).fit_transform(svi500_U)"
   ]
  },
  {
   "cell_type": "code",
   "execution_count": null,
   "metadata": {},
   "outputs": [],
   "source": [
    "fig = plt.figure(figsize=(12, 4))\n",
    "\n",
    "ax = plt.subplot(1, 2, 1)\n",
    "ax.plot(infcavi.ll_time, label='CAVI')\n",
    "ax.plot(infsvi1.ll_time, label='SVI-1')\n",
    "ax.plot(infsvi50.ll_time, label='SVI-50')\n",
    "ax.plot(infsvi100.ll_time, label='SVI-100')\n",
    "ax.plot(infsvi500.ll_time, label='SVI-500')\n",
    "plt.ylabel('Average log-likelihood')\n",
    "plt.xlabel('Seconds(*{0})'.format(S))\n",
    "\n",
    "ax = plt.subplot(1, 2, 2)\n",
    "ax.plot(infcavi.silh_time, label='CAVI')\n",
    "ax.plot(infsvi1.silh_time, label='SVI-1')\n",
    "ax.plot(infsvi50.silh_time, label='SVI-50')\n",
    "ax.plot(infsvi100.silh_time, label='SVI-100')\n",
    "ax.plot(infsvi500.silh_time, label='SVI-500')\n",
    "plt.ylabel('Silhouette of latent space')\n",
    "plt.xlabel('Seconds(*{0})'.format(S))\n",
    "\n",
    "plt.legend(loc='upper left', bbox_to_anchor=[1., 1.], frameon=True)\n",
    "plt.suptitle('Data set with N={} and P={}'.format(N, P), fontsize=14)\n",
    "plt.subplots_adjust(top=0.85)\n",
    "plt.show()"
   ]
  },
  {
   "cell_type": "code",
   "execution_count": null,
   "metadata": {},
   "outputs": [],
   "source": [
    "cavi_dll = utils.log_likelihood(Y_train, cavi_U, cavi_V, infcavi.p_D, cavi_S, clip=infcavi.clip_ll)\n",
    "svi1_dll = utils.log_likelihood(Y_train, svi1_U, svi1_V, infsvi1.p_D, svi1_S, clip=infcavi.clip_ll)\n",
    "svi50_dll = utils.log_likelihood(Y_train, svi50_U, svi50_V, infsvi50.p_D, svi50_S, clip=infcavi.clip_ll)\n",
    "svi100_dll = utils.log_likelihood(Y_train, svi100_U, svi100_V, infsvi100.p_D, svi100_S, clip=infcavi.clip_ll)\n",
    "svi500_dll = utils.log_likelihood(Y_train, svi500_U, svi500_V, infsvi500.p_D, svi500_S, clip=infcavi.clip_ll)\n",
    "\n",
    "scores = {'CAVI': cavi_dll, 'SVI-1': svi1_dll, 'SVI-50': svi50_dll, 'SVI-100': svi100_dll, 'SVI-500': svi500_dll}\n",
    "\n",
    "sorted_scores = sorted(scores.items(), key=operator.itemgetter(1), reverse=True)\n",
    "\n",
    "print('Full data log-likelihood:')\n",
    "print('\\033[1m- {0}: {1:.6}\\033[0m'.format(sorted_scores[0][0], sorted_scores[0][1]))\n",
    "for score_tp in sorted_scores[1:]:\n",
    "    print('- {0}: {1:.6}'.format(score_tp[0], score_tp[1]))"
   ]
  },
  {
   "cell_type": "code",
   "execution_count": null,
   "metadata": {},
   "outputs": [],
   "source": [
    "cavi_holl = infcavi.predictive_ll(Y_test)\n",
    "svi1_holl = infsvi1.predictive_ll(Y_test)\n",
    "svi50_holl = infsvi50.predictive_ll(Y_test)\n",
    "svi100_holl = infsvi100.predictive_ll(Y_test)\n",
    "svi500_holl = infsvi500.predictive_ll(Y_test)\n",
    "\n",
    "scores = {'CAVI': cavi_holl, 'SVI-1': svi1_holl, 'SVI-50': svi50_holl, 'SVI-100': svi100_holl, 'SVI-500': svi500_holl}\n",
    "\n",
    "sorted_scores = sorted(scores.items(), key=operator.itemgetter(1), reverse=True)\n",
    "\n",
    "print('Held-out log-likelihood:')\n",
    "print('\\033[1m- {0}: {1:.6}\\033[0m'.format(sorted_scores[0][0], sorted_scores[0][1]))\n",
    "for score_tp in sorted_scores[1:]:\n",
    "    print('- {0}: {1:.6}'.format(score_tp[0], score_tp[1]))"
   ]
  },
  {
   "cell_type": "code",
   "execution_count": null,
   "metadata": {
    "scrolled": true
   },
   "outputs": [],
   "source": [
    "true_silh = silhouette_score(U_train, c_train)\n",
    "cavi_silh = silhouette_score(cavi_U, c_train)\n",
    "svi1_silh = silhouette_score(svi1_U, c_train)\n",
    "svi50_silh = silhouette_score(svi50_U, c_train)\n",
    "svi100_silh = silhouette_score(svi100_U, c_train)\n",
    "svi500_silh = silhouette_score(svi500_U, c_train)\n",
    "pca_silh = silhouette_score(pca_U, c_train)\n",
    "\n",
    "scores = {'CAVI': cavi_silh, 'SVI-1': svi1_silh, 'SVI-50': svi50_silh, 'SVI-100': svi100_silh, \n",
    "          'SVI-500': svi500_silh, 'PCA': pca_silh}\n",
    "\n",
    "sorted_scores = sorted(scores.items(), key=operator.itemgetter(1), reverse=True)\n",
    "\n",
    "print('Silhouette scores (higher is better):')\n",
    "print('\\033[1m- {0}: {1:.3}\\033[0m'.format(sorted_scores[0][0], sorted_scores[0][1]))\n",
    "for score_tp in sorted_scores[1:]:\n",
    "    print('- {0}: {1:.3}'.format(score_tp[0], score_tp[1]))\n",
    "    \n",
    "print('\\nSilhouette of true U:')\n",
    "print('%0.3f' % true_silh)"
   ]
  },
  {
   "cell_type": "code",
   "execution_count": null,
   "metadata": {},
   "outputs": [],
   "source": [
    "U_list = [cavi_tsne, svi1_tsne, svi50_tsne, svi100_tsne, svi500_tsne, pca_tsne]\n",
    "title_list = ['CAVI', 'SVI-1', 'SVI-50', 'SVI-100', 'SVI-500', 'PCA']\n",
    "\n",
    "n_results = len(U_list)\n",
    "\n",
    "assert len(U_list) == len(title_list)\n",
    "\n",
    "fig = plt.figure(figsize=(16, 8))\n",
    "\n",
    "s = 30\n",
    "alpha = 0.7\n",
    "labels=None\n",
    "for i in range(len(U_list)):\n",
    "    ax = plt.subplot(2, 3, i+1)\n",
    "    handlers = []\n",
    "    for c in range(C):\n",
    "        h = ax.scatter(U_list[title_list.index(sorted_scores[i][0])][c_train==c, 0], U_list[title_list.index(sorted_scores[i][0])][c_train==c, 1], s=s, alpha=alpha)\n",
    "        handlers.append(h)\n",
    "    if labels is not None:\n",
    "        ax.legend(handlers, labels, scatterpoints=1)\n",
    "    plt.title(sorted_scores[i][0])\n",
    "plt.show()"
   ]
  }
 ],
 "metadata": {
  "kernelspec": {
   "display_name": "Python 3",
   "language": "python",
   "name": "python3"
  },
  "language_info": {
   "codemirror_mode": {
    "name": "ipython",
    "version": 3
   },
   "file_extension": ".py",
   "mimetype": "text/x-python",
   "name": "python",
   "nbconvert_exporter": "python",
   "pygments_lexer": "ipython3",
   "version": "3.6.3"
  }
 },
 "nbformat": 4,
 "nbformat_minor": 2
}
