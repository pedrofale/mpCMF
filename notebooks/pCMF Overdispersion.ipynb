{
 "cells": [
  {
   "cell_type": "markdown",
   "metadata": {},
   "source": [
    "# Testing Overdispersed Count Matrix Factorization in simulated data "
   ]
  },
  {
   "cell_type": "code",
   "execution_count": 1,
   "metadata": {},
   "outputs": [],
   "source": [
    "from pCMF.misc import utils, plot_utils, print_utils\n",
    "from pCMF.misc.model_wrapper import ModelWrapper\n",
    "from pCMF.models.pcmf import pcmf\n",
    "\n",
    "import matplotlib\n",
    "%matplotlib inline\n",
    "import matplotlib.pyplot as plt\n",
    "from matplotlib.pyplot import cm\n",
    "\n",
    "import seaborn as sns\n",
    "sns.set_style('whitegrid')\n",
    "\n",
    "import numpy as np\n",
    "from sklearn.decomposition import PCA\n",
    "from sklearn.manifold import TSNE\n",
    "from sklearn.metrics import silhouette_score\n",
    "from sklearn.model_selection import train_test_split\n",
    "\n",
    "from scipy.stats import gamma\n",
    "\n",
    "import argparse\n",
    "import os, sys\n",
    "import time"
   ]
  },
  {
   "cell_type": "code",
   "execution_count": 2,
   "metadata": {},
   "outputs": [],
   "source": [
    "# Experiment parameters\n",
    "N = 1000 # number of observations\n",
    "P = 100 # observation space dimensionality\n",
    "K = 10 # latent space dimensionality\n",
    "C = 2 # number of clusters\n",
    "\n",
    "# Generate data set\n",
    "z_p = 0. # no ZI\n",
    "eps = 5.\n",
    "Y, D, X, R, V, U, clusters = utils.generate_data(N, P, K, C=C, zero_prob=z_p,\n",
    "                                                 eps=eps, return_all=True)\n",
    "\n",
    "Y_train, Y_test, U_train, U_test, D_train, D_test, c_train, c_test = train_test_split(Y, U.T, D, clusters, test_size=0.2, random_state=42)"
   ]
  },
  {
   "cell_type": "code",
   "execution_count": 3,
   "metadata": {},
   "outputs": [],
   "source": [
    "T = 60.\n",
    "S = 1.\n",
    "max_iter = 2"
   ]
  },
  {
   "cell_type": "code",
   "execution_count": 4,
   "metadata": {},
   "outputs": [
    {
     "name": "stdout",
     "output_type": "stream",
     "text": [
      "GaP:\n"
     ]
    }
   ],
   "source": [
    "gap = pcmf.PCMF(Y_train, c_train, X_test=Y_test, D_train=D_train, name=\"GaP\", zero_inflation=False, sparsity=False)"
   ]
  },
  {
   "cell_type": "code",
   "execution_count": 5,
   "metadata": {},
   "outputs": [
    {
     "name": "stdout",
     "output_type": "stream",
     "text": [
      "Iteration 0/1. Log-likelihood: -3.777. Elapsed: 0h0m5s\r\n"
     ]
    },
    {
     "name": "stderr",
     "output_type": "stream",
     "text": [
      "/home/pferreira/pCMF/venv/lib/python3.6/site-packages/numpy/core/fromnumeric.py:2957: RuntimeWarning: Mean of empty slice.\n",
      "  out=out, **kwargs)\n",
      "/home/pferreira/pCMF/venv/lib/python3.6/site-packages/numpy/core/_methods.py:80: RuntimeWarning: invalid value encountered in double_scalars\n",
      "  ret = ret.dtype.type(ret / rcount)\n"
     ]
    }
   ],
   "source": [
    "gap.run(max_iter=1)"
   ]
  },
  {
   "cell_type": "code",
   "execution_count": null,
   "metadata": {},
   "outputs": [],
   "source": [
    "self = gap.inf"
   ]
  },
  {
   "cell_type": "code",
   "execution_count": null,
   "metadata": {},
   "outputs": [],
   "source": [
    "init = time.time()\n",
    "for i in range(self.N):\n",
    "    for k in range(self.K):\n",
    "        self.a[0, i, k] = self.alpha[0, i, k] + np.sum(self.p_D[i, :] * self.p_S[:, k] * self.X[i, :] * self.r[i, :, k])\n",
    "print(time.time() - init)"
   ]
  },
  {
   "cell_type": "code",
   "execution_count": null,
   "metadata": {},
   "outputs": [],
   "source": [
    "(self.X[:,:]*self.r[:,:,k]).shape"
   ]
  },
  {
   "cell_type": "code",
   "execution_count": null,
   "metadata": {},
   "outputs": [],
   "source": [
    "np.sum(self.X[:,:]*self.r[:,:,k], axis=0).shape"
   ]
  },
  {
   "cell_type": "code",
   "execution_count": null,
   "metadata": {},
   "outputs": [],
   "source": [
    "A.shape"
   ]
  },
  {
   "cell_type": "code",
   "execution_count": null,
   "metadata": {},
   "outputs": [],
   "source": []
  },
  {
   "cell_type": "code",
   "execution_count": null,
   "metadata": {},
   "outputs": [],
   "source": [
    "self.X[0, :].shape"
   ]
  },
  {
   "cell_type": "code",
   "execution_count": null,
   "metadata": {},
   "outputs": [],
   "source": [
    "self.r[0, :, 0].shape"
   ]
  },
  {
   "cell_type": "code",
   "execution_count": null,
   "metadata": {},
   "outputs": [],
   "source": [
    "init = time.time()\n",
    "self.a[0] = self.alpha[0] + self.p_D.dot(self.p_S) * self.X.dot(self.r)\n",
    "print(time.time() - init)"
   ]
  },
  {
   "cell_type": "code",
   "execution_count": null,
   "metadata": {},
   "outputs": [],
   "source": [
    "self.a[0]"
   ]
  },
  {
   "cell_type": "code",
   "execution_count": null,
   "metadata": {},
   "outputs": [],
   "source": [
    "gap = pcmf.PCMF(Y_train, c_train, X_test=Y_test, D_train=D_train, name=\"GaP\", zero_inflation=False, sparsity=False)\n",
    "model_list = [gap]\n",
    "\n",
    "for model in model_list:\n",
    "    model.run(max_iter=max_iter, max_time=T, sampling_rate=S, verbose=True, calc_silh=False, calc_ll=False)"
   ]
  },
  {
   "cell_type": "code",
   "execution_count": null,
   "metadata": {},
   "outputs": [],
   "source": [
    "# Prior parameters\n",
    "alpha = np.ones((2, K))\n",
    "alpha[0, :] = 3.\n",
    "alpha[1, :] = 0.5\n",
    "beta = np.ones((2, P, K))"
   ]
  },
  {
   "cell_type": "code",
   "execution_count": null,
   "metadata": {
    "scrolled": false
   },
   "outputs": [],
   "source": [
    "print('Simple GaP:')\n",
    "infgap = cavi_new.CoordinateAscentVI(Y_train, alpha, beta, empirical_bayes=False)\n",
    "infgap.run(n_iterations=4000, calc_ll=True, calc_silh=True, clusters=c_train, sampling_rate=S, max_time=T)\n",
    "gap_U = infgap.a[0] / infgap.a[1] # VI estimate is the mean of the variational approximation\n",
    "gap_V = infgap.b[0] / infgap.b[1]\n",
    "gap_S = infgap.estimate_S(infgap.p_S)\n",
    "gap_tsne = TSNE(n_components=2).fit_transform(gap_U)"
   ]
  },
  {
   "cell_type": "code",
   "execution_count": null,
   "metadata": {},
   "outputs": [],
   "source": [
    "print('Simple GaP-EB:')\n",
    "infgapeb = cavi_new.CoordinateAscentVI(Y_train, alpha, beta, empirical_bayes=True)\n",
    "infgapeb.run(n_iterations=4000, calc_ll=True, calc_silh=True, clusters=c_train, sampling_rate=S, max_time=T)\n",
    "gapeb_U = infgapeb.a[0] / infgapeb.a[1] # VI estimate is the mean of the variational approximation\n",
    "gapeb_V = infgapeb.b[0] / infgapeb.b[1]\n",
    "gapeb_S = infgapeb.estimate_S(infgapeb.p_S)\n",
    "gapeb_tsne = TSNE(n_components=2).fit_transform(gapeb_U)"
   ]
  },
  {
   "cell_type": "code",
   "execution_count": null,
   "metadata": {},
   "outputs": [],
   "source": [
    "fig = plt.figure(figsize=(12, 4))\n",
    "\n",
    "ax = plt.subplot(1, 2, 1)\n",
    "ax.plot(infgap.ll_time, label='GaP')\n",
    "ax.plot(infgapeb.ll_time, label='GaP-EB')\n",
    "plt.ylabel('Average log-likelihood')\n",
    "plt.xlabel('Seconds(*{0})'.format(S))\n",
    "\n",
    "ax = plt.subplot(1, 2, 2)\n",
    "ax.plot(infgap.silh_time, label='GaP')\n",
    "ax.plot(infgapeb.silh_time, label='GaP-EB')\n",
    "plt.ylabel('Silhouette of latent space')\n",
    "plt.xlabel('Seconds(*{0})'.format(S))\n",
    "\n",
    "plt.legend(loc='upper left', bbox_to_anchor=[1., 1.], frameon=True)\n",
    "plt.suptitle('Data set with N={} and P={}'.format(N, P), fontsize=14)\n",
    "plt.subplots_adjust(top=0.85)\n",
    "plt.show()"
   ]
  },
  {
   "cell_type": "code",
   "execution_count": null,
   "metadata": {},
   "outputs": [],
   "source": [
    "gap_dll = utils.log_likelihood(Y_train, gap_U, gap_V, infgap.p_D, gap_S)\n",
    "gapeb_dll = utils.log_likelihood(Y_train, gapeb_U, gapeb_V, infgapeb.p_D, gapeb_S)\n",
    "\n",
    "scores = {'GaP': gap_dll, 'GaP-EB': gapeb_dll}\n",
    "\n",
    "sorted_scores = sorted(scores.items(), key=operator.itemgetter(1), reverse=True)\n",
    "\n",
    "print('Full data log-likelihood:')\n",
    "print('\\033[1m- {0}: {1:.3}\\033[0m'.format(sorted_scores[0][0], sorted_scores[0][1]))\n",
    "for score_tp in sorted_scores[1:]:\n",
    "    print('- {0}: {1:.3}'.format(score_tp[0], score_tp[1]))"
   ]
  },
  {
   "cell_type": "code",
   "execution_count": null,
   "metadata": {},
   "outputs": [],
   "source": [
    "gap_holl = infgap.predictive_ll(Y_test)\n",
    "gapeb_holl = infgapeb.predictive_ll(Y_test)\n",
    "\n",
    "scores = {'GaP': gap_holl, 'GaP-EB': gapeb_holl}\n",
    "\n",
    "sorted_scores = sorted(scores.items(), key=operator.itemgetter(1), reverse=True)\n",
    "\n",
    "print('Held-out log-likelihood:')\n",
    "print('\\033[1m- {0}: {1:.3}\\033[0m'.format(sorted_scores[0][0], sorted_scores[0][1]))\n",
    "for score_tp in sorted_scores[1:]:\n",
    "    print('- {0}: {1:.3}'.format(score_tp[0], score_tp[1]))"
   ]
  },
  {
   "cell_type": "code",
   "execution_count": null,
   "metadata": {
    "scrolled": true
   },
   "outputs": [],
   "source": [
    "true_silh = silhouette_score(U_train, c_train)\n",
    "gap_silh = silhouette_score(gap_U, c_train)\n",
    "gapeb_silh = silhouette_score(gapeb_U, c_train)\n",
    "pca_silh = silhouette_score(pca_U, c_train)\n",
    "\n",
    "scores = {'GaP': gap_silh, 'GaP-EB': gapeb_silh, 'PCA': pca_silh}\n",
    "\n",
    "sorted_scores = sorted(scores.items(), key=operator.itemgetter(1), reverse=True)\n",
    "\n",
    "print('Silhouette scores (higher is better):')\n",
    "print('\\033[1m- {0}: {1:.3}\\033[0m'.format(sorted_scores[0][0], sorted_scores[0][1]))\n",
    "for score_tp in sorted_scores[1:]:\n",
    "    print('- {0}: {1:.3}'.format(score_tp[0], score_tp[1]))\n",
    "    \n",
    "print('\\nSilhouette of true U:')\n",
    "print('%0.3f' % true_silh)"
   ]
  },
  {
   "cell_type": "code",
   "execution_count": null,
   "metadata": {},
   "outputs": [],
   "source": [
    "# Plot in decreasing silhouette order\n",
    "U_list = [gap_tsne, gapeb_tsne, pca_tsne]\n",
    "title_list = ['GaP', 'GaP-EB', 'PCA']\n",
    "\n",
    "assert len(U_list) == len(title_list)\n",
    "\n",
    "n_results = len(U_list)\n",
    "\n",
    "fig = plt.figure(figsize=(16, 4))\n",
    "\n",
    "s = 30\n",
    "alpha = 0.7\n",
    "labels=None\n",
    "for i in range(len(U_list)):\n",
    "    ax = plt.subplot(1, n_results, i+1)\n",
    "    handlers = []\n",
    "    for c in range(C):\n",
    "        h = ax.scatter(U_list[title_list.index(sorted_scores[i][0])][c_train==c, 0], U_list[title_list.index(sorted_scores[i][0])][c_train==c, 1], s=s, alpha=alpha)\n",
    "        handlers.append(h)\n",
    "    if labels is not None:\n",
    "        ax.legend(handlers, labels, scatterpoints=1)\n",
    "    plt.title(sorted_scores[i][0])\n",
    "plt.show()"
   ]
  }
 ],
 "metadata": {
  "kernelspec": {
   "display_name": "Python 3",
   "language": "python",
   "name": "python3"
  },
  "language_info": {
   "codemirror_mode": {
    "name": "ipython",
    "version": 3
   },
   "file_extension": ".py",
   "mimetype": "text/x-python",
   "name": "python",
   "nbconvert_exporter": "python",
   "pygments_lexer": "ipython3",
   "version": "3.6.3"
  }
 },
 "nbformat": 4,
 "nbformat_minor": 2
}
