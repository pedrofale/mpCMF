{
 "cells": [
  {
   "cell_type": "markdown",
   "metadata": {},
   "source": [
    "# Testing Sparse Zero-Inflated Count Matrix Factorization in simulated data with SVI"
   ]
  },
  {
   "cell_type": "code",
   "execution_count": 1,
   "metadata": {},
   "outputs": [],
   "source": [
    "from pCMF.misc import utils\n",
    "from pCMF.models.pcmf.inferences import cavi_new, svi_new\n",
    "\n",
    "import matplotlib.pyplot as plt\n",
    "from matplotlib.pyplot import cm\n",
    "import numpy as np\n",
    "from sklearn.decomposition import PCA\n",
    "from sklearn.manifold import TSNE\n",
    "from sklearn.metrics import silhouette_score\n",
    "from sklearn.model_selection import train_test_split\n",
    "\n",
    "from scipy.stats import gamma\n",
    "\n",
    "import operator\n",
    "import seaborn as sns\n",
    "sns.set_style('whitegrid')\n",
    "\n",
    "%matplotlib inline"
   ]
  },
  {
   "cell_type": "code",
   "execution_count": 2,
   "metadata": {},
   "outputs": [],
   "source": [
    "# Experiment parameters\n",
    "N = 1000 # number of observations\n",
    "P = 20 # observation space dimensionality\n",
    "K = 10 # latent space dimensionality\n",
    "C = 2 # number of clusters\n",
    "\n",
    "# Generate data set\n",
    "z_p = 0.5\n",
    "eps = 5.\n",
    "Y, D, X, R, V, U, clusters = utils.generate_sparse_data(N, P, K, C=C, zero_prob=z_p, noisy_prop=0.5,\n",
    "                                                 eps_U=eps, return_all=True)\n",
    "\n",
    "Y_train, Y_test, U_train, U_test, c_train, c_test = train_test_split(Y, U.T, clusters, test_size=0.2, random_state=42)"
   ]
  },
  {
   "cell_type": "code",
   "execution_count": 3,
   "metadata": {},
   "outputs": [],
   "source": [
    "T = 60. * 5.\n",
    "S = 10."
   ]
  },
  {
   "cell_type": "code",
   "execution_count": 4,
   "metadata": {},
   "outputs": [],
   "source": [
    "# Run PCA\n",
    "pca_U = PCA(n_components=K).fit_transform(np.log(Y_train + 1.))\n",
    "pca_tsne = TSNE(n_components=2).fit_transform(pca_U)"
   ]
  },
  {
   "cell_type": "code",
   "execution_count": 5,
   "metadata": {},
   "outputs": [],
   "source": [
    "# Prior parameters\n",
    "alpha = np.ones((2, K))\n",
    "alpha[0, :] = 3.\n",
    "alpha[1, :] = 0.5\n",
    "beta = np.ones((2, P, K))\n",
    "pi_D = np.ones((P,)) * 0.5\n",
    "pi_S = np.ones((P,)) * 0.5"
   ]
  },
  {
   "cell_type": "code",
   "execution_count": null,
   "metadata": {
    "scrolled": false
   },
   "outputs": [
    {
     "name": "stdout",
     "output_type": "stream",
     "text": [
      "Simple GaP:\n",
      "Iteration 221/4000. Log-likelihood: 170.333. Elapsed: 0h0m57s\r"
     ]
    }
   ],
   "source": [
    "print('Simple GaP:')\n",
    "infgap = svi_new.StochasticVI(Y_train, alpha, beta, minibatch_size=100, empirical_bayes=False)\n",
    "infgap.run(n_iterations=4000, calc_ll=True, calc_silh=True, clusters=c_train, sampling_rate=S, max_time=T)\n",
    "gap_U = infgap.a[0] / infgap.a[1] # VI estimate is the mean of the variational approximation\n",
    "gap_V = infgap.b[0] / infgap.b[1]\n",
    "gap_S = infgap.estimate_S(infgap.p_S)\n",
    "gap_tsne = TSNE(n_components=2).fit_transform(gap_U)"
   ]
  },
  {
   "cell_type": "code",
   "execution_count": null,
   "metadata": {},
   "outputs": [],
   "source": [
    "print('Simple GaP-EB:')\n",
    "infgapeb = svi_new.StochasticVI(Y_train, alpha, beta, minibatch_size=100, empirical_bayes=True)\n",
    "infgapeb.run(n_iterations=4000, calc_ll=True, calc_silh=True, clusters=c_train, sampling_rate=S, max_time=T)\n",
    "gapeb_U = infgapeb.a[0] / infgapeb.a[1] # VI estimate is the mean of the variational approximation\n",
    "gapeb_V = infgapeb.b[0] / infgapeb.b[1]\n",
    "gapeb_S = infgapeb.estimate_S(infgapeb.p_S)\n",
    "gapeb_tsne = TSNE(n_components=2).fit_transform(gapeb_U)"
   ]
  },
  {
   "cell_type": "code",
   "execution_count": null,
   "metadata": {},
   "outputs": [],
   "source": [
    "print('Zero-Inflated GaP:')\n",
    "infzigap = svi_new.StochasticVI(Y_train, alpha, beta, pi_D=pi_D, minibatch_size=100, empirical_bayes=False)\n",
    "infzigap.run(n_iterations=4000, calc_ll=True, calc_silh=True, clusters=c_train, sampling_rate=S, max_time=T)\n",
    "zigap_U = infzigap.a[0] / infzigap.a[1] # VI estimate is the mean of the variational approximation\n",
    "zigap_V = infzigap.b[0] / infzigap.b[1]\n",
    "zigap_S = infzigap.estimate_S(infzigap.p_S)\n",
    "zigap_tsne = TSNE(n_components=2).fit_transform(zigap_U)"
   ]
  },
  {
   "cell_type": "code",
   "execution_count": null,
   "metadata": {},
   "outputs": [],
   "source": [
    "print('Zero-Inflated GaP-EB:')\n",
    "infzigapeb = svi_new.StochasticVI(Y_train, alpha, beta, pi_D, minibatch_size=100, empirical_bayes=True)\n",
    "infzigapeb.run(n_iterations=4000, calc_ll=True, calc_silh=True, clusters=c_train, sampling_rate=S, max_time=T)\n",
    "zigapeb_U = infzigapeb.a[0] / infzigapeb.a[1] # VI estimate is the mean of the variational approximation\n",
    "zigapeb_V = infzigapeb.b[0] / infzigapeb.b[1]\n",
    "zigapeb_S = infzigapeb.estimate_S(infzigapeb.p_S)\n",
    "zigapeb_tsne = TSNE(n_components=2).fit_transform(zigapeb_U)"
   ]
  },
  {
   "cell_type": "code",
   "execution_count": null,
   "metadata": {},
   "outputs": [],
   "source": [
    "print('Sparse Zero-Inflated GaP:')\n",
    "infszigap = svi_new.StochasticVI(Y_train, alpha, beta, pi_D=pi_D, pi_S=pi_S, minibatch_size=100, empirical_bayes=False)\n",
    "infszigap.run(n_iterations=4000, calc_ll=True, calc_silh=True, clusters=c_train, sampling_rate=S, max_time=T)\n",
    "szigap_U = infszigap.a[0] / infszigap.a[1] # VI estimate is the mean of the variational approximation\n",
    "szigap_V = infszigap.b[0] / infszigap.b[1]\n",
    "szigap_S = infszigap.estimate_S(infszigap.p_S)\n",
    "szigap_tsne = TSNE(n_components=2).fit_transform(szigap_U)"
   ]
  },
  {
   "cell_type": "code",
   "execution_count": null,
   "metadata": {},
   "outputs": [],
   "source": [
    "print('Sparse Zero-Inflated GaP-EB:')\n",
    "infszigapeb = svi_new.StochasticVI(Y_train, alpha, beta, pi_D=pi_D, pi_S=pi_S, minibatch_size=100, empirical_bayes=True)\n",
    "infszigapeb.run(n_iterations=4000, calc_ll=True, calc_silh=True, clusters=c_train, sampling_rate=S, max_time=T)\n",
    "szigapeb_U = infszigapeb.a[0] / infszigapeb.a[1] # VI estimate is the mean of the variational approximation\n",
    "szigapeb_V = infszigapeb.b[0] / infszigapeb.b[1]\n",
    "szigapeb_S = infszigapeb.estimate_S(infszigapeb.p_S)\n",
    "szigapeb_tsne = TSNE(n_components=2).fit_transform(szigapeb_U)"
   ]
  },
  {
   "cell_type": "code",
   "execution_count": null,
   "metadata": {},
   "outputs": [],
   "source": [
    "fig = plt.figure(figsize=(12, 4))\n",
    "\n",
    "ax = plt.subplot(1, 2, 1)\n",
    "ax.plot(infgap.ll_time, label='GaP')\n",
    "ax.plot(infgapeb.ll_time, label='GaP-EB')\n",
    "ax.plot(infzigap.ll_time, label='ZIGaP')\n",
    "ax.plot(infzigapeb.ll_time, label='ZIGaP-EB')\n",
    "ax.plot(infszigap.ll_time, label='SZIGaP')\n",
    "ax.plot(infszigapeb.ll_time, label='SZIGaP-EB')\n",
    "plt.ylabel('Average log-likelihood')\n",
    "plt.xlabel('Seconds(*{0})'.format(S))\n",
    "\n",
    "ax = plt.subplot(1, 2, 2)\n",
    "ax.plot(infgap.silh_time, label='GaP')\n",
    "ax.plot(infgapeb.silh_time, label='GaP-EB')\n",
    "ax.plot(infzigap.silh_time, label='ZIGaP')\n",
    "ax.plot(infzigapeb.silh_time, label='ZIGaP-EB')\n",
    "ax.plot(infszigap.silh_time, label='SZIGaP')\n",
    "ax.plot(infszigapeb.silh_time, label='SZIGaP-EB')\n",
    "plt.ylabel('Silhouette of latent space')\n",
    "plt.xlabel('Seconds(*{0})'.format(S))\n",
    "\n",
    "plt.legend(loc='upper left', bbox_to_anchor=[1., 1.], frameon=True)\n",
    "plt.suptitle('Data set with N={} and P={}'.format(N, P), fontsize=14)\n",
    "plt.subplots_adjust(top=0.85)\n",
    "plt.show()"
   ]
  },
  {
   "cell_type": "code",
   "execution_count": null,
   "metadata": {},
   "outputs": [],
   "source": [
    "gap_dll = utils.log_likelihood(Y_train, gap_U, gap_V, infgap.p_D, gap_S, clip=infgap.clip_ll)\n",
    "gapeb_dll = utils.log_likelihood(Y_train, gapeb_U, gapeb_V, infgapeb.p_D, gapeb_S, clip=infgap.clip_ll)\n",
    "zigap_dll = utils.log_likelihood(Y_train, zigap_U, zigap_V, infzigap.p_D, zigap_S, clip=infgap.clip_ll)\n",
    "zigapeb_dll = utils.log_likelihood(Y_train, zigapeb_U, zigapeb_V, infzigapeb.p_D, zigapeb_S, clip=infgap.clip_ll)\n",
    "szigap_dll = utils.log_likelihood(Y_train, szigap_U, szigap_V, infszigap.p_D, szigap_S, clip=infgap.clip_ll)\n",
    "szigapeb_dll = utils.log_likelihood(Y_train, szigapeb_U, szigapeb_V, infszigapeb.p_D, szigapeb_S, clip=infgap.clip_ll)\n",
    "\n",
    "scores = {'GaP': gap_dll, 'GaP-EB': gapeb_dll, 'ZIGaP': zigap_dll, 'ZIGaP-EB': zigapeb_dll, 'SZIGaP': szigap_dll, 'SZIGaP-EB': szigapeb_dll}\n",
    "\n",
    "sorted_scores = sorted(scores.items(), key=operator.itemgetter(1), reverse=True)\n",
    "\n",
    "print('Full data log-likelihood:')\n",
    "print('\\033[1m- {0}: {1:.6}\\033[0m'.format(sorted_scores[0][0], sorted_scores[0][1]))\n",
    "for score_tp in sorted_scores[1:]:\n",
    "    print('- {0}: {1:.6}'.format(score_tp[0], score_tp[1]))"
   ]
  },
  {
   "cell_type": "code",
   "execution_count": null,
   "metadata": {},
   "outputs": [],
   "source": [
    "gap_holl = infgap.predictive_ll(Y_test)\n",
    "gapeb_holl = infgapeb.predictive_ll(Y_test)\n",
    "zigap_holl = infzigap.predictive_ll(Y_test)\n",
    "zigapeb_holl = infzigapeb.predictive_ll(Y_test)\n",
    "szigap_holl = infszigap.predictive_ll(Y_test)\n",
    "szigapeb_holl = infszigapeb.predictive_ll(Y_test)\n",
    "\n",
    "scores = {'GaP': gap_holl, 'GaP-EB': gapeb_holl, 'ZIGaP': zigap_holl, 'ZIGaP-EB': zigapeb_holl, 'SZIGaP': szigap_holl, 'SZIGaP-EB': szigapeb_holl}\n",
    "\n",
    "sorted_scores = sorted(scores.items(), key=operator.itemgetter(1), reverse=True)\n",
    "\n",
    "print('Held-out log-likelihood:')\n",
    "print('\\033[1m- {0}: {1:.6}\\033[0m'.format(sorted_scores[0][0], sorted_scores[0][1]))\n",
    "for score_tp in sorted_scores[1:]:\n",
    "    print('- {0}: {1:.6}'.format(score_tp[0], score_tp[1]))"
   ]
  },
  {
   "cell_type": "code",
   "execution_count": null,
   "metadata": {
    "scrolled": true
   },
   "outputs": [],
   "source": [
    "true_silh = silhouette_score(U_train, c_train)\n",
    "gap_silh = silhouette_score(gap_U, c_train)\n",
    "gapeb_silh = silhouette_score(gapeb_U, c_train)\n",
    "zigap_silh = silhouette_score(zigap_U, c_train)\n",
    "zigapeb_silh = silhouette_score(zigapeb_U, c_train)\n",
    "szigap_silh = silhouette_score(szigap_U, c_train)\n",
    "szigapeb_silh = silhouette_score(szigapeb_U, c_train)\n",
    "pca_silh = silhouette_score(pca_U, c_train)\n",
    "\n",
    "scores = {'GaP': gap_silh, 'GaP-EB': gapeb_silh, 'ZIGaP': zigap_silh, 'ZIGaP-EB': zigapeb_silh, 'SZIGaP': szigap_silh, 'SZIGaP-EB': szigapeb_silh, 'PCA': pca_silh}\n",
    "\n",
    "sorted_scores = sorted(scores.items(), key=operator.itemgetter(1), reverse=True)\n",
    "\n",
    "print('Silhouette scores (higher is better):')\n",
    "print('\\033[1m- {0}: {1:.3}\\033[0m'.format(sorted_scores[0][0], sorted_scores[0][1]))\n",
    "for score_tp in sorted_scores[1:]:\n",
    "    print('- {0}: {1:.3}'.format(score_tp[0], score_tp[1]))\n",
    "    \n",
    "print('\\nSilhouette of true U:')\n",
    "print('%0.3f' % true_silh)"
   ]
  },
  {
   "cell_type": "code",
   "execution_count": null,
   "metadata": {},
   "outputs": [],
   "source": [
    "# Plot in decreasing silhouette order\n",
    "U_list = [gap_tsne, gapeb_tsne, zigap_tsne, zigapeb_tsne, szigap_tsne, szigapeb_tsne, pca_tsne]\n",
    "title_list = ['GaP', 'GaP-EB', 'ZIGaP', 'ZIGaP-EB', 'SZIGaP', 'SZIGaP-EB', 'PCA']\n",
    "\n",
    "assert len(U_list) == len(title_list)\n",
    "\n",
    "n_results = len(U_list)\n",
    "\n",
    "fig = plt.figure(figsize=(16, 8))\n",
    "\n",
    "s = 30\n",
    "alpha = 0.7\n",
    "labels=None\n",
    "for i in range(len(U_list)):\n",
    "    ax = plt.subplot(2, np.ceil(n_results/2), i+1)\n",
    "    handlers = []\n",
    "    for c in range(C):\n",
    "        h = ax.scatter(U_list[title_list.index(sorted_scores[i][0])][c_train==c, 0], U_list[title_list.index(sorted_scores[i][0])][c_train==c, 1], s=s, alpha=alpha)\n",
    "        handlers.append(h)\n",
    "    if labels is not None:\n",
    "        ax.legend(handlers, labels, scatterpoints=1)\n",
    "    plt.title(sorted_scores[i][0])\n",
    "plt.show()"
   ]
  }
 ],
 "metadata": {
  "kernelspec": {
   "display_name": "Python 3",
   "language": "python",
   "name": "python3"
  },
  "language_info": {
   "codemirror_mode": {
    "name": "ipython",
    "version": 3
   },
   "file_extension": ".py",
   "mimetype": "text/x-python",
   "name": "python",
   "nbconvert_exporter": "python",
   "pygments_lexer": "ipython3",
   "version": "3.6.3"
  }
 },
 "nbformat": 4,
 "nbformat_minor": 2
}
