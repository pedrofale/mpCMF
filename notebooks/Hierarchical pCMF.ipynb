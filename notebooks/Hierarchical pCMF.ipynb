{
 "cells": [
  {
   "cell_type": "markdown",
   "metadata": {},
   "source": [
    "# Hierarchical Probabilistic Count Matrix Factorization"
   ]
  },
  {
   "cell_type": "code",
   "execution_count": 1,
   "metadata": {},
   "outputs": [],
   "source": [
    "%matplotlib inline\n",
    "\n",
    "import sys\n",
    "sys.path.insert(0, '../')\n",
    "import utils, cavi_new, svi_new, cavi_hpcmf, svi_hpcmf\n",
    "import plot_utils\n",
    "\n",
    "import matplotlib.pyplot as plt\n",
    "from matplotlib.pyplot import cm\n",
    "import numpy as np\n",
    "from sklearn.decomposition import PCA\n",
    "from sklearn.metrics import silhouette_score\n",
    "from sklearn.model_selection import train_test_split\n",
    "\n",
    "from scipy.stats import gamma\n",
    "\n",
    "import operator\n",
    "\n",
    "plt.style.use('ggplot')"
   ]
  },
  {
   "cell_type": "code",
   "execution_count": 2,
   "metadata": {},
   "outputs": [],
   "source": [
    "# Experiment parameters\n",
    "N = 1000 # number of observations\n",
    "P = 10 # observation space dimensionality\n",
    "K = 2 # latent space dimensionality\n",
    "C = 2 # number of clusters\n",
    "\n",
    "# Generate data set\n",
    "z_p = 0.5\n",
    "eps = 5.\n",
    "Y, D, X, R, V, U, clusters = utils.generate_data(N, P, K, C=C, zero_prob=z_p, \n",
    "                                                 eps=eps, return_all=True)\n",
    "\n",
    "Y_train, Y_test, U_train, U_test, c_train, c_test = train_test_split(Y, U.T, clusters, test_size=0.2, random_state=42)"
   ]
  },
  {
   "cell_type": "code",
   "execution_count": 3,
   "metadata": {},
   "outputs": [
    {
     "name": "stdout",
     "output_type": "stream",
     "text": [
      "SPCMF:\n"
     ]
    },
    {
     "ename": "NameError",
     "evalue": "name 'exit' is not defined",
     "output_type": "error",
     "traceback": [
      "\u001b[0;31m---------------------------------------------------------------------------\u001b[0m",
      "\u001b[0;31mNameError\u001b[0m                                 Traceback (most recent call last)",
      "\u001b[0;32m<ipython-input-3-4af4f687b096>\u001b[0m in \u001b[0;36m<module>\u001b[0;34m()\u001b[0m\n\u001b[1;32m     52\u001b[0m \u001b[0mprint\u001b[0m\u001b[0;34m(\u001b[0m\u001b[0;34m'SPCMF:'\u001b[0m\u001b[0;34m)\u001b[0m\u001b[0;34m\u001b[0m\u001b[0m\n\u001b[1;32m     53\u001b[0m \u001b[0minf\u001b[0m \u001b[0;34m=\u001b[0m \u001b[0msvi_new\u001b[0m\u001b[0;34m.\u001b[0m\u001b[0mStochasticVI\u001b[0m\u001b[0;34m(\u001b[0m\u001b[0mY_train\u001b[0m\u001b[0;34m,\u001b[0m \u001b[0malpha\u001b[0m\u001b[0;34m,\u001b[0m \u001b[0mbeta\u001b[0m\u001b[0;34m,\u001b[0m \u001b[0mpi\u001b[0m\u001b[0;34m)\u001b[0m\u001b[0;34m\u001b[0m\u001b[0m\n\u001b[0;32m---> 54\u001b[0;31m \u001b[0mspcmf_ll\u001b[0m \u001b[0;34m=\u001b[0m \u001b[0minf\u001b[0m\u001b[0;34m.\u001b[0m\u001b[0mrun_svi\u001b[0m\u001b[0;34m(\u001b[0m\u001b[0mn_iterations\u001b[0m\u001b[0;34m=\u001b[0m\u001b[0;36m4000\u001b[0m\u001b[0;34m,\u001b[0m \u001b[0mminibatch_size\u001b[0m\u001b[0;34m=\u001b[0m\u001b[0;36m100\u001b[0m\u001b[0;34m,\u001b[0m \u001b[0mempirical_bayes\u001b[0m\u001b[0;34m=\u001b[0m\u001b[0;32mTrue\u001b[0m\u001b[0;34m,\u001b[0m \u001b[0mreturn_ll\u001b[0m\u001b[0;34m=\u001b[0m\u001b[0;32mTrue\u001b[0m\u001b[0;34m,\u001b[0m \u001b[0msampling_rate\u001b[0m\u001b[0;34m=\u001b[0m\u001b[0mS\u001b[0m\u001b[0;34m,\u001b[0m \u001b[0mmax_time\u001b[0m\u001b[0;34m=\u001b[0m\u001b[0mT\u001b[0m\u001b[0;34m)\u001b[0m\u001b[0;34m\u001b[0m\u001b[0m\n\u001b[0m\u001b[1;32m     55\u001b[0m \u001b[0mspcmf_U\u001b[0m \u001b[0;34m=\u001b[0m \u001b[0minf\u001b[0m\u001b[0;34m.\u001b[0m\u001b[0ma\u001b[0m\u001b[0;34m[\u001b[0m\u001b[0;36m0\u001b[0m\u001b[0;34m]\u001b[0m \u001b[0;34m/\u001b[0m \u001b[0minf\u001b[0m\u001b[0;34m.\u001b[0m\u001b[0ma\u001b[0m\u001b[0;34m[\u001b[0m\u001b[0;36m1\u001b[0m\u001b[0;34m]\u001b[0m \u001b[0;31m# VI estimate is the mean of the variational approximation\u001b[0m\u001b[0;34m\u001b[0m\u001b[0m\n",
      "\u001b[0;32m~/IST/Thesis/pCMF/svi_new.py\u001b[0m in \u001b[0;36mrun_svi\u001b[0;34m(self, X_test, empirical_bayes, n_iterations, minibatch_size, delay, forget_rate, return_ll, sampling_rate, max_time, verbose)\u001b[0m\n\u001b[1;32m    227\u001b[0m                                 \u001b[0;31m# update hyperparameters\u001b[0m\u001b[0;34m\u001b[0m\u001b[0;34m\u001b[0m\u001b[0m\n\u001b[1;32m    228\u001b[0m                                 \u001b[0;31m#self.update_pi(mb_idx, step_size)\u001b[0m\u001b[0;34m\u001b[0m\u001b[0;34m\u001b[0m\u001b[0m\n\u001b[0;32m--> 229\u001b[0;31m                                 \u001b[0mself\u001b[0m\u001b[0;34m.\u001b[0m\u001b[0mupdate_alpha\u001b[0m\u001b[0;34m(\u001b[0m\u001b[0mmb_idx\u001b[0m\u001b[0;34m,\u001b[0m \u001b[0mstep_size\u001b[0m\u001b[0;34m)\u001b[0m\u001b[0;34m\u001b[0m\u001b[0m\n\u001b[0m\u001b[1;32m    230\u001b[0m                                 \u001b[0;31m#self.update_beta(mb_idx, step_size)\u001b[0m\u001b[0;34m\u001b[0m\u001b[0;34m\u001b[0m\u001b[0m\n\u001b[1;32m    231\u001b[0m \u001b[0;34m\u001b[0m\u001b[0m\n",
      "\u001b[0;32m~/IST/Thesis/pCMF/svi_new.py\u001b[0m in \u001b[0;36mupdate_alpha\u001b[0;34m(self, minibatch_indexes, eta)\u001b[0m\n\u001b[1;32m    189\u001b[0m                 \u001b[0mself\u001b[0m\u001b[0;34m.\u001b[0m\u001b[0malpha\u001b[0m\u001b[0;34m[\u001b[0m\u001b[0;36m1\u001b[0m\u001b[0;34m]\u001b[0m \u001b[0;34m=\u001b[0m \u001b[0mnp\u001b[0m\u001b[0;34m.\u001b[0m\u001b[0mexpand_dims\u001b[0m\u001b[0;34m(\u001b[0m\u001b[0malpha\u001b[0m\u001b[0;34m,\u001b[0m \u001b[0maxis\u001b[0m\u001b[0;34m=\u001b[0m\u001b[0;36m0\u001b[0m\u001b[0;34m)\u001b[0m\u001b[0;34m.\u001b[0m\u001b[0mrepeat\u001b[0m\u001b[0;34m(\u001b[0m\u001b[0mself\u001b[0m\u001b[0;34m.\u001b[0m\u001b[0mN\u001b[0m\u001b[0;34m,\u001b[0m \u001b[0maxis\u001b[0m\u001b[0;34m=\u001b[0m\u001b[0;36m0\u001b[0m\u001b[0;34m)\u001b[0m\u001b[0;34m\u001b[0m\u001b[0m\n\u001b[1;32m    190\u001b[0m \u001b[0;34m\u001b[0m\u001b[0m\n\u001b[0;32m--> 191\u001b[0;31m                 \u001b[0mexit\u001b[0m\u001b[0;34m\u001b[0m\u001b[0m\n\u001b[0m\u001b[1;32m    192\u001b[0m         \u001b[0;31m#def update_beta(self, minibatch_indexes, eta):\u001b[0m\u001b[0;34m\u001b[0m\u001b[0;34m\u001b[0m\u001b[0m\n\u001b[1;32m    193\u001b[0m \u001b[0;34m\u001b[0m\u001b[0m\n",
      "\u001b[0;31mNameError\u001b[0m: name 'exit' is not defined"
     ]
    }
   ],
   "source": [
    "T = 30.\n",
    "S = 1.\n",
    "\n",
    "# Run PCA\n",
    "pca_U = PCA(n_components=2).fit_transform(Y_train)\n",
    "\n",
    "# # Run SVI and get estimates (hpCMF)\n",
    "# alpha = np.ones((2, K))\n",
    "# alpha[0, :] = 3.\n",
    "# alpha[1, :] = 0.5\n",
    "# beta = np.ones((2, P, K))\n",
    "# pi = np.ones((P,)) * 0.5\n",
    "# print('SHPCMF:')\n",
    "# inf = svi_hpcmf.StochasticVI(Y_train, alpha, beta, pi)\n",
    "# shpcmf_ll = inf.run_svi(n_iterations=4000, minibatch_size=100, return_ll=True, sampling_rate=S, max_time=T)\n",
    "# shpcmf_U = inf.a[0] / inf.a[1] # VI estimate is the mean of the variational approximation\n",
    "\n",
    "# print('\\n')\n",
    "\n",
    "# # Run CAVI and get estimates (hpCMF)\n",
    "# alpha = np.ones((2, K))\n",
    "# alpha[0, :] = 3.\n",
    "# alpha[1, :] = 0.5\n",
    "# beta = np.ones((2, P, K))\n",
    "# pi = np.ones((P,)) * 0.5\n",
    "# print('HPCMF:')\n",
    "# inf = cavi_hpcmf.CoordinateAscentVI(Y_train, alpha, beta, pi)\n",
    "# hpcmf_ll = inf.run_cavi(n_iterations=4000, return_ll=True, sampling_rate=S, max_time=T)\n",
    "# hpcmf_U = inf.a[0] / inf.a[1] # VI estimate is the mean of the variational approximation\n",
    "\n",
    "# print('\\n')\n",
    "\n",
    "# # Run CAVI and get estimates (pCMF)\n",
    "# alpha = np.ones((2, K))\n",
    "# alpha[0, :] = 3.\n",
    "# alpha[1, :] = 0.5\n",
    "# beta = np.ones((2, P, K))\n",
    "# pi = np.ones((P,)) * 0.5\n",
    "# print('PCMF:')\n",
    "# inf = cavi_new.CoordinateAscentVI(Y_train, alpha, beta, pi)\n",
    "# pcmf_ll = inf.run_cavi(n_iterations=4000, empirical_bayes=True, return_ll=True, sampling_rate=S, max_time=T)\n",
    "# pcmf_U = inf.a[0] / inf.a[1] # VI estimate is the mean of the variational approximation\n",
    "\n",
    "# print('\\n')\n",
    "\n",
    "# Run SVI and get estimates (pCMF)\n",
    "alpha = np.ones((2, K))\n",
    "alpha[0, :] = 3.\n",
    "alpha[1, :] = 0.5\n",
    "beta = np.ones((2, P, K))\n",
    "pi = np.ones((P,)) * 0.5\n",
    "print('SPCMF:')\n",
    "inf = svi_new.StochasticVI(Y_train, alpha, beta, pi)\n",
    "spcmf_ll = inf.run_svi(n_iterations=4000, minibatch_size=100, empirical_bayes=True, return_ll=True, sampling_rate=S, max_time=T)\n",
    "spcmf_U = inf.a[0] / inf.a[1] # VI estimate is the mean of the variational approximation"
   ]
  },
  {
   "cell_type": "code",
   "execution_count": 6,
   "metadata": {},
   "outputs": [
    {
     "data": {
      "text/plain": [
       "array([[-350835.23856866, -337956.56030722],\n",
       "       [-350835.23856866, -337956.56030722],\n",
       "       [-350835.23856866, -337956.56030722],\n",
       "       ...,\n",
       "       [-350835.23856866, -337956.56030722],\n",
       "       [-350835.23856866, -337956.56030722],\n",
       "       [-350835.23856866, -337956.56030722]])"
      ]
     },
     "execution_count": 6,
     "metadata": {},
     "output_type": "execute_result"
    }
   ],
   "source": [
    "inf.alpha[0, :, :]"
   ]
  },
  {
   "cell_type": "code",
   "execution_count": null,
   "metadata": {},
   "outputs": [],
   "source": [
    "from utils import psi_inverse"
   ]
  },
  {
   "cell_type": "code",
   "execution_count": null,
   "metadata": {},
   "outputs": [],
   "source": [
    "psi_inverse(2., inf.alpha[0, 0, 0])"
   ]
  },
  {
   "cell_type": "code",
   "execution_count": null,
   "metadata": {},
   "outputs": [],
   "source": [
    "plt.plot(shpcmf_ll[1], label='SHPCMF')\n",
    "plt.plot(hpcmf_ll[1], label='HPCMF')\n",
    "plt.plot(pcmf_ll[1], label='PCMF')\n",
    "plt.plot(spcmf_ll[1], label='SPCMF')\n",
    "plt.ylabel('Average log-likelihood')\n",
    "plt.xlabel('Seconds')\n",
    "plt.title('Data set with N={} and P={}'.format(N, P))\n",
    "plt.legend()\n",
    "plt.show()"
   ]
  },
  {
   "cell_type": "code",
   "execution_count": null,
   "metadata": {},
   "outputs": [],
   "source": [
    "U_list = [U_train, pcmf_U, spcmf_U, hpcmf_U, shpcmf_U, pca_U]\n",
    "title_list = ['True $\\mathbf{U}$', 'PCMF', 'SPCMF', 'HPCMF', 'SHPCMF', 'PCA']\n",
    "\n",
    "n_results = len(U_list)\n",
    "\n",
    "assert len(U_list) == len(title_list)\n",
    "\n",
    "fig = plt.figure(figsize=(16, 10))\n",
    "\n",
    "s = 30\n",
    "alpha = 0.7\n",
    "labels=None\n",
    "for i in range(len(U_list)):\n",
    "    ax = plt.subplot(2, n_results/2, i+1)\n",
    "    handlers = []\n",
    "    for c in range(C):\n",
    "        h = ax.scatter(U_list[i][c_train==c, 0], U_list[i][c_train==c, 1], s=s, alpha=alpha)\n",
    "        handlers.append(h)\n",
    "    if labels is not None:\n",
    "        ax.legend(handlers, labels, scatterpoints=1)\n",
    "    plt.title(title_list[i])\n",
    "plt.show()"
   ]
  },
  {
   "cell_type": "code",
   "execution_count": null,
   "metadata": {},
   "outputs": [],
   "source": [
    "true_silh = silhouette_score(U_train, c_train)\n",
    "pcmf_silh = silhouette_score(pcmf_U, c_train)\n",
    "spcmf_silh = silhouette_score(spcmf_U, c_train)\n",
    "hpcmf_silh = silhouette_score(hpcmf_U, c_train)\n",
    "shpcmf_silh = silhouette_score(shpcmf_U, c_train)\n",
    "pca_silh = silhouette_score(pca_U, c_train)\n",
    "\n",
    "scores = {'SPCMF': spcmf_silh, 'PCMF': pcmf_silh, 'PCA': pca_silh, 'HPCMF': hpcmf_silh, 'SHPCMF': shpcmf_silh}\n",
    "\n",
    "sorted_scores = sorted(scores.items(), key=operator.itemgetter(1), reverse=True)\n",
    "\n",
    "print('Silhouette scores (higher is better):')\n",
    "print('\\033[1m- {0}: {1:.3}\\033[0m'.format(sorted_scores[0][0], sorted_scores[0][1]))\n",
    "for score_tp in sorted_scores[1:]:\n",
    "    print('- {0}: {1:.3}'.format(score_tp[0], score_tp[1]))\n",
    "    \n",
    "print('\\nSilhouette of true U:')\n",
    "print('%0.3f' % true_silh)"
   ]
  }
 ],
 "metadata": {
  "kernelspec": {
   "display_name": "Python 2",
   "language": "python",
   "name": "python2"
  },
  "language_info": {
   "codemirror_mode": {
    "name": "ipython",
    "version": 3
   },
   "file_extension": ".py",
   "mimetype": "text/x-python",
   "name": "python",
   "nbconvert_exporter": "python",
   "pygments_lexer": "ipython3",
   "version": "3.5.2"
  }
 },
 "nbformat": 4,
 "nbformat_minor": 2
}
