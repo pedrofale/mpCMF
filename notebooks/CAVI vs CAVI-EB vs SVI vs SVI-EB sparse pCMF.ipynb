{
 "cells": [
  {
   "cell_type": "markdown",
   "metadata": {},
   "source": [
    "# CAVI vs CAVI-EB vs SVI vs SVI-EB Sparse pCMF"
   ]
  },
  {
   "cell_type": "code",
   "execution_count": 1,
   "metadata": {},
   "outputs": [],
   "source": [
    "from pCMF.misc import utils\n",
    "from pCMF.models.pcmf import cavi_spcmf, svi_spcmf\n",
    "\n",
    "import matplotlib.pyplot as plt\n",
    "from matplotlib.pyplot import cm\n",
    "import numpy as np\n",
    "from sklearn.decomposition import PCA\n",
    "from sklearn.manifold import TSNE\n",
    "from sklearn.metrics import silhouette_score\n",
    "from sklearn.model_selection import train_test_split\n",
    "\n",
    "from scipy.stats import gamma\n",
    "\n",
    "import operator\n",
    "import seaborn as sns\n",
    "sns.set_style('whitegrid')\n",
    "\n",
    "# plt.style.use('ggplot')"
   ]
  },
  {
   "cell_type": "code",
   "execution_count": 2,
   "metadata": {},
   "outputs": [],
   "source": [
    "T = 60.\n",
    "S = 1."
   ]
  },
  {
   "cell_type": "code",
   "execution_count": 3,
   "metadata": {},
   "outputs": [],
   "source": [
    "# Experiment parameters\n",
    "N = 1000 # number of observations\n",
    "P = 20 # observation space dimensionality\n",
    "K = 10 # latent space dimensionality\n",
    "C = 2 # number of clusters\n",
    "\n",
    "# Generate data set\n",
    "z_p = 0.5\n",
    "eps = 5.\n",
    "Y, D, X, R, V, U, clusters = utils.generate_sparse_data(N, P, K, C=C, zero_prob=z_p, noisy_prop=0.5,\n",
    "                                                 eps_U=eps, return_all=True)\n",
    "\n",
    "Y_train, Y_test, U_train, U_test, c_train, c_test = train_test_split(Y, U.T, clusters, test_size=0.2, random_state=42)"
   ]
  },
  {
   "cell_type": "code",
   "execution_count": 4,
   "metadata": {},
   "outputs": [],
   "source": [
    "# Run PCA\n",
    "pca_U = PCA(n_components=K).fit_transform(np.log(Y_train + 1.))\n",
    "pca_pca = TSNE(n_components=2).fit_transform(pca_U)"
   ]
  },
  {
   "cell_type": "code",
   "execution_count": 5,
   "metadata": {
    "scrolled": false
   },
   "outputs": [
    {
     "name": "stdout",
     "output_type": "stream",
     "text": [
      "PCMF:\n",
      "Iteration 43/4000. Log-likelihood: 178.295. Elapsed: 61 seconds\r"
     ]
    }
   ],
   "source": [
    "# Run CAVI and get estimates (SpCMF)\n",
    "alpha = np.ones((2, K))\n",
    "alpha[0, :] = 3.\n",
    "alpha[1, :] = 0.5\n",
    "beta = np.ones((2, P, K))\n",
    "pi_D = np.ones((P,)) * 0.5\n",
    "pi_S = np.ones((P,)) * 0.5\n",
    "print('PCMF:')\n",
    "infspcmf = cavi_spcmf.CoordinateAscentVI(Y_train, alpha, beta, pi_D, pi_S)\n",
    "spcmf_ll = infspcmf.run_cavi(n_iterations=4000, empirical_bayes=False, return_ll=True, sampling_rate=S, max_time=T)\n",
    "spcmf_U = infspcmf.a[0] / infspcmf.a[1] # VI estimate is the mean of the variational approximation\n",
    "spcmf_pca = TSNE(n_components=2).fit_transform(spcmf_U)"
   ]
  },
  {
   "cell_type": "code",
   "execution_count": 6,
   "metadata": {},
   "outputs": [
    {
     "name": "stdout",
     "output_type": "stream",
     "text": [
      "PCMF:\n",
      "Iteration 43/4000. Log-likelihood: 158.977. Elapsed: 60 seconds\r"
     ]
    }
   ],
   "source": [
    "# Run CAVI and get estimates (SpCMF)\n",
    "alpha = np.ones((2, K))\n",
    "alpha[0, :] = 3.\n",
    "alpha[1, :] = 0.5\n",
    "beta = np.ones((2, P, K))\n",
    "pi_D = np.ones((P,)) * 0.5\n",
    "pi_S = np.ones((P,)) * 0.5\n",
    "print('PCMF:')\n",
    "infspcmfeb = cavi_spcmf.CoordinateAscentVI(Y_train, alpha, beta, pi_D, pi_S)\n",
    "spcmfeb_ll = infspcmfeb.run_cavi(n_iterations=4000, empirical_bayes=True, return_ll=True, sampling_rate=S, max_time=T)\n",
    "spcmfeb_U = infspcmfeb.a[0] / infspcmfeb.a[1] # VI estimate is the mean of the variational approximation\n",
    "spcmfeb_pca = TSNE(n_components=2).fit_transform(spcmfeb_U)"
   ]
  },
  {
   "cell_type": "code",
   "execution_count": null,
   "metadata": {},
   "outputs": [
    {
     "name": "stdout",
     "output_type": "stream",
     "text": [
      "Stochastic PCMF:\n",
      "Iteration 177/4000. Log-likelihood: 178.296. Elapsed: 60 seconds\r"
     ]
    }
   ],
   "source": [
    "# Run SVI and get estimates (pCMF)\n",
    "alpha = np.ones((2, K))\n",
    "alpha[0, :] = 3.\n",
    "alpha[1, :] = 0.5\n",
    "beta = np.ones((2, P, K))\n",
    "pi_D = np.ones((P,)) * 0.5\n",
    "pi_S = np.ones((P,)) * 0.5\n",
    "print('Stochastic PCMF:')\n",
    "infspcmfsvi = svi_spcmf.StochasticVI(Y_train, alpha, beta, pi_D, pi_S)\n",
    "spcmfsvi_ll = infspcmfsvi.run_svi(n_iterations=4000, minibatch_size=100, empirical_bayes=False, return_ll=True, sampling_rate=S, max_time=T)\n",
    "spcmfsvi_U = infspcmfsvi.a[0] / infspcmfsvi.a[1] # VI estimate is the mean of the variational approximation\n",
    "spcmfsvi_pca = TSNE(n_components=2).fit_transform(spcmfsvi_U)"
   ]
  },
  {
   "cell_type": "code",
   "execution_count": null,
   "metadata": {},
   "outputs": [],
   "source": [
    "# Run SVI and get estimates (pCMF)\n",
    "alpha = np.ones((2, K))\n",
    "alpha[0, :] = 3.\n",
    "alpha[1, :] = 0.5\n",
    "beta = np.ones((2, P, K))\n",
    "pi_D = np.ones((P,)) * 0.5\n",
    "pi_S = np.ones((P,)) * 0.5\n",
    "print('Stochastic PCMF:')\n",
    "infspcmfsvieb = svi_spcmf.StochasticVI(Y_train, alpha, beta, pi_D, pi_S)\n",
    "spcmfsvieb_ll = infspcmfsvi.run_svi(n_iterations=4000, minibatch_size=100, empirical_bayes=True, return_ll=True, sampling_rate=S, max_time=T)\n",
    "spcmfsvieb_U = infspcmfsvieb.a[0] / infspcmfsvieb.a[1] # VI estimate is the mean of the variational approximation\n",
    "spcmfsvieb_pca = TSNE(n_components=2).fit_transform(spcmfsvieb_U)"
   ]
  },
  {
   "cell_type": "code",
   "execution_count": null,
   "metadata": {},
   "outputs": [],
   "source": [
    "plt.plot(spcmf_ll[1], label='PCMF')\n",
    "plt.plot(spcmfeb_ll[1], label='PCMFeb')\n",
    "plt.plot(spcmfsvi_ll[1], label='SPCMF')\n",
    "plt.plot(spcmfsvieb_ll[1], label='SPCMFeb')\n",
    "plt.ylabel('Average log-likelihood')\n",
    "plt.xlabel('Seconds')\n",
    "plt.title('Data set with N={} and P={}'.format(N, P))\n",
    "plt.legend()\n",
    "plt.show()"
   ]
  },
  {
   "cell_type": "code",
   "execution_count": null,
   "metadata": {},
   "outputs": [],
   "source": [
    "U_list = [spcmf_pca, spcmfeb_pca, spcmfsvi_pca, spcmfsvieb_pca, pca_pca]\n",
    "title_list = ['CAVI', 'CAVI-EB', 'SVI', 'SVI-EB', 'PCA']\n",
    "\n",
    "n_results = len(U_list)\n",
    "\n",
    "assert len(U_list) == len(title_list)\n",
    "\n",
    "fig = plt.figure(figsize=(16, 4))\n",
    "\n",
    "s = 30\n",
    "alpha = 0.7\n",
    "labels=None\n",
    "for i in range(len(U_list)):\n",
    "    ax = plt.subplot(1, n_results, i+1)\n",
    "    handlers = []\n",
    "    for c in range(C):\n",
    "        h = ax.scatter(U_list[i][c_train==c, 0], U_list[i][c_train==c, 1], s=s, alpha=alpha)\n",
    "        handlers.append(h)\n",
    "    if labels is not None:\n",
    "        ax.legend(handlers, labels, scatterpoints=1)\n",
    "    plt.title(title_list[i])\n",
    "plt.show()"
   ]
  },
  {
   "cell_type": "code",
   "execution_count": null,
   "metadata": {
    "scrolled": true
   },
   "outputs": [],
   "source": [
    "true_silh = silhouette_score(U_train, c_train)\n",
    "spcmf_silh = silhouette_score(spcmf_U, c_train)\n",
    "spcmfeb_silh = silhouette_score(spcmfeb_U, c_train)\n",
    "spcmfsvi_silh = silhouette_score(spcmfsvi_U, c_train)\n",
    "spcmfsvieb_silh = silhouette_score(spcmfsvieb_U, c_train)\n",
    "pca_silh = silhouette_score(pca_U, c_train)\n",
    "\n",
    "scores = {'SVI': spcmfsvi_silh, 'CAVI-EB': spcmfeb_silh, 'SVI-EB': spcmfsvieb_silh, 'CAVI': spcmf_silh, 'PCA': pca_silh}\n",
    "\n",
    "sorted_scores = sorted(scores.items(), key=operator.itemgetter(1), reverse=True)\n",
    "\n",
    "print('Silhouette scores (higher is better):')\n",
    "print('\\033[1m- {0}: {1:.3}\\033[0m'.format(sorted_scores[0][0], sorted_scores[0][1]))\n",
    "for score_tp in sorted_scores[1:]:\n",
    "    print('- {0}: {1:.3}'.format(score_tp[0], score_tp[1]))\n",
    "    \n",
    "print('\\nSilhouette of true U:')\n",
    "print('%0.3f' % true_silh)"
   ]
  },
  {
   "cell_type": "code",
   "execution_count": null,
   "metadata": {},
   "outputs": [],
   "source": [
    "plt.matshow(infspcmfeb.p_S)\n",
    "plt.colorbar()\n",
    "plt.show()"
   ]
  }
 ],
 "metadata": {
  "kernelspec": {
   "display_name": "Python 2",
   "language": "python",
   "name": "python2"
  },
  "language_info": {
   "codemirror_mode": {
    "name": "ipython",
    "version": 3
   },
   "file_extension": ".py",
   "mimetype": "text/x-python",
   "name": "python",
   "nbconvert_exporter": "python",
   "pygments_lexer": "ipython3",
   "version": "3.5.2"
  }
 },
 "nbformat": 4,
 "nbformat_minor": 2
}
