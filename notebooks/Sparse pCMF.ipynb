{
 "cells": [
  {
   "cell_type": "markdown",
   "metadata": {},
   "source": [
    "# Sparse Probabilistic Count Matrix Factorization"
   ]
  },
  {
   "cell_type": "code",
   "execution_count": 1,
   "metadata": {},
   "outputs": [],
   "source": [
    "%matplotlib inline\n",
    "\n",
    "import sys\n",
    "sys.path.insert(0, '../')\n",
    "import utils, cavi_spcmf, cavi_new\n",
    "import plot_utils\n",
    "\n",
    "import matplotlib.pyplot as plt\n",
    "from matplotlib.pyplot import cm\n",
    "import numpy as np\n",
    "from sklearn.decomposition import PCA\n",
    "from sklearn.metrics import silhouette_score\n",
    "from sklearn.model_selection import train_test_split\n",
    "\n",
    "from scipy.stats import gamma\n",
    "\n",
    "import operator\n",
    "\n",
    "plt.style.use('ggplot')"
   ]
  },
  {
   "cell_type": "code",
   "execution_count": 2,
   "metadata": {},
   "outputs": [],
   "source": [
    "# Experiment parameters\n",
    "N = 1000 # number of observations\n",
    "P = 20 # observation space dimensionality\n",
    "K = 10 # latent space dimensionality\n",
    "C = 2 # number of clusters\n",
    "\n",
    "# Generate data set\n",
    "z_p = 0.3\n",
    "eps = 5.\n",
    "Y, D, X, R, V, U, clusters = utils.generate_sparse_data(N, P, K, C=C, zero_prob=z_p, noisy_prop=0.,\n",
    "                                                 eps_U=eps, return_all=True)\n",
    "\n",
    "Y_train, Y_test, U_train, U_test, c_train, c_test = train_test_split(Y, U.T, clusters, test_size=0.2, random_state=42)"
   ]
  },
  {
   "cell_type": "code",
   "execution_count": 3,
   "metadata": {},
   "outputs": [
    {
     "data": {
      "image/png": "[encoded data removed]",
      "text/plain": [
       "<matplotlib.figure.Figure at 0x7fb204392390>"
      ]
     },
     "metadata": {},
     "output_type": "display_data"
    }
   ],
   "source": [
    "plt.matshow(V)\n",
    "plt.xticks([])\n",
    "plt.yticks([])\n",
    "plt.show()"
   ]
  },
  {
   "cell_type": "code",
   "execution_count": 4,
   "metadata": {},
   "outputs": [],
   "source": [
    "T = 60.\n",
    "S = 1."
   ]
  },
  {
   "cell_type": "code",
   "execution_count": 54,
   "metadata": {
    "scrolled": false
   },
   "outputs": [
    {
     "name": "stdout",
     "output_type": "stream",
     "text": [
      "PCMF:\n",
      "Iteration 3/4000. Log-likelihood: 632.976. Elapsed: 5 seconds\r"
     ]
    },
    {
     "ename": "KeyboardInterrupt",
     "evalue": "",
     "output_type": "error",
     "traceback": [
      "\u001b[0;31m---------------------------------------------------------------------------\u001b[0m",
      "\u001b[0;31mKeyboardInterrupt\u001b[0m                         Traceback (most recent call last)",
      "\u001b[0;32m<ipython-input-54-7b63dbdb0dd2>\u001b[0m in \u001b[0;36m<module>\u001b[0;34m()\u001b[0m\n\u001b[1;32m     10\u001b[0m \u001b[0mprint\u001b[0m\u001b[0;34m(\u001b[0m\u001b[0;34m'PCMF:'\u001b[0m\u001b[0;34m)\u001b[0m\u001b[0;34m\u001b[0m\u001b[0m\n\u001b[1;32m     11\u001b[0m \u001b[0minf\u001b[0m \u001b[0;34m=\u001b[0m \u001b[0mcavi_new\u001b[0m\u001b[0;34m.\u001b[0m\u001b[0mCoordinateAscentVI\u001b[0m\u001b[0;34m(\u001b[0m\u001b[0mY_train\u001b[0m\u001b[0;34m,\u001b[0m \u001b[0malpha\u001b[0m\u001b[0;34m,\u001b[0m \u001b[0mbeta\u001b[0m\u001b[0;34m,\u001b[0m \u001b[0mpi_D\u001b[0m\u001b[0;34m)\u001b[0m\u001b[0;34m\u001b[0m\u001b[0m\n\u001b[0;32m---> 12\u001b[0;31m \u001b[0mpcmf_ll\u001b[0m \u001b[0;34m=\u001b[0m \u001b[0minf\u001b[0m\u001b[0;34m.\u001b[0m\u001b[0mrun_cavi\u001b[0m\u001b[0;34m(\u001b[0m\u001b[0mn_iterations\u001b[0m\u001b[0;34m=\u001b[0m\u001b[0;36m4000\u001b[0m\u001b[0;34m,\u001b[0m \u001b[0mempirical_bayes\u001b[0m\u001b[0;34m=\u001b[0m\u001b[0;32mTrue\u001b[0m\u001b[0;34m,\u001b[0m \u001b[0mreturn_ll\u001b[0m\u001b[0;34m=\u001b[0m\u001b[0;32mTrue\u001b[0m\u001b[0;34m,\u001b[0m \u001b[0msampling_rate\u001b[0m\u001b[0;34m=\u001b[0m\u001b[0mS\u001b[0m\u001b[0;34m,\u001b[0m \u001b[0mmax_time\u001b[0m\u001b[0;34m=\u001b[0m\u001b[0mT\u001b[0m\u001b[0;34m)\u001b[0m\u001b[0;34m\u001b[0m\u001b[0m\n\u001b[0m\u001b[1;32m     13\u001b[0m \u001b[0mpcmf_U\u001b[0m \u001b[0;34m=\u001b[0m \u001b[0minf\u001b[0m\u001b[0;34m.\u001b[0m\u001b[0ma\u001b[0m\u001b[0;34m[\u001b[0m\u001b[0;36m0\u001b[0m\u001b[0;34m]\u001b[0m \u001b[0;34m/\u001b[0m \u001b[0minf\u001b[0m\u001b[0;34m.\u001b[0m\u001b[0ma\u001b[0m\u001b[0;34m[\u001b[0m\u001b[0;36m1\u001b[0m\u001b[0;34m]\u001b[0m \u001b[0;31m# VI estimate is the mean of the variational approximation\u001b[0m\u001b[0;34m\u001b[0m\u001b[0m\n\u001b[1;32m     14\u001b[0m \u001b[0mpcmf_U\u001b[0m \u001b[0;34m=\u001b[0m \u001b[0mPCA\u001b[0m\u001b[0;34m(\u001b[0m\u001b[0mn_components\u001b[0m\u001b[0;34m=\u001b[0m\u001b[0;36m2\u001b[0m\u001b[0;34m)\u001b[0m\u001b[0;34m.\u001b[0m\u001b[0mfit_transform\u001b[0m\u001b[0;34m(\u001b[0m\u001b[0mpcmf_U\u001b[0m\u001b[0;34m)\u001b[0m\u001b[0;34m\u001b[0m\u001b[0m\n",
      "\u001b[0;32m~/IST/Thesis/pCMF/cavi_new.py\u001b[0m in \u001b[0;36mrun_cavi\u001b[0;34m(self, X_test, empirical_bayes, n_iterations, return_ll, sampling_rate, max_time, verbose)\u001b[0m\n\u001b[1;32m    239\u001b[0m \u001b[0;34m\u001b[0m\u001b[0m\n\u001b[1;32m    240\u001b[0m                         \u001b[0;31m# update global variables\u001b[0m\u001b[0;34m\u001b[0m\u001b[0;34m\u001b[0m\u001b[0m\n\u001b[0;32m--> 241\u001b[0;31m                         \u001b[0mself\u001b[0m\u001b[0;34m.\u001b[0m\u001b[0mupdate_b\u001b[0m\u001b[0;34m(\u001b[0m\u001b[0;34m)\u001b[0m\u001b[0;34m\u001b[0m\u001b[0m\n\u001b[0m\u001b[1;32m    242\u001b[0m \u001b[0;34m\u001b[0m\u001b[0m\n\u001b[1;32m    243\u001b[0m                         \u001b[0;32mif\u001b[0m \u001b[0mempirical_bayes\u001b[0m\u001b[0;34m:\u001b[0m\u001b[0;34m\u001b[0m\u001b[0m\n",
      "\u001b[0;32m~/IST/Thesis/pCMF/cavi_new.py\u001b[0m in \u001b[0;36mupdate_b\u001b[0;34m(self)\u001b[0m\n\u001b[1;32m    124\u001b[0m                                 \u001b[0;32mfor\u001b[0m \u001b[0mi\u001b[0m \u001b[0;32min\u001b[0m \u001b[0mrange\u001b[0m\u001b[0;34m(\u001b[0m\u001b[0mself\u001b[0m\u001b[0;34m.\u001b[0m\u001b[0mN\u001b[0m\u001b[0;34m)\u001b[0m\u001b[0;34m:\u001b[0m\u001b[0;34m\u001b[0m\u001b[0m\n\u001b[1;32m    125\u001b[0m                                         \u001b[0mtotal1\u001b[0m \u001b[0;34m=\u001b[0m \u001b[0mtotal1\u001b[0m \u001b[0;34m+\u001b[0m \u001b[0mself\u001b[0m\u001b[0;34m.\u001b[0m\u001b[0mp\u001b[0m\u001b[0;34m[\u001b[0m\u001b[0mi\u001b[0m\u001b[0;34m,\u001b[0m \u001b[0mj\u001b[0m\u001b[0;34m]\u001b[0m \u001b[0;34m*\u001b[0m \u001b[0mself\u001b[0m\u001b[0;34m.\u001b[0m\u001b[0mX\u001b[0m\u001b[0;34m[\u001b[0m\u001b[0mi\u001b[0m\u001b[0;34m,\u001b[0m \u001b[0mj\u001b[0m\u001b[0;34m]\u001b[0m \u001b[0;34m*\u001b[0m \u001b[0mself\u001b[0m\u001b[0;34m.\u001b[0m\u001b[0mr\u001b[0m\u001b[0;34m[\u001b[0m\u001b[0mi\u001b[0m\u001b[0;34m,\u001b[0m \u001b[0mj\u001b[0m\u001b[0;34m,\u001b[0m \u001b[0mk\u001b[0m\u001b[0;34m]\u001b[0m\u001b[0;34m\u001b[0m\u001b[0m\n\u001b[0;32m--> 126\u001b[0;31m                                         \u001b[0mtotal2\u001b[0m \u001b[0;34m=\u001b[0m \u001b[0mtotal2\u001b[0m \u001b[0;34m+\u001b[0m \u001b[0mself\u001b[0m\u001b[0;34m.\u001b[0m\u001b[0mp\u001b[0m\u001b[0;34m[\u001b[0m\u001b[0mi\u001b[0m\u001b[0;34m,\u001b[0m \u001b[0mj\u001b[0m\u001b[0;34m]\u001b[0m \u001b[0;34m*\u001b[0m \u001b[0mself\u001b[0m\u001b[0;34m.\u001b[0m\u001b[0ma\u001b[0m\u001b[0;34m[\u001b[0m\u001b[0;36m0\u001b[0m\u001b[0;34m,\u001b[0m \u001b[0mi\u001b[0m\u001b[0;34m,\u001b[0m \u001b[0mk\u001b[0m\u001b[0;34m]\u001b[0m \u001b[0;34m/\u001b[0m \u001b[0mself\u001b[0m\u001b[0;34m.\u001b[0m\u001b[0ma\u001b[0m\u001b[0;34m[\u001b[0m\u001b[0;36m1\u001b[0m\u001b[0;34m,\u001b[0m \u001b[0mi\u001b[0m\u001b[0;34m,\u001b[0m \u001b[0mk\u001b[0m\u001b[0;34m]\u001b[0m\u001b[0;34m\u001b[0m\u001b[0m\n\u001b[0m\u001b[1;32m    127\u001b[0m                                 \u001b[0mself\u001b[0m\u001b[0;34m.\u001b[0m\u001b[0mb\u001b[0m\u001b[0;34m[\u001b[0m\u001b[0;36m0\u001b[0m\u001b[0;34m,\u001b[0m \u001b[0mj\u001b[0m\u001b[0;34m,\u001b[0m \u001b[0mk\u001b[0m\u001b[0;34m]\u001b[0m \u001b[0;34m=\u001b[0m \u001b[0mself\u001b[0m\u001b[0;34m.\u001b[0m\u001b[0mbeta\u001b[0m\u001b[0;34m[\u001b[0m\u001b[0;36m0\u001b[0m\u001b[0;34m,\u001b[0m \u001b[0mj\u001b[0m\u001b[0;34m,\u001b[0m \u001b[0mk\u001b[0m\u001b[0;34m]\u001b[0m \u001b[0;34m+\u001b[0m \u001b[0mtotal1\u001b[0m\u001b[0;34m\u001b[0m\u001b[0m\n\u001b[1;32m    128\u001b[0m                                 \u001b[0mself\u001b[0m\u001b[0;34m.\u001b[0m\u001b[0mb\u001b[0m\u001b[0;34m[\u001b[0m\u001b[0;36m1\u001b[0m\u001b[0;34m,\u001b[0m \u001b[0mj\u001b[0m\u001b[0;34m,\u001b[0m \u001b[0mk\u001b[0m\u001b[0;34m]\u001b[0m \u001b[0;34m=\u001b[0m \u001b[0mself\u001b[0m\u001b[0;34m.\u001b[0m\u001b[0mbeta\u001b[0m\u001b[0;34m[\u001b[0m\u001b[0;36m1\u001b[0m\u001b[0;34m,\u001b[0m \u001b[0mj\u001b[0m\u001b[0;34m,\u001b[0m \u001b[0mk\u001b[0m\u001b[0;34m]\u001b[0m \u001b[0;34m+\u001b[0m \u001b[0mtotal2\u001b[0m\u001b[0;34m\u001b[0m\u001b[0m\n",
      "\u001b[0;31mKeyboardInterrupt\u001b[0m: "
     ]
    }
   ],
   "source": [
    "# # Run PCA\n",
    "# pca_U = PCA(n_components=2).fit_transform(Y_train)\n",
    "\n",
    "# Run CAVI and get estimates (pCMF)\n",
    "alpha = np.ones((2, K))\n",
    "alpha[0, :] = 3.\n",
    "alpha[1, :] = 0.5\n",
    "beta = np.ones((2, P, K))\n",
    "pi_D = np.ones((P,)) * 0.5\n",
    "print('PCMF:')\n",
    "inf = cavi_new.CoordinateAscentVI(Y_train, alpha, beta, pi_D)\n",
    "pcmf_ll = inf.run_cavi(n_iterations=4000, empirical_bayes=True, return_ll=True, sampling_rate=S, max_time=T)\n",
    "pcmf_U = inf.a[0] / inf.a[1] # VI estimate is the mean of the variational approximation\n",
    "pcmf_U = PCA(n_components=2).fit_transform(pcmf_U)"
   ]
  },
  {
   "cell_type": "code",
   "execution_count": 56,
   "metadata": {},
   "outputs": [
    {
     "data": {
      "text/plain": [
       "9336.562529558241"
      ]
     },
     "execution_count": 56,
     "metadata": {},
     "output_type": "execute_result"
    }
   ],
   "source": [
    "np.sum(inf.r[:, 0, 0] * self.X[0, 0])"
   ]
  },
  {
   "cell_type": "code",
   "execution_count": 57,
   "metadata": {},
   "outputs": [
    {
     "name": "stdout",
     "output_type": "stream",
     "text": [
      "PCMF sparse:\n"
     ]
    },
    {
     "ename": "NameError",
     "evalue": "name 'exit' is not defined",
     "output_type": "error",
     "traceback": [
      "\u001b[0;31m---------------------------------------------------------------------------\u001b[0m",
      "\u001b[0;31mNameError\u001b[0m                                 Traceback (most recent call last)",
      "\u001b[0;32m<ipython-input-57-c73ab3dd70fd>\u001b[0m in \u001b[0;36m<module>\u001b[0;34m()\u001b[0m\n\u001b[1;32m      8\u001b[0m \u001b[0mprint\u001b[0m\u001b[0;34m(\u001b[0m\u001b[0;34m'PCMF sparse:'\u001b[0m\u001b[0;34m)\u001b[0m\u001b[0;34m\u001b[0m\u001b[0m\n\u001b[1;32m      9\u001b[0m \u001b[0minf\u001b[0m \u001b[0;34m=\u001b[0m \u001b[0mcavi_spcmf\u001b[0m\u001b[0;34m.\u001b[0m\u001b[0mCoordinateAscentVI\u001b[0m\u001b[0;34m(\u001b[0m\u001b[0mY_train\u001b[0m\u001b[0;34m,\u001b[0m \u001b[0malpha\u001b[0m\u001b[0;34m,\u001b[0m \u001b[0mbeta\u001b[0m\u001b[0;34m,\u001b[0m \u001b[0mpi_D\u001b[0m\u001b[0;34m,\u001b[0m \u001b[0mpi_S\u001b[0m\u001b[0;34m)\u001b[0m\u001b[0;34m\u001b[0m\u001b[0m\n\u001b[0;32m---> 10\u001b[0;31m \u001b[0mspcmf_ll\u001b[0m \u001b[0;34m=\u001b[0m \u001b[0minf\u001b[0m\u001b[0;34m.\u001b[0m\u001b[0mrun_cavi\u001b[0m\u001b[0;34m(\u001b[0m\u001b[0mn_iterations\u001b[0m\u001b[0;34m=\u001b[0m\u001b[0;36m4000\u001b[0m\u001b[0;34m,\u001b[0m \u001b[0mempirical_bayes\u001b[0m\u001b[0;34m=\u001b[0m\u001b[0;32mTrue\u001b[0m\u001b[0;34m,\u001b[0m \u001b[0mreturn_ll\u001b[0m\u001b[0;34m=\u001b[0m\u001b[0;32mTrue\u001b[0m\u001b[0;34m,\u001b[0m \u001b[0msampling_rate\u001b[0m\u001b[0;34m=\u001b[0m\u001b[0mS\u001b[0m\u001b[0;34m,\u001b[0m \u001b[0mmax_time\u001b[0m\u001b[0;34m=\u001b[0m\u001b[0mT\u001b[0m\u001b[0;34m)\u001b[0m\u001b[0;34m\u001b[0m\u001b[0m\n\u001b[0m\u001b[1;32m     11\u001b[0m \u001b[0mspcmf_U\u001b[0m \u001b[0;34m=\u001b[0m \u001b[0minf\u001b[0m\u001b[0;34m.\u001b[0m\u001b[0ma\u001b[0m\u001b[0;34m[\u001b[0m\u001b[0;36m0\u001b[0m\u001b[0;34m]\u001b[0m \u001b[0;34m/\u001b[0m \u001b[0minf\u001b[0m\u001b[0;34m.\u001b[0m\u001b[0ma\u001b[0m\u001b[0;34m[\u001b[0m\u001b[0;36m1\u001b[0m\u001b[0;34m]\u001b[0m \u001b[0;31m# VI estimate is the mean of the variational approximation\u001b[0m\u001b[0;34m\u001b[0m\u001b[0m\n\u001b[1;32m     12\u001b[0m \u001b[0mspcmf_U\u001b[0m \u001b[0;34m=\u001b[0m \u001b[0mPCA\u001b[0m\u001b[0;34m(\u001b[0m\u001b[0mn_components\u001b[0m\u001b[0;34m=\u001b[0m\u001b[0;36m2\u001b[0m\u001b[0;34m)\u001b[0m\u001b[0;34m.\u001b[0m\u001b[0mfit_transform\u001b[0m\u001b[0;34m(\u001b[0m\u001b[0mspcmf_U\u001b[0m\u001b[0;34m)\u001b[0m\u001b[0;34m\u001b[0m\u001b[0m\n",
      "\u001b[0;32m~/IST/Thesis/pCMF/cavi_spcmf.py\u001b[0m in \u001b[0;36mrun_cavi\u001b[0;34m(self, X_test, empirical_bayes, n_iterations, return_ll, sampling_rate, max_time, verbose)\u001b[0m\n\u001b[1;32m    266\u001b[0m                         \u001b[0;31m# update global variables\u001b[0m\u001b[0;34m\u001b[0m\u001b[0;34m\u001b[0m\u001b[0m\n\u001b[1;32m    267\u001b[0m                         \u001b[0mself\u001b[0m\u001b[0;34m.\u001b[0m\u001b[0mupdate_b\u001b[0m\u001b[0;34m(\u001b[0m\u001b[0;34m)\u001b[0m\u001b[0;34m\u001b[0m\u001b[0m\n\u001b[0;32m--> 268\u001b[0;31m                         \u001b[0mself\u001b[0m\u001b[0;34m.\u001b[0m\u001b[0mupdate_p_S\u001b[0m\u001b[0;34m(\u001b[0m\u001b[0;34m)\u001b[0m\u001b[0;34m\u001b[0m\u001b[0m\n\u001b[0m\u001b[1;32m    269\u001b[0m \u001b[0;34m\u001b[0m\u001b[0m\n\u001b[1;32m    270\u001b[0m                         \u001b[0;32mif\u001b[0m \u001b[0mempirical_bayes\u001b[0m\u001b[0;34m:\u001b[0m\u001b[0;34m\u001b[0m\u001b[0m\n",
      "\u001b[0;32m~/IST/Thesis/pCMF/cavi_spcmf.py\u001b[0m in \u001b[0;36mupdate_p_S\u001b[0;34m(self)\u001b[0m\n\u001b[1;32m    155\u001b[0m \u001b[0;34m\u001b[0m\u001b[0m\n\u001b[1;32m    156\u001b[0m         \u001b[0;32mdef\u001b[0m \u001b[0mupdate_p_S\u001b[0m\u001b[0;34m(\u001b[0m\u001b[0mself\u001b[0m\u001b[0;34m)\u001b[0m\u001b[0;34m:\u001b[0m\u001b[0;34m\u001b[0m\u001b[0m\n\u001b[0;32m--> 157\u001b[0;31m                 \u001b[0mexit\u001b[0m\u001b[0;34m\u001b[0m\u001b[0m\n\u001b[0m\u001b[1;32m    158\u001b[0m                 \u001b[0mar\u001b[0m \u001b[0;34m=\u001b[0m \u001b[0mdigamma\u001b[0m\u001b[0;34m(\u001b[0m\u001b[0mself\u001b[0m\u001b[0;34m.\u001b[0m\u001b[0ma\u001b[0m\u001b[0;34m[\u001b[0m\u001b[0;36m0\u001b[0m\u001b[0;34m]\u001b[0m\u001b[0;34m)\u001b[0m \u001b[0;34m-\u001b[0m \u001b[0mnp\u001b[0m\u001b[0;34m.\u001b[0m\u001b[0mlog\u001b[0m\u001b[0;34m(\u001b[0m\u001b[0mself\u001b[0m\u001b[0;34m.\u001b[0m\u001b[0ma\u001b[0m\u001b[0;34m[\u001b[0m\u001b[0;36m1\u001b[0m\u001b[0;34m]\u001b[0m\u001b[0;34m)\u001b[0m \u001b[0;31m# NxK\u001b[0m\u001b[0;34m\u001b[0m\u001b[0m\n\u001b[1;32m    159\u001b[0m                 \u001b[0mbr\u001b[0m \u001b[0;34m=\u001b[0m \u001b[0mdigamma\u001b[0m\u001b[0;34m(\u001b[0m\u001b[0mself\u001b[0m\u001b[0;34m.\u001b[0m\u001b[0mb\u001b[0m\u001b[0;34m[\u001b[0m\u001b[0;36m0\u001b[0m\u001b[0;34m]\u001b[0m\u001b[0;34m)\u001b[0m \u001b[0;34m-\u001b[0m \u001b[0mnp\u001b[0m\u001b[0;34m.\u001b[0m\u001b[0mlog\u001b[0m\u001b[0;34m(\u001b[0m\u001b[0mself\u001b[0m\u001b[0;34m.\u001b[0m\u001b[0mb\u001b[0m\u001b[0;34m[\u001b[0m\u001b[0;36m1\u001b[0m\u001b[0;34m]\u001b[0m\u001b[0;34m)\u001b[0m \u001b[0;31m# PxK\u001b[0m\u001b[0;34m\u001b[0m\u001b[0m\n",
      "\u001b[0;31mNameError\u001b[0m: name 'exit' is not defined"
     ]
    }
   ],
   "source": [
    "# Run CAVI and get estimates (Sparse pCMF)\n",
    "alpha = np.ones((2, K))\n",
    "alpha[0, :] = 3.\n",
    "alpha[1, :] = 0.5\n",
    "beta = np.ones((2, P, K))\n",
    "pi_D = np.ones((P,)) * 0.5\n",
    "pi_S = np.ones((P,)) * 0.5\n",
    "print('PCMF sparse:')\n",
    "inf = cavi_spcmf.CoordinateAscentVI(Y_train, alpha, beta, pi_D, pi_S)\n",
    "spcmf_ll = inf.run_cavi(n_iterations=4000, empirical_bayes=True, return_ll=True, sampling_rate=S, max_time=T)\n",
    "spcmf_U = inf.a[0] / inf.a[1] # VI estimate is the mean of the variational approximation\n",
    "spcmf_U = PCA(n_components=2).fit_transform(spcmf_U)"
   ]
  },
  {
   "cell_type": "code",
   "execution_count": 61,
   "metadata": {},
   "outputs": [
    {
     "data": {
      "text/plain": [
       "24727.08253630316"
      ]
     },
     "execution_count": 61,
     "metadata": {},
     "output_type": "execute_result"
    }
   ],
   "source": [
    "np.sum(inf.r[:, 0, 0] * self.X[0, 0] * (ar[:, k] + br[j, k]))"
   ]
  },
  {
   "cell_type": "code",
   "execution_count": 7,
   "metadata": {},
   "outputs": [],
   "source": [
    "from scipy.special import digamma"
   ]
  },
  {
   "cell_type": "code",
   "execution_count": 8,
   "metadata": {},
   "outputs": [],
   "source": [
    "self = inf"
   ]
  },
  {
   "cell_type": "code",
   "execution_count": 41,
   "metadata": {},
   "outputs": [],
   "source": [
    "omega = np.zeros((self.N,))\n",
    "sum_k = np.sum(np.exp(ar[:, :] - br[j, :]), axis=1)\n",
    "omega[sum_k > -]"
   ]
  },
  {
   "cell_type": "code",
   "execution_count": 45,
   "metadata": {},
   "outputs": [
    {
     "data": {
      "text/plain": [
       "(800, 10)"
      ]
     },
     "execution_count": 45,
     "metadata": {},
     "output_type": "execute_result"
    }
   ],
   "source": [
    "(np.exp(ar[:, :] - br[j, :])).shape"
   ]
  },
  {
   "cell_type": "code",
   "execution_count": 37,
   "metadata": {},
   "outputs": [],
   "source": [
    "ar = digamma(self.a[0]) - np.log(self.a[1]) # NxK\n",
    "br = digamma(self.b[0]) - np.log(self.b[1]) # PxK\n",
    "\n",
    "logit_p = np.zeros((self.P, self.K))\n",
    "for j in range(self.P):\n",
    "    for k in range(self.K):\n",
    "        if np.sum(np.exp(ar[:, k] - br[j, k])) > 0:\n",
    "            omega = self.r[:, j, k]\n",
    "        logit_p[j, k] = self.logit_pi_S[j, k] + np.sum(-self.p_D[:, j] * self.a[0, :, k]/self.a[1, :, k] * self.b[0, j, k]/self.b[1, j, k] +\n",
    "            self.p_D[:, j] * omega * self.X[:, j] * (ar[:, k] + br[j, k]))"
   ]
  },
  {
   "cell_type": "code",
   "execution_count": 38,
   "metadata": {},
   "outputs": [
    {
     "data": {
      "text/plain": [
       "array([[38637.94572832, 10267.14930646, 13056.07913491, 18631.52143849,\n",
       "        23483.04393404, 22809.15328045, 12164.81317804, 15121.90039405,\n",
       "        14814.65154504, 12533.86777555],\n",
       "       [27508.27245852, 32380.15769982, 11385.8919353 ,  8529.6778535 ,\n",
       "        33282.81758686, 31863.82770092, 10315.86335995,  6580.00581073,\n",
       "        37226.38436362, 23742.3552985 ],\n",
       "       [10761.77021575, 42513.87140486, 22387.17477778, 41546.97619118,\n",
       "        16494.88705533,  4695.53110024, 15998.56481186, 46940.00829853,\n",
       "        22313.72668144, 24706.13960503],\n",
       "       [18860.98311675, 26213.73025941, 42305.61006429, 20427.91915252,\n",
       "        25614.32105143, 23708.49971946, 17416.97908778, 10685.65853055,\n",
       "        52600.92104689, 25170.02753182],\n",
       "       [35867.33308595, 11634.02347985, 34372.78228677, 19540.72801321,\n",
       "        22708.58983102, 22777.66476073, 47703.59833654, 12796.18958535,\n",
       "         4784.09780101, 28616.27604354],\n",
       "       [10746.54302918, 14056.33126781, 39187.72527896, 10644.37762392,\n",
       "        19850.15938926, 27256.70935935, 15374.8745667 , 36543.66706633,\n",
       "        31956.29801912, 13138.34075791],\n",
       "       [16768.52713777, 34376.60937871, 25957.75227501, 24883.22220893,\n",
       "        10938.74716735, 39406.41167176, 40118.59304616, 20150.74037695,\n",
       "        26486.10959589, 11439.50213923],\n",
       "       [37805.68544545, 24242.5650609 , 33113.89939306, 21397.86044149,\n",
       "        30004.72653173, 22842.3815537 , 30687.89161087, 47079.99165944,\n",
       "         5132.84416417, 21922.75536948],\n",
       "       [10677.87606043, 32509.19355007, 21581.60196636, 17362.65834824,\n",
       "        39234.64171317, 34095.0460851 , 15212.63174961, 15443.74965465,\n",
       "        51648.70601669, 19252.55450562],\n",
       "       [21699.05276792, 26891.0912425 , 29937.93708535, 21119.40759266,\n",
       "        41585.00114971, 43507.08120221, 37795.5220043 , 16495.23636559,\n",
       "        23805.11182724, 55019.57169547],\n",
       "       [16628.20665374, 34868.81229463, 21017.03955523, 14635.99300956,\n",
       "        24467.50760356, 13217.12562716, 65482.41635302, 16631.34554775,\n",
       "        26181.16899148, 10954.19530335],\n",
       "       [23514.86397368, 26507.77666951, 22590.95891133,  9124.66118625,\n",
       "        21071.24652712, 14509.15962563, 21142.51523151, 37877.38430393,\n",
       "        16355.35189649, 13100.43934847],\n",
       "       [27557.06385284, 12136.60809733, 18172.29025831, 15900.87757335,\n",
       "        44368.33748963, 47072.58613434, 14048.04960152, 31525.89154638,\n",
       "         6542.27294337, 29733.08057427],\n",
       "       [17631.66220378, 46758.6888086 , 28654.8350712 , 32899.35609593,\n",
       "         8779.35019408, 21077.50988297, 32915.31688714, 33101.90812985,\n",
       "        39874.21536158, 42292.8999244 ],\n",
       "       [20477.88525428, 13402.3911418 , 28789.42271098, 27473.7025827 ,\n",
       "        16382.4031495 , 17165.69682872,  9321.88236251, 18450.10231902,\n",
       "        18850.34514245, 14872.29585142],\n",
       "       [32479.57086602,  9503.47883033, 10056.98758326, 16933.74841555,\n",
       "        11057.93635327, 30345.80272565,  9364.28644921, 12459.92441023,\n",
       "        34199.32675448, 22233.78415944],\n",
       "       [50871.13423522,  9385.14681299, 10176.09589219, 37024.49236507,\n",
       "        18867.36963908, 19265.59657686, 21675.90577283, 20953.4716001 ,\n",
       "         8655.68672433, 30792.83504395],\n",
       "       [20553.36466662, 10940.55122014, 32950.48050831, 32347.8428569 ,\n",
       "        18185.66364811,  4981.33335046, 11320.22238215, 18929.90830645,\n",
       "        31648.09120865, 41445.40275028],\n",
       "       [37516.08834699, 39881.40010011, 13034.8241271 , 30835.54215636,\n",
       "        27607.24046879, 34968.50640129, 31718.20895833, 10255.18509457,\n",
       "        16530.75243357, 14493.67265346],\n",
       "       [15855.28300266, 17281.22607854,  8110.28476718, 28708.39530915,\n",
       "        31289.97618314, 16906.6879093 , 29115.32395262, 21508.65151508,\n",
       "        30314.55575038, 13346.73277968]])"
      ]
     },
     "execution_count": 38,
     "metadata": {},
     "output_type": "execute_result"
    }
   ],
   "source": [
    "logit_p"
   ]
  },
  {
   "cell_type": "code",
   "execution_count": null,
   "metadata": {},
   "outputs": [],
   "source": [
    "inf.p_S"
   ]
  },
  {
   "cell_type": "code",
   "execution_count": null,
   "metadata": {},
   "outputs": [],
   "source": [
    "est_V = inf.estimate_V(inf.b)\n",
    "plt.matshow(est_V)\n",
    "plt.xticks([])\n",
    "plt.yticks([])\n",
    "plt.show()"
   ]
  },
  {
   "cell_type": "code",
   "execution_count": null,
   "metadata": {},
   "outputs": [],
   "source": [
    "plt.plot(spcmf_ll[1], label='SPCMF')\n",
    "plt.plot(pcmf_ll[1], label='PCMF')\n",
    "plt.ylabel('Average log-likelihood')\n",
    "plt.xlabel('Seconds')\n",
    "plt.title('Data set with N={} and P={}'.format(N, P))\n",
    "plt.legend()\n",
    "plt.show()"
   ]
  },
  {
   "cell_type": "code",
   "execution_count": null,
   "metadata": {},
   "outputs": [],
   "source": [
    "U_list = [U_train, pcmf_U, spcmf_U, pca_U]\n",
    "title_list = ['True $\\mathbf{U}$', 'PCMF', 'SPCMF', 'PCA']\n",
    "\n",
    "n_results = len(U_list)\n",
    "\n",
    "assert len(U_list) == len(title_list)\n",
    "\n",
    "fig = plt.figure(figsize=(16, 4))\n",
    "\n",
    "s = 30\n",
    "alpha = 0.7\n",
    "labels=None\n",
    "for i in range(len(U_list)):\n",
    "    ax = plt.subplot(1, n_results, i+1)\n",
    "    handlers = []\n",
    "    for c in range(C):\n",
    "        h = ax.scatter(U_list[i][c_train==c, 0], U_list[i][c_train==c, 1], s=s, alpha=alpha)\n",
    "        handlers.append(h)\n",
    "    if labels is not None:\n",
    "        ax.legend(handlers, labels, scatterpoints=1)\n",
    "    plt.title(title_list[i])\n",
    "plt.show()"
   ]
  },
  {
   "cell_type": "code",
   "execution_count": null,
   "metadata": {},
   "outputs": [],
   "source": [
    "true_silh = silhouette_score(U_train, c_train)\n",
    "pcmf_silh = silhouette_score(pcmf_U, c_train)\n",
    "spcmf_silh = silhouette_score(spcmf_U, c_train)\n",
    "# hpcmf_silh = silhouette_score(hpcmf_U, c_train)\n",
    "# shpcmf_silh = silhouette_score(shpcmf_U, c_train)\n",
    "pca_silh = silhouette_score(pca_U, c_train)\n",
    "\n",
    "# scores = {'SPCMF': spcmf_silh, 'PCMF': pcmf_silh, 'PCA': pca_silh, 'HPCMF': hpcmf_silh, 'SHPCMF': shpcmf_silh}\n",
    "scores = {'SPCMF': spcmf_silh, 'PCMF': pcmf_silh, 'PCA': pca_silh}\n",
    "\n",
    "sorted_scores = sorted(scores.items(), key=operator.itemgetter(1), reverse=True)\n",
    "\n",
    "print('Silhouette scores (higher is better):')\n",
    "print('\\033[1m- {0}: {1:.3}\\033[0m'.format(sorted_scores[0][0], sorted_scores[0][1]))\n",
    "for score_tp in sorted_scores[1:]:\n",
    "    print('- {0}: {1:.3}'.format(score_tp[0], score_tp[1]))\n",
    "    \n",
    "print('\\nSilhouette of true U:')\n",
    "print('%0.3f' % true_silh)"
   ]
  }
 ],
 "metadata": {
  "kernelspec": {
   "display_name": "Python 2",
   "language": "python",
   "name": "python2"
  },
  "language_info": {
   "codemirror_mode": {
    "name": "ipython",
    "version": 3
   },
   "file_extension": ".py",
   "mimetype": "text/x-python",
   "name": "python",
   "nbconvert_exporter": "python",
   "pygments_lexer": "ipython3",
   "version": "3.5.2"
  }
 },
 "nbformat": 4,
 "nbformat_minor": 2
}
