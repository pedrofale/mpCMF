{
 "cells": [
  {
   "cell_type": "markdown",
   "metadata": {},
   "source": [
    "# Testing Zero-Inflated Count Matrix Factorization in Darmanis data "
   ]
  },
  {
   "cell_type": "code",
   "execution_count": 104,
   "metadata": {},
   "outputs": [],
   "source": [
    "from pCMF.misc import utils, plot_utils, print_utils\n",
    "from pCMF.misc.model_wrapper import ModelWrapper\n",
    "from pCMF.models.pcmf import pcmf\n",
    "\n",
    "import matplotlib.pyplot as plt\n",
    "from matplotlib.pyplot import cm\n",
    "import numpy as np\n",
    "from sklearn.decomposition import PCA\n",
    "from sklearn.manifold import TSNE\n",
    "from sklearn.metrics import silhouette_score, classification_report, accuracy_score\n",
    "from sklearn.model_selection import train_test_split\n",
    "\n",
    "import pandas as pd\n",
    "from scipy.stats import gamma\n",
    "\n",
    "import operator\n",
    "import seaborn as sns\n",
    "sns.set_style('whitegrid')\n",
    "\n",
    "%matplotlib inline"
   ]
  },
  {
   "cell_type": "code",
   "execution_count": 2,
   "metadata": {},
   "outputs": [],
   "source": [
    "brain_tags = pd.read_csv('../../data/Brain/brainTags.csv')"
   ]
  },
  {
   "cell_type": "code",
   "execution_count": 3,
   "metadata": {},
   "outputs": [],
   "source": [
    "brain_tags.rename(columns={'Unnamed: 0': 'Gene name'}, inplace=True)"
   ]
  },
  {
   "cell_type": "code",
   "execution_count": 4,
   "metadata": {},
   "outputs": [],
   "source": [
    "gene_names = brain_tags['Gene name']"
   ]
  },
  {
   "cell_type": "code",
   "execution_count": 5,
   "metadata": {},
   "outputs": [],
   "source": [
    "brain_tags = brain_tags.drop('Gene name', axis=1)"
   ]
  },
  {
   "cell_type": "code",
   "execution_count": 6,
   "metadata": {},
   "outputs": [
    {
     "data": {
      "text/plain": [
       "17862"
      ]
     },
     "execution_count": 6,
     "metadata": {},
     "output_type": "execute_result"
    }
   ],
   "source": [
    "np.count_nonzero(brain_tags['GSM1657871'] == 0)"
   ]
  },
  {
   "cell_type": "code",
   "execution_count": 7,
   "metadata": {},
   "outputs": [],
   "source": [
    "brain_tags_np = np.array(brain_tags)"
   ]
  },
  {
   "cell_type": "code",
   "execution_count": 8,
   "metadata": {},
   "outputs": [],
   "source": [
    "info = pd.read_csv('../../data/Brain/SraRunTable.txt', sep='\\t')"
   ]
  },
  {
   "cell_type": "code",
   "execution_count": 9,
   "metadata": {},
   "outputs": [],
   "source": [
    "mapping = [list(info.Sample_Name_s).index(cell_name) if cell_name in list(info.Sample_Name_s) else None for cell_name in list(brain_tags.columns)]"
   ]
  },
  {
   "cell_type": "code",
   "execution_count": 10,
   "metadata": {},
   "outputs": [],
   "source": [
    "cell_type = info.cell_type_s[mapping]"
   ]
  },
  {
   "cell_type": "code",
   "execution_count": 11,
   "metadata": {},
   "outputs": [],
   "source": [
    "types, labels = np.unique(cell_type, return_inverse=True)"
   ]
  },
  {
   "cell_type": "code",
   "execution_count": 12,
   "metadata": {},
   "outputs": [],
   "source": [
    "## Assign each cell a color according to its type\n",
    "scols = [\"red\",\"blue\",\"green\",\"brown\",\"pink\",\"purple\",\"darkgreen\",\"grey\"]\n",
    "cols = []\n",
    "for i in range(len(cell_type)):\n",
    "    cols.append(scols[np.argwhere(list(cell_type)[i]==types)[0][0]])"
   ]
  },
  {
   "cell_type": "code",
   "execution_count": 13,
   "metadata": {},
   "outputs": [],
   "source": [
    "cell_type[cell_type == types[0]] = \"fetal quiescent\"\n",
    "cell_type[cell_type == types[1]] = \"fetal replicating\"\n",
    "#cell_type[cell_type == types[-1]] = \"oligodendrocyte precursor cells\"\n",
    "\n",
    "# Change to clearer cell type names\n",
    "types[0] = \"fetal quiescent\"\n",
    "types[1] = \"fetal replicating\"\n",
    "#types[-1] = \"oligodendrocyte precursor cells\""
   ]
  },
  {
   "cell_type": "code",
   "execution_count": 14,
   "metadata": {},
   "outputs": [],
   "source": [
    "brain_10 = brain_tags[np.sum(brain_tags, axis=1) > 10]  # remove genes with zero expression across all cells"
   ]
  },
  {
   "cell_type": "code",
   "execution_count": 15,
   "metadata": {},
   "outputs": [
    {
     "data": {
      "text/plain": [
       "(18565, 420)"
      ]
     },
     "execution_count": 15,
     "metadata": {},
     "output_type": "execute_result"
    }
   ],
   "source": [
    "brain_10.shape"
   ]
  },
  {
   "cell_type": "code",
   "execution_count": 16,
   "metadata": {},
   "outputs": [],
   "source": [
    "expression = np.array(brain_10).T"
   ]
  },
  {
   "cell_type": "code",
   "execution_count": 17,
   "metadata": {},
   "outputs": [
    {
     "data": {
      "text/plain": [
       "(420, 18565)"
      ]
     },
     "execution_count": 17,
     "metadata": {},
     "output_type": "execute_result"
    }
   ],
   "source": [
    "expression.shape"
   ]
  },
  {
   "cell_type": "code",
   "execution_count": 123,
   "metadata": {},
   "outputs": [
    {
     "data": {
      "image/png": "[encoded data removed]",
      "text/plain": [
       "<Figure size 432x288 with 1 Axes>"
      ]
     },
     "metadata": {},
     "output_type": "display_data"
    }
   ],
   "source": [
    "sortedex = np.sort(expression.flatten())[:int(0.9*expression.size)]\n",
    "\n",
    "bins = np.linspace(0, sortedex.max(), num=50)\n",
    "\n",
    "plt.hist(sortedex[sortedex>0], bins)\n",
    "plt.xlabel('observed counts')\n",
    "plt.ylabel('frequency')\n",
    "plt.show()"
   ]
  },
  {
   "cell_type": "code",
   "execution_count": 61,
   "metadata": {},
   "outputs": [],
   "source": [
    "stddevs = np.sort(np.std(expression, axis=0) / np.mean(expression, axis=0))"
   ]
  },
  {
   "cell_type": "code",
   "execution_count": 63,
   "metadata": {},
   "outputs": [
    {
     "data": {
      "text/plain": [
       "(4318,)"
      ]
     },
     "execution_count": 63,
     "metadata": {},
     "output_type": "execute_result"
    }
   ],
   "source": [
    "stddevs[stddevs > 10].shape"
   ]
  },
  {
   "cell_type": "code",
   "execution_count": 64,
   "metadata": {},
   "outputs": [],
   "source": [
    "selected = np.std(expression, axis=0).argsort()[-1000:][::-1]"
   ]
  },
  {
   "cell_type": "code",
   "execution_count": 65,
   "metadata": {},
   "outputs": [],
   "source": [
    "expression = expression[:, selected]"
   ]
  },
  {
   "cell_type": "code",
   "execution_count": 87,
   "metadata": {},
   "outputs": [],
   "source": [
    "#train/test split\n",
    "X_train, X_test, c_train, c_test, cell_type_train, _ = train_test_split(expression, labels, cell_type)"
   ]
  },
  {
   "cell_type": "code",
   "execution_count": 91,
   "metadata": {},
   "outputs": [],
   "source": [
    "P = expression.shape[1]\n",
    "K = 10 # latent space dimensionality\n",
    "C = np.unique(c_train).size"
   ]
  },
  {
   "cell_type": "code",
   "execution_count": 105,
   "metadata": {},
   "outputs": [
    {
     "name": "stdout",
     "output_type": "stream",
     "text": [
      "Running PCA...\n",
      "Done.\n",
      "\n"
     ]
    }
   ],
   "source": [
    "# Run PCA\n",
    "print('Running PCA...')\n",
    "obj = PCA(n_components=K)\n",
    "pca = ModelWrapper(np.log(X_train + 1.), c_train, name='PCA')\n",
    "pca.run(obj.fit_transform)\n",
    "print('Done.\\n')"
   ]
  },
  {
   "cell_type": "code",
   "execution_count": 135,
   "metadata": {},
   "outputs": [],
   "source": [
    "T = 60. * 60.\n",
    "S = 30.\n",
    "max_iter = 1000000"
   ]
  },
  {
   "cell_type": "code",
   "execution_count": 136,
   "metadata": {},
   "outputs": [
    {
     "name": "stdout",
     "output_type": "stream",
     "text": [
      "Running PCMF models...\n",
      "CAVI-EB:\n",
      "Considering zero-inflated counts.\n",
      "Running CAVI-EB...\n",
      "Iteration 104/1000000. Log-likelihood: 1123.922. Elapsed: 1h0m1s8s\n",
      "Done.\n",
      "\n"
     ]
    }
   ],
   "source": [
    "print('Running PCMF models...')\n",
    "cavi = pcmf.PCMF(X_train, c_train, X_test=X_test, sparsity=False)\n",
    "cavi.run(max_iter=max_iter, max_time=T, sampling_rate=S, do_imp=False, do_holl=False, do_dll=False, verbose=True)\n",
    "print('Done.\\n')"
   ]
  },
  {
   "cell_type": "code",
   "execution_count": null,
   "metadata": {},
   "outputs": [
    {
     "name": "stdout",
     "output_type": "stream",
     "text": [
      "Running PCMF models...\n",
      "CAVI:\n",
      "Considering zero-inflated counts.\n",
      "Running CAVI...\n",
      "Iteration 65/1000000. Log-likelihood: 1153.713. Elapsed: 0h38m6ss\r"
     ]
    }
   ],
   "source": [
    "print('Running PCMF models...')\n",
    "cavi_noteb = pcmf.PCMF(X_train, c_train, X_test=X_test, sparsity=False, empirical_bayes=False)\n",
    "cavi_noteb.run(max_iter=max_iter, max_time=T, sampling_rate=S, do_imp=False, do_holl=False, do_dll=False, verbose=True)\n",
    "print('Done.\\n')"
   ]
  },
  {
   "cell_type": "code",
   "execution_count": null,
   "metadata": {},
   "outputs": [],
   "source": [
    "fig = plt.figure(figsize=(12, 4))\n",
    "ax = plt.subplot(1, 2, 1)\n",
    "plot_utils.plot_model_convergence([cavi, cavi_noteb], mode='ll_time', ax=ax, ylabel='Average log-likelihood', xlabel='Seconds(*{0})'.format(S))\n",
    "ax = plt.subplot(1, 2, 2)\n",
    "plot_utils.plot_model_convergence([cavi, cavi_noteb], mode='silh_time', ax=ax, ylabel='Silhouette of latent space', xlabel='Seconds(*{0})'.format(S))\n",
    "plt.legend(loc='upper left', bbox_to_anchor=[1., 1.], frameon=True)\n",
    "plt.suptitle('Darmanis data', fontsize=14)\n",
    "plt.subplots_adjust(top=0.85)\n",
    "plt.show()"
   ]
  },
  {
   "cell_type": "code",
   "execution_count": null,
   "metadata": {},
   "outputs": [],
   "source": [
    "print_utils.print_model_silhouettes([pca, cavi, cavi_noteb])"
   ]
  },
  {
   "cell_type": "code",
   "execution_count": null,
   "metadata": {},
   "outputs": [],
   "source": [
    "fig = plt.figure(figsize=(14, 4))\n",
    "ax = plt.axes()\n",
    "plot_utils.plot_sorted_tsnes([pca, cavi, cavi_noteb], c_train, ax=ax, labels=np.array(cell_type_train), legend=True)\n",
    "plt.show()"
   ]
  }
 ],
 "metadata": {
  "kernelspec": {
   "display_name": "Python 3",
   "language": "python",
   "name": "python3"
  },
  "language_info": {
   "codemirror_mode": {
    "name": "ipython",
    "version": 3
   },
   "file_extension": ".py",
   "mimetype": "text/x-python",
   "name": "python",
   "nbconvert_exporter": "python",
   "pygments_lexer": "ipython3",
   "version": "3.6.3"
  }
 },
 "nbformat": 4,
 "nbformat_minor": 2
}
