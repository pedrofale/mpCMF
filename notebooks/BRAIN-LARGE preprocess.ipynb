{
 "cells": [
  {
   "cell_type": "code",
   "execution_count": 2,
   "metadata": {},
   "outputs": [
    {
     "name": "stdout",
     "output_type": "stream",
     "text": [
      "Collecting h5py\n",
      "\u001b[?25l  Downloading https://files.pythonhosted.org/packages/f2/b8/a63fcc840bba5c76e453dd712dbca63178a264c8990e0086b72965d4e954/h5py-2.7.1-cp36-cp36m-manylinux1_x86_64.whl (5.4MB)\n",
      "\u001b[K    100% |████████████████████████████████| 5.4MB 2.6MB/s ta 0:00:01\n",
      "\u001b[?25hRequirement already satisfied: numpy>=1.7 in /home/pferreira/pCMF/venv/lib/python3.6/site-packages (from h5py) (1.14.3)\n",
      "Requirement already satisfied: six in /home/pferreira/pCMF/venv/lib/python3.6/site-packages (from h5py) (1.11.0)\n",
      "Installing collected packages: h5py\n",
      "Successfully installed h5py-2.7.1\n"
     ]
    }
   ],
   "source": [
    "!pip install h5py"
   ]
  },
  {
   "cell_type": "code",
   "execution_count": 3,
   "metadata": {},
   "outputs": [
    {
     "name": "stderr",
     "output_type": "stream",
     "text": [
      "/home/pferreira/pCMF/venv/lib/python3.6/site-packages/h5py/__init__.py:36: FutureWarning: Conversion of the second argument of issubdtype from `float` to `np.floating` is deprecated. In future, it will be treated as `np.float64 == np.dtype(float).type`.\n",
      "  from ._conv import register_converters as _register_converters\n"
     ]
    }
   ],
   "source": [
    "import h5py \n",
    "import numpy as np\n",
    "import scipy.sparse as sp_sparse\n",
    "import matplotlib.pyplot as plt\n",
    "from sklearn.model_selection import train_test_split\n",
    "%matplotlib inline"
   ]
  },
  {
   "cell_type": "code",
   "execution_count": 5,
   "metadata": {},
   "outputs": [],
   "source": [
    "f = h5py.File(\"../../data/BRAIN-LARGE/1M_neurons_filtered_gene_bc_matrices_h5.h5\", \"r\")\n",
    "dsets = f[\"mm10\"]"
   ]
  },
  {
   "cell_type": "code",
   "execution_count": 7,
   "metadata": {},
   "outputs": [
    {
     "name": "stdout",
     "output_type": "stream",
     "text": [
      "barcodes\n",
      "data\n",
      "gene_names\n",
      "genes\n",
      "indices\n",
      "indptr\n",
      "shape\n"
     ]
    }
   ],
   "source": [
    "for name in f[\"mm10\"]:\n",
    "    print(name)"
   ]
  },
  {
   "cell_type": "code",
   "execution_count": 22,
   "metadata": {},
   "outputs": [
    {
     "data": {
      "text/plain": [
       "array([b'AAACCTGAGATAGGAG-1', b'AAACCTGAGCGGCTTC-1',\n",
       "       b'AAACCTGAGGAATCGC-1', ..., b'TTTGTCAGTGCGATAG-133',\n",
       "       b'TTTGTCAGTTAAAGTG-133', b'TTTGTCATCTGAAAGA-133'], dtype='|S20')"
      ]
     },
     "execution_count": 22,
     "metadata": {},
     "output_type": "execute_result"
    }
   ],
   "source": [
    "f[\"mm10\"][\"barcodes\"][:]"
   ]
  },
  {
   "cell_type": "code",
   "execution_count": 9,
   "metadata": {},
   "outputs": [],
   "source": [
    "string_10x = \"\"\"E18 20161004 Neurons Sample 64 Fraction of Reads Kept\t87.1%\n",
    "E18 20161004 Neurons Sample 63 Fraction of Reads Kept\t76.5%\n",
    "E18 20161004 Neurons Sample 62 Fraction of Reads Kept\t93.5%\n",
    "E18 20161004 Neurons Sample 61 Fraction of Reads Kept\t77.6%\n",
    "E18 20160930 Neurons Sample 25 Fraction of Reads Kept\t70.0%\n",
    "E18 20160930 Neurons Sample 27 Fraction of Reads Kept\t72.2%\n",
    "E18 20160930 Neurons Sample 28 Fraction of Reads Kept\t73.0%\n",
    "E18 20160930 Neurons Sample 29 Fraction of Reads Kept\t72.0%\n",
    "E18 20160930 Neurons Sample 21 Fraction of Reads Kept\t71.9%\n",
    "E18 20160930 Neurons Sample 22 Fraction of Reads Kept\t74.7%\n",
    "E18 20160930 Neurons Sample 23 Fraction of Reads Kept\t75.2%\n",
    "E18 20160930 Neurons Sample 24 Fraction of Reads Kept\t76.0%\n",
    "E18 20160930 Neurons Sample 30 Fraction of Reads Kept\t72.0%\n",
    "E18 20160930 Neurons Sample 31 Fraction of Reads Kept\t72.4%\n",
    "E18 20160930 Neurons Sample 04 Fraction of Reads Kept\t76.4%\n",
    "E18 20160930 Neurons Sample 08 Fraction of Reads Kept\t73.1%\n",
    "E18 20161004 Neurons Sample 18 Fraction of Reads Kept\t86.7%\n",
    "E18 20161004 Neurons Sample 51 Fraction of Reads Kept\t74.6%\n",
    "E18 20161004 Neurons Sample 52 Fraction of Reads Kept\t83.7%\n",
    "E18 20161004 Neurons Sample 53 Fraction of Reads Kept\t93.5%\n",
    "E18 20161004 Neurons Sample 54 Fraction of Reads Kept\t74.0%\n",
    "E18 20161004 Neurons Sample 55 Fraction of Reads Kept\t79.9%\n",
    "E18 20161004 Neurons Sample 56 Fraction of Reads Kept\t76.5%\n",
    "E18 20161004 Neurons Sample 57 Fraction of Reads Kept\t91.4%\n",
    "E18 20161004 Neurons Sample 58 Fraction of Reads Kept\t80.9%\n",
    "E18 20161004 Neurons Sample 59 Fraction of Reads Kept\t76.4%\n",
    "E18 20161004 Neurons Sample 60 Fraction of Reads Kept\t77.4%\n",
    "E18 20160930 Neurons Sample 61 Fraction of Reads Kept\t84.6%\n",
    "E18 20160930 Neurons Sample 60 Fraction of Reads Kept\t83.0%\n",
    "E18 20160930 Neurons Sample 57 Fraction of Reads Kept\t82.1%\n",
    "E18 20160930 Neurons Sample 56 Fraction of Reads Kept\t83.4%\n",
    "E18 20160930 Neurons Sample 59 Fraction of Reads Kept\t65.4%\n",
    "E18 20160930 Neurons Sample 58 Fraction of Reads Kept\t82.4%\n",
    "E18 20160930 Neurons Sample 53 Fraction of Reads Kept\t83.9%\n",
    "E18 20160930 Neurons Sample 52 Fraction of Reads Kept\t81.3%\n",
    "E18 20160930 Neurons Sample 55 Fraction of Reads Kept\t81.1%\n",
    "E18 20160930 Neurons Sample 54 Fraction of Reads Kept\t82.4%\n",
    "E18 20161004 Neurons Sample 46 Fraction of Reads Kept\t79.2%\n",
    "E18 20161004 Neurons Sample 45 Fraction of Reads Kept\t83.7%\n",
    "E18 20161004 Neurons Sample 48 Fraction of Reads Kept\t77.8%\n",
    "E18 20161004 Neurons Sample 47 Fraction of Reads Kept\t74.5%\n",
    "E18 20161004 Neurons Sample 42 Fraction of Reads Kept\t81.8%\n",
    "E18 20161004 Neurons Sample 41 Fraction of Reads Kept\t74.9%\n",
    "E18 20161004 Neurons Sample 44 Fraction of Reads Kept\t83.7%\n",
    "E18 20161004 Neurons Sample 43 Fraction of Reads Kept\t82.3%\n",
    "E18 20161004 Neurons Sample 13 Fraction of Reads Kept\t84.9%\n",
    "E18 20161004 Neurons Sample 14 Fraction of Reads Kept\t80.7%\n",
    "E18 20161004 Neurons Sample 11 Fraction of Reads Kept\t81.1%\n",
    "E18 20161004 Neurons Sample 12 Fraction of Reads Kept\t83.2%\n",
    "E18 20161004 Neurons Sample 50 Fraction of Reads Kept\t76.3%\n",
    "E18 20161004 Neurons Sample 49 Fraction of Reads Kept\t81.7%\n",
    "E18 20161004 Neurons Sample 15 Fraction of Reads Kept\t78.1%\n",
    "E18 20161004 Neurons Sample 16 Fraction of Reads Kept\t83.9%\n",
    "E18 20160930 Neurons Sample 03 Fraction of Reads Kept\t76.9%\n",
    "E18 20160930 Neurons Sample 07 Fraction of Reads Kept\t69.2%\n",
    "E18 20161004 Neurons Sample 39 Fraction of Reads Kept\t69.9%\n",
    "E18 20161004 Neurons Sample 40 Fraction of Reads Kept\t87.0%\n",
    "E18 20161004 Neurons Sample 33 Fraction of Reads Kept\t75.7%\n",
    "E18 20161004 Neurons Sample 34 Fraction of Reads Kept\t77.5%\n",
    "E18 20161004 Neurons Sample 31 Fraction of Reads Kept\t93.7%\n",
    "E18 20161004 Neurons Sample 32 Fraction of Reads Kept\t74.9%\n",
    "E18 20161004 Neurons Sample 37 Fraction of Reads Kept\t70.1%\n",
    "E18 20161004 Neurons Sample 38 Fraction of Reads Kept\t63.3%\n",
    "E18 20161004 Neurons Sample 35 Fraction of Reads Kept\t66.5%\n",
    "E18 20161004 Neurons Sample 36 Fraction of Reads Kept\t70.7%\n",
    "E18 20160930 Neurons Sample 41 Fraction of Reads Kept\t74.8%\n",
    "E18 20160930 Neurons Sample 40 Fraction of Reads Kept\t73.8%\n",
    "E18 20160930 Neurons Sample 35 Fraction of Reads Kept\t77.1%\n",
    "E18 20160930 Neurons Sample 34 Fraction of Reads Kept\t76.3%\n",
    "E18 20160930 Neurons Sample 33 Fraction of Reads Kept\t74.4%\n",
    "E18 20160930 Neurons Sample 32 Fraction of Reads Kept\t72.9%\n",
    "E18 20160930 Neurons Sample 39 Fraction of Reads Kept\t74.5%\n",
    "E18 20160930 Neurons Sample 38 Fraction of Reads Kept\t74.3%\n",
    "E18 20160930 Neurons Sample 37 Fraction of Reads Kept\t69.9%\n",
    "E18 20160930 Neurons Sample 36 Fraction of Reads Kept\t74.4%\n",
    "E18 20161004 Neurons Sample 17 Fraction of Reads Kept\t85.4%\n",
    "E18 20160930 Neurons Sample 62 Fraction of Reads Kept\t84.6%\n",
    "E18 20160930 Neurons Sample 63 Fraction of Reads Kept\t87.8%\n",
    "E18 20160930 Neurons Sample 64 Fraction of Reads Kept\t83.2%\n",
    "E18 20160930 Neurons Sample 66 Fraction of Reads Kept\t87.0%\n",
    "E18 20160930 Neurons Sample 67 Fraction of Reads Kept\t82.0%\n",
    "E18 20160930 Neurons Sample 68 Fraction of Reads Kept\t80.0%\n",
    "E18 20160930 Neurons Sample 69 Fraction of Reads Kept\t84.7%\n",
    "E18 20160930 Neurons Sample 70 Fraction of Reads Kept\t81.7%\n",
    "E18 20160930 Neurons Sample 71 Fraction of Reads Kept\t79.3%\n",
    "E18 20160930 Neurons Sample 72 Fraction of Reads Kept\t81.7%\n",
    "E18 20160930 Neurons Sample 02 Fraction of Reads Kept\t77.8%\n",
    "E18 20160930 Neurons Sample 06 Fraction of Reads Kept\t74.0%\n",
    "E18 20161004 Neurons Sample 30 Fraction of Reads Kept\t84.6%\n",
    "E18 20161004 Neurons Sample 29 Fraction of Reads Kept\t82.3%\n",
    "E18 20161004 Neurons Sample 22 Fraction of Reads Kept\t89.5%\n",
    "E18 20161004 Neurons Sample 21 Fraction of Reads Kept\t68.8%\n",
    "E18 20161004 Neurons Sample 24 Fraction of Reads Kept\t88.3%\n",
    "E18 20161004 Neurons Sample 23 Fraction of Reads Kept\t100.0%\n",
    "E18 20161004 Neurons Sample 26 Fraction of Reads Kept\t81.2%\n",
    "E18 20161004 Neurons Sample 25 Fraction of Reads Kept\t93.9%\n",
    "E18 20161004 Neurons Sample 28 Fraction of Reads Kept\t97.0%\n",
    "E18 20161004 Neurons Sample 27 Fraction of Reads Kept\t79.3%\n",
    "E18 20160930 Neurons Sample 11 Fraction of Reads Kept\t74.4%\n",
    "E18 20160930 Neurons Sample 10 Fraction of Reads Kept\t73.8%\n",
    "E18 20160930 Neurons Sample 13 Fraction of Reads Kept\t62.6%\n",
    "E18 20160930 Neurons Sample 12 Fraction of Reads Kept\t73.3%\n",
    "E18 20160930 Neurons Sample 16 Fraction of Reads Kept\t76.5%\n",
    "E18 20160930 Neurons Sample 15 Fraction of Reads Kept\t77.2%\n",
    "E18 20160930 Neurons Sample 18 Fraction of Reads Kept\t73.5%\n",
    "E18 20160930 Neurons Sample 17 Fraction of Reads Kept\t76.4%\n",
    "E18 20160930 Neurons Sample 20 Fraction of Reads Kept\t74.9%\n",
    "E18 20160930 Neurons Sample 19 Fraction of Reads Kept\t75.2%\n",
    "E18 20161004 Neurons Sample 19 Fraction of Reads Kept\t88.4%\n",
    "E18 20161004 Neurons Sample 20 Fraction of Reads Kept\t90.4%\n",
    "E18 20160930 Neurons Sample 50 Fraction of Reads Kept\t71.1%\n",
    "E18 20160930 Neurons Sample 51 Fraction of Reads Kept\t97.2%\n",
    "E18 20160930 Neurons Sample 48 Fraction of Reads Kept\t80.1%\n",
    "E18 20160930 Neurons Sample 49 Fraction of Reads Kept\t70.0%\n",
    "E18 20160930 Neurons Sample 46 Fraction of Reads Kept\t69.5%\n",
    "E18 20160930 Neurons Sample 47 Fraction of Reads Kept\t79.6%\n",
    "E18 20160930 Neurons Sample 44 Fraction of Reads Kept\t92.2%\n",
    "E18 20160930 Neurons Sample 45 Fraction of Reads Kept\t83.8%\n",
    "E18 20160930 Neurons Sample 42 Fraction of Reads Kept\t77.4%\n",
    "E18 20160930 Neurons Sample 43 Fraction of Reads Kept\t84.1%\n",
    "E18 20160930 Neurons Sample 01 Fraction of Reads Kept\t82.5%\n",
    "E18 20160930 Neurons Sample 05 Fraction of Reads Kept\t75.8%\n",
    "E18 20160930 Neurons Sample 09 Fraction of Reads Kept\t74.3%\n",
    "E18 20161004 Neurons Sample 08 Fraction of Reads Kept\t82.9%\n",
    "E18 20161004 Neurons Sample 07 Fraction of Reads Kept\t79.1%\n",
    "E18 20161004 Neurons Sample 06 Fraction of Reads Kept\t84.8%\n",
    "E18 20161004 Neurons Sample 05 Fraction of Reads Kept\t84.8%\n",
    "E18 20161004 Neurons Sample 04 Fraction of Reads Kept\t87.1%\n",
    "E18 20161004 Neurons Sample 03 Fraction of Reads Kept\t82.0%\n",
    "E18 20161004 Neurons Sample 02 Fraction of Reads Kept\t86.4%\n",
    "E18 20161004 Neurons Sample 01 Fraction of Reads Kept\t84.2%\n",
    "E18 20161004 Neurons Sample 10 Fraction of Reads Kept\t80.1%\n",
    "E18 20161004 Neurons Sample 09 Fraction of Reads Kept\t80.1%\"\"\""
   ]
  },
  {
   "cell_type": "code",
   "execution_count": 10,
   "metadata": {},
   "outputs": [],
   "source": [
    "batch = [int(x[8:10]) - 9 for x in string_10x.split(\"\\n\")]\n",
    "library = [int(x[28:30]) for x in string_10x.split(\"\\n\")]"
   ]
  },
  {
   "cell_type": "code",
   "execution_count": 23,
   "metadata": {},
   "outputs": [],
   "source": [
    "batch_id = np.array([batch[int(x.decode('UTF-8').split(\"-\")[-1])-1] for x in f[\"mm10\"][\"barcodes\"][:]])"
   ]
  },
  {
   "cell_type": "code",
   "execution_count": 24,
   "metadata": {},
   "outputs": [],
   "source": [
    "matrix = sp_sparse.csc_matrix((dsets['data'], dsets['indices'], dsets['indptr']), shape=dsets['shape'])"
   ]
  },
  {
   "cell_type": "code",
   "execution_count": 25,
   "metadata": {},
   "outputs": [
    {
     "data": {
      "text/plain": [
       "((27998, 1306127), (2624828308,), (2624828308,), (1306128,))"
      ]
     },
     "execution_count": 25,
     "metadata": {},
     "output_type": "execute_result"
    }
   ],
   "source": [
    "matrix.shape, dsets['data'].shape, dsets['indices'].shape, dsets['indptr'].shape"
   ]
  },
  {
   "cell_type": "markdown",
   "metadata": {},
   "source": [
    "### Downsampling data to get variable genes"
   ]
  },
  {
   "cell_type": "code",
   "execution_count": 26,
   "metadata": {},
   "outputs": [],
   "source": [
    "matrix = matrix[:, :100000]\n",
    "variance = (np.array(matrix.multiply(matrix).mean(1)) - np.array(matrix.mean(1))**2)[:, 0]"
   ]
  },
  {
   "cell_type": "code",
   "execution_count": 27,
   "metadata": {},
   "outputs": [],
   "source": [
    "mask_small = variance >= 1.912\n",
    "mask_big = variance >= 0.03"
   ]
  },
  {
   "cell_type": "code",
   "execution_count": 33,
   "metadata": {},
   "outputs": [
    {
     "data": {
      "text/plain": [
       "(27998, 1306127)"
      ]
     },
     "execution_count": 33,
     "metadata": {},
     "output_type": "execute_result"
    }
   ],
   "source": [
    "matrix.shape"
   ]
  },
  {
   "cell_type": "code",
   "execution_count": 32,
   "metadata": {},
   "outputs": [],
   "source": [
    "matrix = sp_sparse.csc_matrix((dsets['data'], dsets['indices'], dsets['indptr']), shape=dsets['shape'])"
   ]
  },
  {
   "cell_type": "markdown",
   "metadata": {},
   "source": [
    "### Coming back to variable genes and constructing datasets"
   ]
  },
  {
   "cell_type": "code",
   "execution_count": 34,
   "metadata": {},
   "outputs": [
    {
     "data": {
      "text/plain": [
       "(1306127, 720)"
      ]
     },
     "execution_count": 34,
     "metadata": {},
     "output_type": "execute_result"
    }
   ],
   "source": [
    "dataset = matrix[mask_small, :].T.A\n",
    "dataset.shape"
   ]
  },
  {
   "cell_type": "code",
   "execution_count": 35,
   "metadata": {},
   "outputs": [
    {
     "data": {
      "text/plain": [
       "(1306127,)"
      ]
     },
     "execution_count": 35,
     "metadata": {},
     "output_type": "execute_result"
    }
   ],
   "source": [
    "batch_id.shape"
   ]
  },
  {
   "cell_type": "code",
   "execution_count": 36,
   "metadata": {},
   "outputs": [],
   "source": [
    "X_train, X_test, b_train, b_test = train_test_split(dataset, batch_id, test_size=0.1, random_state=0)\n",
    "hf = h5py.File('data_small.hdf5', 'w')\n",
    "hf.create_dataset('data_train', data=X_train)\n",
    "hf.create_dataset('data_test', data=X_test)\n",
    "hf.create_dataset('batch_train', data=b_train)\n",
    "hf.create_dataset('batch_test', data=b_test)\n",
    "hf.close()\n",
    "hf = h5py.File('data_log_small.hdf5', 'w')\n",
    "hf.create_dataset('log_data_train', data=np.log(1+X_train))\n",
    "hf.create_dataset('log_data_test', data=np.log(1+X_train))\n",
    "hf.create_dataset('batch_train', data=b_train)\n",
    "hf.create_dataset('batch_test', data=b_test)\n",
    "hf.close()"
   ]
  },
  {
   "cell_type": "code",
   "execution_count": 37,
   "metadata": {},
   "outputs": [],
   "source": [
    "line_train = np.random.choice(np.arange(matrix.shape[1]), size=500000)\n",
    "line_test = np.random.choice(np.arange(matrix.shape[1]), size=10000)"
   ]
  },
  {
   "cell_type": "code",
   "execution_count": 38,
   "metadata": {},
   "outputs": [
    {
     "data": {
      "text/plain": [
       "<HDF5 dataset \"data_train\": shape (500000, 10326), type \"<i4\">"
      ]
     },
     "execution_count": 38,
     "metadata": {},
     "output_type": "execute_result"
    }
   ],
   "source": [
    "hf = h5py.File('data_big.hdf5', 'w')\n",
    "hf.create_dataset('data_test', data=matrix[:, line_test][mask_big].T.A)\n",
    "hf.create_dataset('batch_train', data=batch_id[line_train])\n",
    "hf.create_dataset('batch_test', data=batch_id[line_test])\n",
    "hf.create_dataset('data_train', shape=(line_train.shape[0], np.sum(mask_big)), dtype=np.int32)"
   ]
  },
  {
   "cell_type": "code",
   "execution_count": 40,
   "metadata": {},
   "outputs": [
    {
     "name": "stdout",
     "output_type": "stream",
     "text": [
      "0\n",
      "1\n",
      "2\n",
      "3\n",
      "4\n",
      "5\n",
      "6\n",
      "7\n",
      "8\n",
      "9\n"
     ]
    }
   ],
   "source": [
    "for i in range(10):\n",
    "    print(i)\n",
    "    hf[\"data_train\"][i* 50000: (i+1)*50000] = matrix[:, line_train[i* 50000: (i+1)*50000]][mask_big].T.A"
   ]
  },
  {
   "cell_type": "code",
   "execution_count": 41,
   "metadata": {},
   "outputs": [],
   "source": [
    "hf.close()"
   ]
  }
 ],
 "metadata": {
  "kernelspec": {
   "display_name": "Python 3",
   "language": "python",
   "name": "python3"
  },
  "language_info": {
   "codemirror_mode": {
    "name": "ipython",
    "version": 3
   },
   "file_extension": ".py",
   "mimetype": "text/x-python",
   "name": "python",
   "nbconvert_exporter": "python",
   "pygments_lexer": "ipython3",
   "version": "3.6.3"
  }
 },
 "nbformat": 4,
 "nbformat_minor": 2
}
