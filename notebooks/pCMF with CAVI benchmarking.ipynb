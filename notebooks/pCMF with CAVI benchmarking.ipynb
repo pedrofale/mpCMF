{
 "cells": [
  {
   "cell_type": "markdown",
   "metadata": {},
   "source": [
    "# Coordinate Ascent Variational Inference on Probabilistic Count Matrix Factorization\n",
    "\n",
    "Note: when N != P, there is an identifiability issue if alpha_k2 goes to zero or beta_k2 goes to infinity or vice-versa."
   ]
  },
  {
   "cell_type": "code",
   "execution_count": 5,
   "metadata": {},
   "outputs": [],
   "source": [
    "%matplotlib inline\n",
    "\n",
    "import sys\n",
    "sys.path.insert(0, '../')\n",
    "import utils, inference\n",
    "\n",
    "from ZIFA import ZIFA\n",
    "\n",
    "import matplotlib.pyplot as plt\n",
    "from matplotlib.pyplot import cm\n",
    "import numpy as np\n",
    "from sklearn.decomposition import PCA\n",
    "from sklearn.metrics import silhouette_score\n",
    "\n",
    "from scipy.stats import gamma\n",
    "\n",
    "plt.style.use('ggplot')"
   ]
  },
  {
   "cell_type": "markdown",
   "metadata": {},
   "source": [
    "## Data generation"
   ]
  },
  {
   "cell_type": "code",
   "execution_count": 2,
   "metadata": {},
   "outputs": [
    {
     "data": {
      "image/png": "[encoded data removed]",
      "text/plain": [
       "<matplotlib.figure.Figure at 0x7fa838d340f0>"
      ]
     },
     "metadata": {},
     "output_type": "display_data"
    }
   ],
   "source": [
    "# Decide the prior parameters for U generation\n",
    "a = 1.\n",
    "b = 1.\n",
    "\n",
    "x = np.linspace(0, 15, 1000)\n",
    "\n",
    "prior_pdf = gamma.pdf(x, a, scale=1./b) \n",
    "plt.plot(x, prior_pdf)\n",
    "plt.show()"
   ]
  },
  {
   "cell_type": "code",
   "execution_count": 8,
   "metadata": {},
   "outputs": [
    {
     "name": "stderr",
     "output_type": "stream",
     "text": [
      "\r",
      "  0%|          | 0/3 [00:00<?, ?it/s]"
     ]
    },
    {
     "name": "stdout",
     "output_type": "stream",
     "text": [
      "NO zero-inflation:\n",
      "\tLOW separability\n",
      "\tHIGH separability\n"
     ]
    },
    {
     "name": "stderr",
     "output_type": "stream",
     "text": [
      "\r",
      " 33%|███▎      | 1/3 [00:25<00:51, 25.80s/it]"
     ]
    },
    {
     "name": "stdout",
     "output_type": "stream",
     "text": [
      "\n",
      "LOW zero-inflation:\n",
      "\tLOW separability\n",
      "\tHIGH separability\n"
     ]
    },
    {
     "name": "stderr",
     "output_type": "stream",
     "text": [
      "\r",
      " 67%|██████▋   | 2/3 [00:50<00:25, 25.10s/it]"
     ]
    },
    {
     "name": "stdout",
     "output_type": "stream",
     "text": [
      "\n",
      "HIGH zero-inflation:\n",
      "\tLOW separability\n",
      "\tHIGH separability\n"
     ]
    },
    {
     "name": "stderr",
     "output_type": "stream",
     "text": [
      "\r",
      "100%|██████████| 3/3 [01:12<00:00, 24.22s/it]"
     ]
    },
    {
     "name": "stdout",
     "output_type": "stream",
     "text": [
      "\n"
     ]
    },
    {
     "name": "stderr",
     "output_type": "stream",
     "text": [
      "\n"
     ]
    }
   ],
   "source": [
    "# Experiment parameters\n",
    "N = 100 # number of observations\n",
    "P = 2 # observation space dimensionality\n",
    "K = 2 # latent space dimensionality\n",
    "C = 2 # number of clusters\n",
    "\n",
    "z_p_arr = [0., 0.3, 0.6] # none, low, high ZI\n",
    "eps_arr = [2., 10.] # low, high separability\n",
    "n_runs = 1 # number of experiments per setting\n",
    "\n",
    "zi_debug_strs = ['NO zero-inflation', 'LOW zero-inflation', 'HIGH zero-inflation']\n",
    "eps_debug_strs = ['LOW separability', 'HIGH separability']\n",
    "\n",
    "pca_scores = np.zeros((len(z_p_arr), len(eps_arr), n_runs))\n",
    "zifa_scores = np.zeros((len(z_p_arr), len(eps_arr), n_runs))\n",
    "pcmf_scores = np.zeros((len(z_p_arr), len(eps_arr), n_runs))\n",
    "\n",
    "for i in range(len(z_p_arr)):\n",
    "    print('%s:' % zi_debug_strs[i])\n",
    "    for j in range(len(eps_arr)):\n",
    "        print('\\t%s' % eps_debug_strs[j])\n",
    "        for k in range(n_runs):\n",
    "            # Generate data set\n",
    "            Y, D, X, R, V, U, clusters = utils.generate_data(N, P, K, C=C, zero_prob=z_p_arr[i], \n",
    "                                                             eps=eps_arr[j], return_all=True)\n",
    "            log_Y = np.log(1 + Y)\n",
    "\n",
    "            # Run ZIFA\n",
    "            zifa, model_params = ZIFA.fitModel(log_Y, K, test_input=False, verbose=False)\n",
    "\n",
    "            # Run PCA\n",
    "            pca = PCA(n_components=2).fit_transform(Y)\n",
    "\n",
    "            # Run CAVI and get estimates (pCMF)\n",
    "            alpha = np.ones((2, K))\n",
    "            alpha[0, :] = 3.\n",
    "            alpha[1, :] = 0.5\n",
    "            beta = np.ones((2, P, K))\n",
    "            pi = np.ones((P,)) * 0.5\n",
    "            cavi = inference.Inference(Y, alpha, beta, pi)\n",
    "            cavi.run_cavi(n_iterations=200, return_elbo=False, verbose=False)\n",
    "            est_U = cavi.a[0] / cavi.a[1]\n",
    "\n",
    "            # Calculate silhouette scores method\n",
    "            zifa_silh = silhouette_score(zifa, clusters)\n",
    "            pcmf_silh = silhouette_score(est_U, clusters)\n",
    "            pca_silh = silhouette_score(pca, clusters)\n",
    "\n",
    "            # Store scores in array\n",
    "            pca_scores[i, j, k] = pca_silh\n",
    "            zifa_scores[i, j, k] = zifa_silh\n",
    "            pcmf_scores[i, j, k] = pcmf_silh\n",
    "    print('')\n",
    "\n",
    "# Prepare arrays to plot\n",
    "low_sep_no_zi = [pca_scores[0, 0, :], zifa_scores[0, 0, :], pcmf_scores[0, 0, :]]\n",
    "high_sep_no_zi = [pca_scores[0, 1, :], zifa_scores[0, 1, :], pcmf_scores[0, 1, :]]\n",
    "\n",
    "low_sep_low_zi = [pca_scores[1, 0, :], zifa_scores[1, 0, :], pcmf_scores[1, 0, :]]\n",
    "high_sep_low_zi = [pca_scores[1, 1, :], zifa_scores[1, 1, :], pcmf_scores[1, 1, :]]\n",
    "\n",
    "low_sep_low_zi = [pca_scores[2, 0, :], zifa_scores[2, 0, :], pcmf_scores[2, 0, :]]\n",
    "high_sep_low_zi = [pca_scores[2, 1, :], zifa_scores[2, 1, :], pcmf_scores[2, 1, :]]"
   ]
  },
  {
   "cell_type": "code",
   "execution_count": null,
   "metadata": {},
   "outputs": [],
   "source": [
    "low_sep_no_zi = [pca_scores[0, 0, :], zifa_scores[0, 0, :], pcmf_scores[0, 0, :]]\n",
    "high_sep_no_zi = [pca_scores[0, 1, :], zifa_scores[0, 1, :], pcmf_scores[0, 1, :]]\n",
    "\n",
    "low_sep_low_zi = [pca_scores[1, 0, :], zifa_scores[1, 0, :], pcmf_scores[1, 0, :]]\n",
    "high_sep_low_zi = [pca_scores[1, 1, :], zifa_scores[1, 1, :], pcmf_scores[1, 1, :]]\n",
    "\n",
    "low_sep_low_zi = [pca_scores[2, 0, :], zifa_scores[2, 0, :], pcmf_scores[2, 0, :]]\n",
    "high_sep_low_zi = [pca_scores[2, 1, :], zifa_scores[2, 1, :], pcmf_scores[2, 1, :]]"
   ]
  },
  {
   "cell_type": "code",
   "execution_count": null,
   "metadata": {},
   "outputs": [],
   "source": [
    "# Plot data\n",
    "legend=['PCA', 'ZIFA', 'pCMF']\n",
    "fig = plt.figure(figsize=(15, 4))\n",
    "\n",
    "ax1 = plt.subplot(1, 3, 1)\n",
    "plot_simulation_results(low_sep_no_zi, high_sep_no_zi, ax=ax1, title='No ZI')\n",
    "\n",
    "ax2 = plt.subplot(1, 3, 2)\n",
    "plot_simulation_results(low_sep_low_zi, high_sep_low_zi, ax=ax2, title='Low ZI')\n",
    "\n",
    "ax3 = plt.subplot(1, 3, 3)\n",
    "_, handles = plot_simulation_results(low_sep_low_zi, high_sep_low_zi, ax=ax3, legend=legend, title='High ZI')\n",
    "\n",
    "plt.legend(handles, legend, labelspacing=0.5, bbox_to_anchor=(1.3, 0.9))\n",
    "_ = [h.set_visible(False) for h in handles]\n",
    "\n",
    "plt.show()"
   ]
  },
  {
   "cell_type": "code",
   "execution_count": null,
   "metadata": {
    "scrolled": false
   },
   "outputs": [],
   "source": [
    "# Plot data\n",
    "s = 30\n",
    "alpha = 0.7\n",
    "\n",
    "fig = plt.figure(figsize=(10,10))\n",
    "ax1 = plt.subplot(2, 2, 1)\n",
    "handlers = []\n",
    "for c in range(C):\n",
    "    h = ax1.scatter(U[0, int(c*N/C):int((c+1)*N/C)], U[1, int(c*N/C):int((c+1)*N/C)], s=s, alpha=alpha)\n",
    "    handlers.append(h)\n",
    "ax1.legend(handlers, labels, scatterpoints=1)\n",
    "plt.title('True $\\mathbf{U}$')\n",
    "\n",
    "ax2 = plt.subplot(2, 2, 2)\n",
    "handlers = []\n",
    "for c in range(C):\n",
    "    h = ax2.scatter(est_U[int(c*N/C):int((c+1)*N/C), 0], est_U[int(c*N/C):int((c+1)*N/C), 1], s=s, alpha=alpha)\n",
    "    handlers.append(h)\n",
    "ax2.legend(handlers, labels, scatterpoints=1)\n",
    "plt.title('Mean estimated $\\mathbf{U}$')\n",
    "\n",
    "ax3 = plt.subplot(2, 2, 3)\n",
    "handlers = []\n",
    "for c in range(C):\n",
    "    h = ax3.scatter(zifa[int(c*N/C):int((c+1)*N/C), 0], zifa[int(c*N/C):int((c+1)*N/C), 1], s=s, alpha=alpha)\n",
    "    handlers.append(h)\n",
    "ax3.legend(handlers, labels, scatterpoints=1)\n",
    "plt.title('ZIFA')\n",
    "\n",
    "ax4 = plt.subplot(2, 2, 4)\n",
    "handlers = []\n",
    "for c in range(C):\n",
    "    h = ax4.scatter(pca[int(c*N/C):int((c+1)*N/C), 0], pca[int(c*N/C):int((c+1)*N/C), 1], s=s, alpha=alpha)\n",
    "    handlers.append(h)\n",
    "ax4.legend(handlers, labels, scatterpoints=1)\n",
    "plt.title('PCA')\n",
    "\n",
    "plt.show()"
   ]
  }
 ],
 "metadata": {
  "kernelspec": {
   "display_name": "Python 2",
   "language": "python",
   "name": "python2"
  },
  "language_info": {
   "codemirror_mode": {
    "name": "ipython",
    "version": 3
   },
   "file_extension": ".py",
   "mimetype": "text/x-python",
   "name": "python",
   "nbconvert_exporter": "python",
   "pygments_lexer": "ipython3",
   "version": "3.5.2"
  }
 },
 "nbformat": 4,
 "nbformat_minor": 2
}
