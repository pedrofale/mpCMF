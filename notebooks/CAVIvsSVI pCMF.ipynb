{
 "cells": [
  {
   "cell_type": "markdown",
   "metadata": {},
   "source": [
    "# CAVI vs CAVI-EB vs SVI vs SVI-EB"
   ]
  },
  {
   "cell_type": "code",
   "execution_count": 1,
   "metadata": {},
   "outputs": [],
   "source": [
    "from pCMF.misc import utils\n",
    "from pCMF.models.pcmf import cavi, svi\n",
    "\n",
    "import matplotlib.pyplot as plt\n",
    "from matplotlib.pyplot import cm\n",
    "import numpy as np\n",
    "from sklearn.decomposition import PCA\n",
    "from sklearn.manifold import TSNE\n",
    "from sklearn.metrics import silhouette_score\n",
    "from sklearn.model_selection import train_test_split\n",
    "\n",
    "from scipy.stats import gamma\n",
    "\n",
    "import operator\n",
    "import seaborn as sns\n",
    "sns.set_style('whitegrid')"
   ]
  },
  {
   "cell_type": "code",
   "execution_count": 2,
   "metadata": {},
   "outputs": [],
   "source": [
    "# Experiment parameters\n",
    "N = 1000 # number of observations\n",
    "P = 20 # observation space dimensionality\n",
    "K = 10 # latent space dimensionality\n",
    "C = 2 # number of clusters\n",
    "\n",
    "# Generate data set\n",
    "z_p = 0.5\n",
    "eps = 5.\n",
    "Y, D, X, R, V, U, clusters = utils.generate_data(N, P, K, C=C, zero_prob=z_p,\n",
    "                                                 eps=eps, return_all=True)\n",
    "\n",
    "Y_train, Y_test, U_train, U_test, c_train, c_test = train_test_split(Y, U.T, clusters, test_size=0.2, random_state=42)"
   ]
  },
  {
   "cell_type": "code",
   "execution_count": 3,
   "metadata": {},
   "outputs": [],
   "source": [
    "T = 2.\n",
    "S = 1."
   ]
  },
  {
   "cell_type": "code",
   "execution_count": 4,
   "metadata": {
    "scrolled": false
   },
   "outputs": [
    {
     "name": "stdout",
     "output_type": "stream",
     "text": [
      "PCMF:\n",
      "Iteration 1/4000. Log-likelihood: 26.618. Elapsed: 2 seconds\n"
     ]
    }
   ],
   "source": [
    "# Run PCA\n",
    "pca_U = PCA(n_components=K).fit_transform(np.log(Y_train + 1.))\n",
    "pca_tsne = TSNE(n_components=2).fit_transform(pca_U)\n",
    "\n",
    "# Run CAVI and get estimates (pCMF)\n",
    "alpha = np.ones((2, K))\n",
    "alpha[0, :] = 3.\n",
    "alpha[1, :] = 0.5\n",
    "beta = np.ones((2, P, K))\n",
    "pi_D = np.ones((P,)) * 0.5\n",
    "print('PCMF:')\n",
    "infpcmf = cavi.CoordinateAscentVI(Y_train, alpha, beta, pi_D)\n",
    "pcmf_ll = infpcmf.run_cavi(n_iterations=4000, empirical_bayes=False, return_ll=True, sampling_rate=S, max_time=T)\n",
    "pcmf_U = infpcmf.a[0] / infpcmf.a[1] # VI estimate is the mean of the variational approximation\n",
    "pcmf_V = infpcmf.b[0] / infpcmf.b[1]\n",
    "pcmf_tsne = TSNE(n_components=2).fit_transform(pcmf_U)"
   ]
  },
  {
   "cell_type": "code",
   "execution_count": 5,
   "metadata": {},
   "outputs": [
    {
     "name": "stdout",
     "output_type": "stream",
     "text": [
      "PCMF:\n",
      "Iteration 1/4000. Log-likelihood: 25.697. Elapsed: 2 seconds\n"
     ]
    }
   ],
   "source": [
    "# Run CAVI and get estimates (pCMF)\n",
    "alpha = np.ones((2, K))\n",
    "alpha[0, :] = 3.\n",
    "alpha[1, :] = 0.5\n",
    "beta = np.ones((2, P, K))\n",
    "pi_D = np.ones((P,)) * 0.5\n",
    "print('PCMF:')\n",
    "infpcmfeb = cavi.CoordinateAscentVI(Y_train, alpha, beta, pi_D)\n",
    "pcmfeb_ll = infpcmfeb.run_cavi(n_iterations=4000, empirical_bayes=True, return_ll=True, sampling_rate=S, max_time=T)\n",
    "pcmfeb_U = infpcmfeb.a[0] / infpcmfeb.a[1] # VI estimate is the mean of the variational approximation\n",
    "pcmfeb_V = infpcmfeb.b[0] / infpcmfeb.b[1]\n",
    "pcmfeb_tsne = TSNE(n_components=2).fit_transform(pcmfeb_U)"
   ]
  },
  {
   "cell_type": "code",
   "execution_count": 6,
   "metadata": {
    "scrolled": true
   },
   "outputs": [],
   "source": [
    "# for _ in range(100):\n",
    "#     pcmf_ll = inf.run_cavi(n_iterations=1, empirical_bayes=False, return_ll=True, sampling_rate=S, max_time=T)\n",
    "#     pcmf_U = inf.a[0] / inf.a[1] # VI estimate is the mean of the variational approximation\n",
    "#     pcmf_pca = PCA(n_components=2).fit_transform(pcmf_U)\n",
    "#     for c in range(C):\n",
    "#         plt.scatter(pcmf_pca[c_train==c, 0], pcmf_pca[c_train==c, 1], s=30, alpha=0.7)\n",
    "#     plt.show()"
   ]
  },
  {
   "cell_type": "code",
   "execution_count": 7,
   "metadata": {},
   "outputs": [
    {
     "name": "stdout",
     "output_type": "stream",
     "text": [
      "Stochastic PCMF:\n",
      "Iteration 11/4000. Log-likelihood: 9.803. Elapsed: 2 seconds\n"
     ]
    }
   ],
   "source": [
    "# Run SVI and get estimates (pCMF)\n",
    "alpha = np.ones((2, K))\n",
    "alpha[0, :] = 3.\n",
    "alpha[1, :] = 0.5\n",
    "beta = np.ones((2, P, K))\n",
    "pi_D = np.ones((P,)) * 0.5\n",
    "print('Stochastic PCMF:')\n",
    "infpcmfsvi = svi.StochasticVI(Y_train, alpha, beta, pi_D)\n",
    "pcmfsvi_ll = infpcmfsvi.run_svi(n_iterations=4000, minibatch_size=100, empirical_bayes=False, return_ll=True, sampling_rate=S, max_time=T)\n",
    "pcmfsvi_U = infpcmfsvi.a[0] / infpcmfsvi.a[1] # VI estimate is the mean of the variational approximation\n",
    "pcmfsvi_V = infpcmfsvi.b[0] / infpcmfsvi.b[1]\n",
    "pcmfsvi_tsne = TSNE(n_components=2).fit_transform(pcmfsvi_U)"
   ]
  },
  {
   "cell_type": "code",
   "execution_count": 8,
   "metadata": {},
   "outputs": [
    {
     "name": "stdout",
     "output_type": "stream",
     "text": [
      "Stochastic PCMF:\n",
      "Iteration 11/4000. Log-likelihood: 14.715. Elapsed: 2 seconds\n"
     ]
    }
   ],
   "source": [
    "# Run SVI and get estimates (pCMF)\n",
    "alpha = np.ones((2, K))\n",
    "alpha[0, :] = 3.\n",
    "alpha[1, :] = 0.5\n",
    "beta = np.ones((2, P, K))\n",
    "pi_D = np.ones((P,)) * 0.5\n",
    "print('Stochastic PCMF:')\n",
    "infpcmfsvieb = svi.StochasticVI(Y_train, alpha, beta, pi_D)\n",
    "pcmfsvieb_ll = infpcmfsvieb.run_svi(n_iterations=4000, minibatch_size=100, empirical_bayes=True, return_ll=True, sampling_rate=S, max_time=T)\n",
    "pcmfsvieb_U = infpcmfsvieb.a[0] / infpcmfsvieb.a[1] # VI estimate is the mean of the variational approximation\n",
    "pcmfsvieb_V = infpcmfsvieb.b[0] / infpcmfsvieb.b[1]\n",
    "pcmfsvieb_tsne = TSNE(n_components=2).fit_transform(pcmfsvieb_U)"
   ]
  },
  {
   "cell_type": "code",
   "execution_count": 9,
   "metadata": {},
   "outputs": [
    {
     "data": {
      "image/png": "[encoded data removed]",
      "text/plain": [
       "<Figure size 432x288 with 1 Axes>"
      ]
     },
     "metadata": {},
     "output_type": "display_data"
    }
   ],
   "source": [
    "plt.plot(pcmf_ll[1], label='PCMF')\n",
    "plt.plot(pcmfeb_ll[1], label='PCMFeb')\n",
    "plt.plot(pcmfsvi_ll[1], label='SPCMF')\n",
    "plt.plot(pcmfsvieb_ll[1], label='SPCMFeb')\n",
    "plt.ylabel('Average log-likelihood')\n",
    "plt.xlabel('Seconds')\n",
    "plt.title('Data set with N={} and P={}'.format(N, P))\n",
    "plt.legend()\n",
    "plt.show()"
   ]
  },
  {
   "cell_type": "code",
   "execution_count": 10,
   "metadata": {},
   "outputs": [
    {
     "name": "stdout",
     "output_type": "stream",
     "text": [
      "Full data log-likelihood:\n",
      "\u001b[1m- CAVI: 26.3\u001b[0m\n",
      "- CAVI-EB: 26.3\n",
      "- SVI-EB: 12.2\n",
      "- SVI: 11.4\n"
     ]
    }
   ],
   "source": [
    "pcmf_dll = utils.log_likelihood(Y_train, pcmf_U, pcmf_V, infpcmf.p)\n",
    "pcmfeb_dll = utils.log_likelihood(Y_train, pcmfeb_U, pcmfeb_V, infpcmfeb.p)\n",
    "pcmfsvi_dll = utils.log_likelihood(Y_train, pcmfsvi_U, pcmfsvi_V, infpcmfsvi.p)\n",
    "pcmfsvieb_dll = utils.log_likelihood(Y_train, pcmfsvieb_U, pcmfsvieb_V, infpcmfsvieb.p)\n",
    "\n",
    "scores = {'SVI': pcmfsvi_dll, 'CAVI-EB': pcmfeb_dll, 'SVI-EB': pcmfsvieb_dll, 'CAVI': pcmf_dll}\n",
    "\n",
    "sorted_scores = sorted(scores.items(), key=operator.itemgetter(1), reverse=True)\n",
    "\n",
    "print('Full data log-likelihood:')\n",
    "print('\\033[1m- {0}: {1:.3}\\033[0m'.format(sorted_scores[0][0], sorted_scores[0][1]))\n",
    "for score_tp in sorted_scores[1:]:\n",
    "    print('- {0}: {1:.3}'.format(score_tp[0], score_tp[1]))"
   ]
  },
  {
   "cell_type": "code",
   "execution_count": 12,
   "metadata": {},
   "outputs": [
    {
     "ename": "ValueError",
     "evalue": "could not broadcast input array from shape (800,20) into shape (200,20)",
     "output_type": "error",
     "traceback": [
      "\u001b[0;31m---------------------------------------------------------------------------\u001b[0m",
      "\u001b[0;31mValueError\u001b[0m                                Traceback (most recent call last)",
      "\u001b[0;32m<ipython-input-12-1c066ca4a265>\u001b[0m in \u001b[0;36m<module>\u001b[0;34m()\u001b[0m\n\u001b[1;32m      1\u001b[0m \u001b[0mpcmf_holl\u001b[0m \u001b[0;34m=\u001b[0m \u001b[0minfpcmf\u001b[0m\u001b[0;34m.\u001b[0m\u001b[0mpredictive_ll\u001b[0m\u001b[0;34m(\u001b[0m\u001b[0mY_test\u001b[0m\u001b[0;34m)\u001b[0m\u001b[0;34m\u001b[0m\u001b[0m\n\u001b[1;32m      2\u001b[0m \u001b[0mpcmfeb_holl\u001b[0m \u001b[0;34m=\u001b[0m \u001b[0minfpcmfeb\u001b[0m\u001b[0;34m.\u001b[0m\u001b[0mpredictive_ll\u001b[0m\u001b[0;34m(\u001b[0m\u001b[0mY_test\u001b[0m\u001b[0;34m)\u001b[0m\u001b[0;34m\u001b[0m\u001b[0m\n\u001b[0;32m----> 3\u001b[0;31m \u001b[0mpcmfsvi_holl\u001b[0m \u001b[0;34m=\u001b[0m \u001b[0minfpcmfsvi\u001b[0m\u001b[0;34m.\u001b[0m\u001b[0mpredictive_ll\u001b[0m\u001b[0;34m(\u001b[0m\u001b[0mY_test\u001b[0m\u001b[0;34m)\u001b[0m\u001b[0;34m\u001b[0m\u001b[0m\n\u001b[0m\u001b[1;32m      4\u001b[0m \u001b[0mpcmfsvieb_holl\u001b[0m \u001b[0;34m=\u001b[0m \u001b[0minfpcmfsvieb\u001b[0m\u001b[0;34m.\u001b[0m\u001b[0mpredictive_ll\u001b[0m\u001b[0;34m(\u001b[0m\u001b[0mY_test\u001b[0m\u001b[0;34m)\u001b[0m\u001b[0;34m\u001b[0m\u001b[0m\n\u001b[1;32m      5\u001b[0m \u001b[0;34m\u001b[0m\u001b[0m\n",
      "\u001b[0;32m~/pCMF/pCMF/models/pcmf/svi.py\u001b[0m in \u001b[0;36mpredictive_ll\u001b[0;34m(self, X_test, n_iterations, S)\u001b[0m\n\u001b[1;32m     52\u001b[0m                         \u001b[0mr\u001b[0m \u001b[0;34m=\u001b[0m \u001b[0mself\u001b[0m\u001b[0;34m.\u001b[0m\u001b[0mupdate_r\u001b[0m\u001b[0;34m(\u001b[0m\u001b[0mr\u001b[0m\u001b[0;34m,\u001b[0m \u001b[0mX_test\u001b[0m\u001b[0;34m,\u001b[0m \u001b[0ma\u001b[0m\u001b[0;34m,\u001b[0m \u001b[0mp\u001b[0m\u001b[0;34m)\u001b[0m \u001b[0;31m# parameter of Multinomial\u001b[0m\u001b[0;34m\u001b[0m\u001b[0m\n\u001b[1;32m     53\u001b[0m                         \u001b[0ma\u001b[0m \u001b[0;34m=\u001b[0m \u001b[0mself\u001b[0m\u001b[0;34m.\u001b[0m\u001b[0mupdate_a\u001b[0m\u001b[0;34m(\u001b[0m\u001b[0ma\u001b[0m\u001b[0;34m,\u001b[0m \u001b[0mX_test\u001b[0m\u001b[0;34m,\u001b[0m \u001b[0mp\u001b[0m\u001b[0;34m,\u001b[0m \u001b[0mr\u001b[0m\u001b[0;34m)\u001b[0m \u001b[0;31m# parameters of Gamma\u001b[0m\u001b[0;34m\u001b[0m\u001b[0m\n\u001b[0;32m---> 54\u001b[0;31m                         \u001b[0mp\u001b[0m \u001b[0;34m=\u001b[0m \u001b[0mself\u001b[0m\u001b[0;34m.\u001b[0m\u001b[0mupdate_p\u001b[0m\u001b[0;34m(\u001b[0m\u001b[0mp\u001b[0m\u001b[0;34m,\u001b[0m \u001b[0mX_test\u001b[0m\u001b[0;34m,\u001b[0m \u001b[0ma\u001b[0m\u001b[0;34m,\u001b[0m \u001b[0mr\u001b[0m\u001b[0;34m)\u001b[0m \u001b[0;31m# parameters of Bernoulli\u001b[0m\u001b[0;34m\u001b[0m\u001b[0m\n\u001b[0m\u001b[1;32m     55\u001b[0m \u001b[0;34m\u001b[0m\u001b[0m\n\u001b[1;32m     56\u001b[0m                 \u001b[0;31m# # Monte Carlo estimation of the posterior predictive: use S samples\u001b[0m\u001b[0;34m\u001b[0m\u001b[0;34m\u001b[0m\u001b[0m\n",
      "\u001b[0;32m~/pCMF/pCMF/models/pcmf/svi.py\u001b[0m in \u001b[0;36mupdate_p\u001b[0;34m(self, p, X, a, r, mb_idx)\u001b[0m\n\u001b[1;32m    101\u001b[0m \u001b[0;34m\u001b[0m\u001b[0m\n\u001b[1;32m    102\u001b[0m                 \u001b[0;32mif\u001b[0m \u001b[0mmb_idx\u001b[0m \u001b[0;32mis\u001b[0m \u001b[0;32mNone\u001b[0m\u001b[0;34m:\u001b[0m\u001b[0;34m\u001b[0m\u001b[0m\n\u001b[0;32m--> 103\u001b[0;31m                         \u001b[0mp\u001b[0m\u001b[0;34m[\u001b[0m\u001b[0;34m:\u001b[0m\u001b[0;34m,\u001b[0m \u001b[0;34m:\u001b[0m\u001b[0;34m]\u001b[0m \u001b[0;34m=\u001b[0m \u001b[0mnp\u001b[0m\u001b[0;34m.\u001b[0m\u001b[0mexp\u001b[0m\u001b[0;34m(\u001b[0m\u001b[0mlogit_p\u001b[0m\u001b[0;34m)\u001b[0m \u001b[0;34m/\u001b[0m \u001b[0;34m(\u001b[0m\u001b[0;36m1.\u001b[0m \u001b[0;34m+\u001b[0m \u001b[0mnp\u001b[0m\u001b[0;34m.\u001b[0m\u001b[0mexp\u001b[0m\u001b[0;34m(\u001b[0m\u001b[0mlogit_p\u001b[0m\u001b[0;34m)\u001b[0m\u001b[0;34m)\u001b[0m\u001b[0;34m\u001b[0m\u001b[0m\n\u001b[0m\u001b[1;32m    104\u001b[0m                 \u001b[0;32melse\u001b[0m\u001b[0;34m:\u001b[0m\u001b[0;34m\u001b[0m\u001b[0m\n\u001b[1;32m    105\u001b[0m                         \u001b[0mp\u001b[0m\u001b[0;34m[\u001b[0m\u001b[0mmb_idx\u001b[0m\u001b[0;34m,\u001b[0m \u001b[0;34m:\u001b[0m\u001b[0;34m]\u001b[0m \u001b[0;34m=\u001b[0m \u001b[0mnp\u001b[0m\u001b[0;34m.\u001b[0m\u001b[0mexp\u001b[0m\u001b[0;34m(\u001b[0m\u001b[0mlogit_p\u001b[0m\u001b[0;34m[\u001b[0m\u001b[0mmb_idx\u001b[0m\u001b[0;34m,\u001b[0m \u001b[0;34m:\u001b[0m\u001b[0;34m]\u001b[0m\u001b[0;34m)\u001b[0m \u001b[0;34m/\u001b[0m \u001b[0;34m(\u001b[0m\u001b[0;36m1.\u001b[0m \u001b[0;34m+\u001b[0m \u001b[0mnp\u001b[0m\u001b[0;34m.\u001b[0m\u001b[0mexp\u001b[0m\u001b[0;34m(\u001b[0m\u001b[0mlogit_p\u001b[0m\u001b[0;34m[\u001b[0m\u001b[0mmb_idx\u001b[0m\u001b[0;34m,\u001b[0m \u001b[0;34m:\u001b[0m\u001b[0;34m]\u001b[0m\u001b[0;34m)\u001b[0m\u001b[0;34m)\u001b[0m\u001b[0;34m\u001b[0m\u001b[0m\n",
      "\u001b[0;31mValueError\u001b[0m: could not broadcast input array from shape (800,20) into shape (200,20)"
     ]
    }
   ],
   "source": [
    "pcmf_holl = infpcmf.predictive_ll(Y_test)\n",
    "pcmfeb_holl = infpcmfeb.predictive_ll(Y_test)\n",
    "pcmfsvi_holl = infpcmfsvi.predictive_ll(Y_test)\n",
    "pcmfsvieb_holl = infpcmfsvieb.predictive_ll(Y_test)\n",
    "\n",
    "scores = {'SVI': pcmfsvi_holl, 'CAVI-EB': pcmfeb_holl, 'SVI-EB': pcmfsvieb_holl, 'CAVI': pcmf_v}\n",
    "\n",
    "sorted_scores = sorted(scores.items(), key=operator.itemgetter(1), reverse=True)\n",
    "\n",
    "print('Held-out log-likelihood:')\n",
    "print('\\033[1m- {0}: {1:.3}\\033[0m'.format(sorted_scores[0][0], sorted_scores[0][1]))\n",
    "for score_tp in sorted_scores[1:]:\n",
    "    print('- {0}: {1:.3}'.format(score_tp[0], score_tp[1]))"
   ]
  },
  {
   "cell_type": "code",
   "execution_count": null,
   "metadata": {},
   "outputs": [],
   "source": [
    "U_list = [pcmf_tsne, pcmfeb_tsne, pcmfsvi_tsne, pcmfsvieb_tsne, pca_tsne]\n",
    "title_list = ['CAVI', 'CAVI-EB', 'SVI', 'SVI-EB', 'PCA']\n",
    "\n",
    "n_results = len(U_list)\n",
    "\n",
    "assert len(U_list) == len(title_list)\n",
    "\n",
    "fig = plt.figure(figsize=(16, 4))\n",
    "\n",
    "s = 30\n",
    "alpha = 0.7\n",
    "labels=None\n",
    "for i in range(len(U_list)):\n",
    "    ax = plt.subplot(1, n_results, i+1)\n",
    "    handlers = []\n",
    "    for c in range(C):\n",
    "        h = ax.scatter(U_list[i][c_train==c, 0], U_list[i][c_train==c, 1], s=s, alpha=alpha)\n",
    "        handlers.append(h)\n",
    "    if labels is not None:\n",
    "        ax.legend(handlers, labels, scatterpoints=1)\n",
    "    plt.title(title_list[i])\n",
    "plt.show()"
   ]
  },
  {
   "cell_type": "code",
   "execution_count": null,
   "metadata": {
    "scrolled": true
   },
   "outputs": [],
   "source": [
    "true_silh = silhouette_score(U_train, c_train)\n",
    "pcmf_silh = silhouette_score(pcmf_U, c_train)\n",
    "pcmfeb_silh = silhouette_score(pcmfeb_U, c_train)\n",
    "pcmfsvi_silh = silhouette_score(pcmfsvi_U, c_train)\n",
    "pcmfsvieb_silh = silhouette_score(pcmfsvieb_U, c_train)\n",
    "pca_silh = silhouette_score(pca_U, c_train)\n",
    "\n",
    "scores = {'SVI': pcmfsvi_silh, 'CAVI-EB': pcmfeb_silh, 'SVI-EB': pcmfsvieb_silh, 'CAVI': pcmf_silh, 'PCA': pca_silh}\n",
    "\n",
    "sorted_scores = sorted(scores.items(), key=operator.itemgetter(1), reverse=True)\n",
    "\n",
    "print('Silhouette scores (higher is better):')\n",
    "print('\\033[1m- {0}: {1:.3}\\033[0m'.format(sorted_scores[0][0], sorted_scores[0][1]))\n",
    "for score_tp in sorted_scores[1:]:\n",
    "    print('- {0}: {1:.3}'.format(score_tp[0], score_tp[1]))\n",
    "    \n",
    "print('\\nSilhouette of true U:')\n",
    "print('%0.3f' % true_silh)"
   ]
  }
 ],
 "metadata": {
  "kernelspec": {
   "display_name": "Python 3",
   "language": "python",
   "name": "python3"
  },
  "language_info": {
   "codemirror_mode": {
    "name": "ipython",
    "version": 3
   },
   "file_extension": ".py",
   "mimetype": "text/x-python",
   "name": "python",
   "nbconvert_exporter": "python",
   "pygments_lexer": "ipython3",
   "version": "3.6.3"
  }
 },
 "nbformat": 4,
 "nbformat_minor": 2
}
